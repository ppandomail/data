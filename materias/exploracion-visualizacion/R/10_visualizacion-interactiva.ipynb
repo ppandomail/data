{
 "cells": [
  {
   "cell_type": "markdown",
   "id": "a8a26e58-63a9-41ea-9dc4-91aab9cde23d",
   "metadata": {},
   "source": [
    "# Visualización interactiva"
   ]
  },
  {
   "cell_type": "code",
   "execution_count": null,
   "id": "52d4ee19-7e38-4085-b795-3680857a826f",
   "metadata": {},
   "outputs": [],
   "source": [
    "library(dplyr)\n",
    "library(tidyr)\n",
    "#library(hrbrthemes)\n",
    "#library(dslabs)"
   ]
  },
  {
   "cell_type": "code",
   "execution_count": null,
   "id": "21bf06f3-b040-42d9-9844-8305dde6a988",
   "metadata": {},
   "outputs": [],
   "source": [
    "setwd(\"/Users/ppando/Materias/data/materias/exploracion-visualizacion/R\")"
   ]
  },
  {
   "cell_type": "code",
   "execution_count": null,
   "id": "32c954b8-55dc-45ba-a2f7-a96e3546c3cf",
   "metadata": {},
   "outputs": [],
   "source": [
    "nombres <- read.table(\"historico-nombres.csv\", sep = \",\", header = TRUE)\n",
    "head(nombres)"
   ]
  },
  {
   "cell_type": "code",
   "execution_count": null,
   "id": "b45aa76b-fe7c-409f-8e3e-4c6798ae1667",
   "metadata": {},
   "outputs": [],
   "source": [
    "df_graficar_anio <- nombres %>% \n",
    "    filter(nombre %in% c(\"Juan\", \"Maria\", \"Emilio\", \"Eva\"), anio >= 1950, anio <  2010) %>% \n",
    "    select(-X) %>% \n",
    "    mutate(decada = anio %/% 10 * 10)"
   ]
  },
  {
   "cell_type": "code",
   "execution_count": null,
   "id": "a83339aa-3a28-4c1c-b975-c8071a7bbaca",
   "metadata": {},
   "outputs": [],
   "source": [
    "df_graficar_decada <- df_graficar_anio %>% \n",
    "    select(-anio) %>% \n",
    "    group_by(nombre, decada) %>% \n",
    "    summarise(cantidad = sum(cantidad))"
   ]
  },
  {
   "cell_type": "code",
   "execution_count": null,
   "id": "51a90f59-7668-48b5-8c00-68dcdfbc84f3",
   "metadata": {},
   "outputs": [],
   "source": [
    "library(ggplot2)\n",
    "library(plotly)"
   ]
  },
  {
   "cell_type": "code",
   "execution_count": null,
   "id": "4abfccf6-adf7-49bb-bea6-01af214a95c7",
   "metadata": {},
   "outputs": [],
   "source": [
    "ggplotly(ggplot(data = df_graficar_decada, mapping = aes(x = decada, y= cantidad, fill = nombre)) + \n",
    "         geom_col(position = \"fill\") + \n",
    "         theme_classic())"
   ]
  },
  {
   "cell_type": "code",
   "execution_count": null,
   "id": "64b9c389-d5d2-473f-a5bb-e3f643f44fb4",
   "metadata": {},
   "outputs": [],
   "source": [
    "ggplotly(ggplot(data = df_graficar_anio) + \n",
    "    geom_boxplot(mapping = aes(x = nombre, y = cantidad, fill = nombre)) +\n",
    "    facet_wrap(~decada) +\n",
    "    theme_bw()\n",
    ")"
   ]
  },
  {
   "cell_type": "code",
   "execution_count": null,
   "id": "9c4362e1-6346-4efe-ae80-4ff9e4940ad5",
   "metadata": {},
   "outputs": [],
   "source": [
    "paises <- read.csv(\"paises.csv\", sep =\";\")"
   ]
  },
  {
   "cell_type": "code",
   "execution_count": null,
   "id": "7aa64846-7075-4cc8-8e95-8e499d430809",
   "metadata": {},
   "outputs": [],
   "source": [
    "p <- paises %>% \n",
    "    ggplot(aes(Tasa_de_crecimiento, y= Poblacion_urbana, size = Poblacion_2020, color = Continente, text= Pais)) + \n",
    "    geom_point(alpha = 0.7) + \n",
    "    scale_size(range = c(1, 5)) + \n",
    "    theme_ipsum()\n",
    "ggplotly(p)"
   ]
  },
  {
   "cell_type": "code",
   "execution_count": null,
   "id": "ce7915cc-7f99-49a4-98be-72030234bd96",
   "metadata": {},
   "outputs": [],
   "source": [
    "library(gganimate)\n",
    "library(gifski)"
   ]
  },
  {
   "cell_type": "code",
   "execution_count": null,
   "id": "40115744-672c-46f1-a369-7bd20ac03f9e",
   "metadata": {},
   "outputs": [],
   "source": [
    "anim <- ggplot(data = df_graficar_anio, aes(x = anio, y = cantidad, color = nombre)) + \n",
    "    geom_line() + \n",
    "    geom_point() + \n",
    "    theme_classic() + \n",
    "    transition_reveal(anio)\n",
    "animate(anim, nframes = 200, , fps = 10, renderer = gifski_renderer(\"gganim.gif\"))"
   ]
  },
  {
   "cell_type": "code",
   "execution_count": null,
   "id": "4d85cefe-a363-439a-ba5d-4b7263a22169",
   "metadata": {},
   "outputs": [],
   "source": [
    "data(\"gapminder\")\n",
    "\n",
    "p <- ggplot(gapminder, aes(x = gdp, y=life_expectancy, size = population, colour = continent)) + \n",
    "    geom_point(show.legend = TRUE, alpha = 0.7) + \n",
    "    scale_color_viridis_d() + \n",
    "    scale_size(range = c(2, 12)) + \n",
    "    scale_x_log10() + \n",
    "    theme_classic() + \n",
    "    labs(x = \"GDP per capita\", y = \"Life expectancy\")\n",
    "\n",
    "p + transition_time(year) + labs(title = \"Year: {frame_time}\")"
   ]
  },
  {
   "cell_type": "code",
   "execution_count": null,
   "id": "1dbfc048-8cd8-4e7e-bab3-e4a7fcd11bea",
   "metadata": {},
   "outputs": [],
   "source": []
  },
  {
   "cell_type": "code",
   "execution_count": null,
   "id": "1816fd38-0795-4d8d-9845-4f9f565531f2",
   "metadata": {},
   "outputs": [],
   "source": []
  },
  {
   "cell_type": "code",
   "execution_count": null,
   "id": "a072fda1-981c-4a58-8266-9abee0d1ea2d",
   "metadata": {},
   "outputs": [],
   "source": []
  }
 ],
 "metadata": {
  "kernelspec": {
   "display_name": "R",
   "language": "R",
   "name": "ir"
  },
  "language_info": {
   "codemirror_mode": "r",
   "file_extension": ".r",
   "mimetype": "text/x-r-source",
   "name": "R",
   "pygments_lexer": "r",
   "version": "4.4.3"
  }
 },
 "nbformat": 4,
 "nbformat_minor": 5
}
