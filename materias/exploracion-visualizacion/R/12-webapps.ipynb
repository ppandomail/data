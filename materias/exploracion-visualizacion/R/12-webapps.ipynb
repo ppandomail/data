{
 "cells": [
  {
   "cell_type": "markdown",
   "id": "85cc4e16-8e7f-475b-ba82-6be104b2a2b9",
   "metadata": {},
   "source": [
    "# Aplicaciones web interactivas"
   ]
  },
  {
   "cell_type": "code",
   "execution_count": 1,
   "id": "2ce45eb9-8ece-4b55-bef4-48834183f54c",
   "metadata": {},
   "outputs": [],
   "source": [
    "library(shiny)"
   ]
  },
  {
   "cell_type": "code",
   "execution_count": 2,
   "id": "e8559a87-5ab3-45e0-907d-0d7751449fbc",
   "metadata": {},
   "outputs": [],
   "source": [
    "setwd(\"/Users/ppando/Materias/data/materias/exploracion-visualizacion/R\")"
   ]
  },
  {
   "cell_type": "code",
   "execution_count": null,
   "id": "7269ac26-687a-4184-9b61-547a88fcb5bb",
   "metadata": {},
   "outputs": [],
   "source": [
    "runApp(\"Ejemplo_histograma\")"
   ]
  },
  {
   "cell_type": "code",
   "execution_count": null,
   "id": "f4e7ac47-5f58-4af8-b8b4-5ecd4e9a73b8",
   "metadata": {},
   "outputs": [],
   "source": [
    "runExample(\"11_timer\", display.mode = \"showcase\")"
   ]
  },
  {
   "cell_type": "code",
   "execution_count": null,
   "id": "b67e1d62-8ee2-4787-b5dd-278f2059cd31",
   "metadata": {},
   "outputs": [],
   "source": [
    "runApp(\"Nombres_Argentina\")"
   ]
  }
 ],
 "metadata": {
  "kernelspec": {
   "display_name": "R",
   "language": "R",
   "name": "ir"
  },
  "language_info": {
   "codemirror_mode": "r",
   "file_extension": ".r",
   "mimetype": "text/x-r-source",
   "name": "R",
   "pygments_lexer": "r",
   "version": "4.4.3"
  }
 },
 "nbformat": 4,
 "nbformat_minor": 5
}
