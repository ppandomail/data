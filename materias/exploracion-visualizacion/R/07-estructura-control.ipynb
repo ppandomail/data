{
 "cells": [
  {
   "cell_type": "markdown",
   "id": "2e8c80c8-fa91-4335-a612-d0a2062a7008",
   "metadata": {},
   "source": [
    "# Estructuras de control"
   ]
  },
  {
   "cell_type": "code",
   "execution_count": 1,
   "id": "30fcf9f0-d559-48be-a83d-893272a451f7",
   "metadata": {},
   "outputs": [
    {
     "name": "stdout",
     "output_type": "stream",
     "text": [
      "[1] \"b\"\n"
     ]
    }
   ],
   "source": [
    "x <- 2\n",
    "if (x == 1) print(\"a\") else print(\"b\")"
   ]
  },
  {
   "cell_type": "code",
   "execution_count": 3,
   "id": "8595632e-4722-49b9-9e48-76ae42276a95",
   "metadata": {},
   "outputs": [
    {
     "name": "stdout",
     "output_type": "stream",
     "text": [
      "[1] 1\n",
      "[1] 2\n",
      "[1] 3\n",
      "[1] 4\n",
      "[1] 5\n"
     ]
    }
   ],
   "source": [
    "for (i in 1 : 5) print(i)"
   ]
  },
  {
   "cell_type": "code",
   "execution_count": 4,
   "id": "59edf0aa-509d-4a2d-a81d-b18572a72033",
   "metadata": {},
   "outputs": [
    {
     "name": "stdout",
     "output_type": "stream",
     "text": [
      "[1] 0\n",
      "[1] 1\n",
      "[1] 2\n",
      "[1] 3\n",
      "[1] 4\n"
     ]
    }
   ],
   "source": [
    "c <- 0\n",
    "while (c < 5) {\n",
    "  print(c)\n",
    "  c <- c + 1\n",
    "}"
   ]
  },
  {
   "cell_type": "code",
   "execution_count": 5,
   "id": "5eb96dfc-e7f8-401c-be7a-c5201e720150",
   "metadata": {},
   "outputs": [],
   "source": [
    "suma <- function(x, y=2) {\n",
    "  return (x + y)\n",
    "}"
   ]
  },
  {
   "cell_type": "code",
   "execution_count": 6,
   "id": "d1c26138-b825-4453-a851-f811ee050dde",
   "metadata": {},
   "outputs": [
    {
     "name": "stdout",
     "output_type": "stream",
     "text": [
      "[1] 4\n",
      "[1] 3\n"
     ]
    }
   ],
   "source": [
    "print(suma(1, 3))\n",
    "print(suma(1))"
   ]
  },
  {
   "cell_type": "code",
   "execution_count": 7,
   "id": "02d2c28c-5217-4d79-9be2-5be2122b6565",
   "metadata": {},
   "outputs": [],
   "source": [
    "incr_edad <- function() {\n",
    "  e <- as.numeric(readline('Edad: '))\n",
    "  print(e+1)\n",
    "}"
   ]
  },
  {
   "cell_type": "code",
   "execution_count": 8,
   "id": "d6aed5dd-2b77-425c-9b55-914019b28b8e",
   "metadata": {},
   "outputs": [
    {
     "name": "stdin",
     "output_type": "stream",
     "text": [
      "Edad:  35\n"
     ]
    },
    {
     "name": "stdout",
     "output_type": "stream",
     "text": [
      "[1] 36\n"
     ]
    }
   ],
   "source": [
    "incr_edad()"
   ]
  },
  {
   "cell_type": "markdown",
   "id": "246aea92-778f-4bf8-a605-939668fd8768",
   "metadata": {},
   "source": [
    "## Ejercicios"
   ]
  },
  {
   "cell_type": "markdown",
   "id": "056d2627-044d-488e-9305-587657a1f72b",
   "metadata": {},
   "source": [
    "Comprobación de Par o Impar: desarrollar un procedimiento que tome un número entero como entrada y devuelva si el número es par o impar: \n",
    "* Si el número es par: \"El número es par\" \n",
    "* Si el número es impar: \"El número es impar\""
   ]
  },
  {
   "cell_type": "code",
   "execution_count": 12,
   "id": "fefba4ab-8aed-4a7f-ac4f-1b63334993d1",
   "metadata": {},
   "outputs": [],
   "source": [
    "par_impar <- function(numero) {\n",
    "  if (numero %% 2 == 0) print(\"El número es par\") else (\"El número es impar\")\n",
    "}"
   ]
  },
  {
   "cell_type": "code",
   "execution_count": 13,
   "id": "2966cc37-7d10-4573-a1fc-1dee2210cb8f",
   "metadata": {},
   "outputs": [
    {
     "name": "stdout",
     "output_type": "stream",
     "text": [
      "[1] \"El número es par\"\n"
     ]
    }
   ],
   "source": [
    "par_impar(2)"
   ]
  },
  {
   "cell_type": "code",
   "execution_count": 14,
   "id": "31fcbf09-883d-48e1-b1ad-5f48bf100904",
   "metadata": {},
   "outputs": [
    {
     "data": {
      "text/html": [
       "'El número es impar'"
      ],
      "text/latex": [
       "'El número es impar'"
      ],
      "text/markdown": [
       "'El número es impar'"
      ],
      "text/plain": [
       "[1] \"El número es impar\""
      ]
     },
     "metadata": {},
     "output_type": "display_data"
    }
   ],
   "source": [
    "par_impar(3)"
   ]
  },
  {
   "cell_type": "markdown",
   "id": "11017ecd-c278-41f3-9f6a-e8a003d24d82",
   "metadata": {},
   "source": [
    "Análisis de Temperatura:  crea un script que evalúe la temperatura ingresada por el usuario y devuelva un mensaje según los siguientes rangos: \n",
    "* Menos de 0°C: \"Hace frío\" \n",
    "* Entre 0°C y 20°C: \"Temperatura templada\" \n",
    "* Más de 20°C: \"Hace calor\""
   ]
  },
  {
   "cell_type": "code",
   "execution_count": 15,
   "id": "1fbfba11-fe26-4c79-a807-09928d094a0c",
   "metadata": {},
   "outputs": [],
   "source": [
    "temperatura <- function() {\n",
    "  temp <- as.numeric(readline('Temperatura: '))\n",
    "  if (temp < 0) return (\"Hace frío\")\n",
    "  if (temp <= 20) return (\"Temperatura templada\")\n",
    "  return (\"Hace calor\")\n",
    "}"
   ]
  },
  {
   "cell_type": "code",
   "execution_count": 16,
   "id": "5c332171-add3-45ec-a393-463d7d73d8e7",
   "metadata": {},
   "outputs": [
    {
     "name": "stdin",
     "output_type": "stream",
     "text": [
      "Temperatura:  15\n"
     ]
    },
    {
     "name": "stdout",
     "output_type": "stream",
     "text": [
      "[1] \"Temperatura templada\"\n"
     ]
    }
   ],
   "source": [
    "print(temperatura())"
   ]
  },
  {
   "cell_type": "markdown",
   "id": "b4eb3f4b-bd69-4438-8b33-e2a86070038b",
   "metadata": {},
   "source": [
    "Suma de Números: escribir un código que use un bucle for para calcular la suma de los primeros 100 números enteros. Imprime el resultado"
   ]
  },
  {
   "cell_type": "code",
   "execution_count": 17,
   "id": "22ee9772-8abe-4118-b6ad-ca92d4befedf",
   "metadata": {},
   "outputs": [],
   "source": [
    "suma_numeros <- function() {\n",
    "  acum <- 0\n",
    "  for (i in 1:100)\n",
    "    acum <- acum + i\n",
    "  print(acum)\n",
    "}"
   ]
  },
  {
   "cell_type": "code",
   "execution_count": 18,
   "id": "43f2de73-67ee-436f-a845-70f3356cff75",
   "metadata": {},
   "outputs": [
    {
     "name": "stdout",
     "output_type": "stream",
     "text": [
      "[1] 5050\n"
     ]
    }
   ],
   "source": [
    "suma_numeros()"
   ]
  },
  {
   "cell_type": "markdown",
   "id": "491188dd-3f40-4c53-a723-412eac3adaf0",
   "metadata": {},
   "source": [
    "Contador de Números Pares: crear un script que utilice un bucle while para contar cuántos números pares hay entre 1 y 50. Imprimir el total de números pares encontrados"
   ]
  },
  {
   "cell_type": "code",
   "execution_count": 19,
   "id": "3a079fd7-3075-4ec3-b499-6e899574d183",
   "metadata": {},
   "outputs": [],
   "source": [
    "pares <- function() {\n",
    "  i <- 1\n",
    "  cont <- 0\n",
    "  while (i <= 50) {\n",
    "    if (i %% 2 == 0) {\n",
    "      cont <- cont + 1\n",
    "    }\n",
    "    i <- i + 1\n",
    "  }\n",
    "  print(cont)\n",
    "}"
   ]
  },
  {
   "cell_type": "code",
   "execution_count": 21,
   "id": "c0bff6dc-d504-4a05-83ff-ccd13b3af9ba",
   "metadata": {},
   "outputs": [
    {
     "name": "stdout",
     "output_type": "stream",
     "text": [
      "[1] 25\n"
     ]
    }
   ],
   "source": [
    "pares()"
   ]
  },
  {
   "cell_type": "markdown",
   "id": "46045adb-f8d3-4e23-b5df-f644f995c388",
   "metadata": {},
   "source": [
    "Generación de Números Aleatorios: escribir un código que use un bucle repeat para generar números aleatorios entre 1 y 100 hasta que se genere un número mayor a 90. Imprimir todos los números generados"
   ]
  },
  {
   "cell_type": "code",
   "execution_count": 22,
   "id": "da4fed5e-a61a-428f-aa1f-8424b65bc8d2",
   "metadata": {},
   "outputs": [],
   "source": [
    "aleatorios <- function() {\n",
    "  repeat {\n",
    "    n <- sample(1:100, 1, replace=TRUE)\n",
    "    if (n > 90) break\n",
    "    print(n)\n",
    "  }\n",
    "}"
   ]
  },
  {
   "cell_type": "code",
   "execution_count": 23,
   "id": "799dfbae-85f4-4715-b470-c057d3f50b4b",
   "metadata": {},
   "outputs": [
    {
     "name": "stdout",
     "output_type": "stream",
     "text": [
      "[1] 78\n",
      "[1] 25\n",
      "[1] 50\n",
      "[1] 58\n",
      "[1] 30\n"
     ]
    }
   ],
   "source": [
    "aleatorios()"
   ]
  },
  {
   "cell_type": "markdown",
   "id": "45bc69fe-cf81-44fe-b4fe-d794e5b3cf36",
   "metadata": {},
   "source": [
    "En un famoso casino, la ruleta está formada por 18 números negros, 18 rojos y 2 verdes. Un jugador tiene un capital de 100 y apuesta 1 al rojo cada vez que juega. Si cuando apuesta al rojo sale rojo, entonces recupera su inversión duplicada. Si pierde no recupera nada\n",
    "* a) Simular una realización de juego de ruleta y a partir de ella calcular el capital del jugador al finalizar un juego\n",
    "* b) Crear una función cantidad juegos que dada una cantidad Nrep de simulaciones del experimento calcule la cantidad de veces que puede jugar el jugador hasta quedarse sin dinero\n",
    "* c) Simular 1000 veces el experimento del ítem b y calcular el promedio de los resultados"
   ]
  },
  {
   "cell_type": "code",
   "execution_count": null,
   "id": "0dd1beb4-0c5e-4e05-a901-1c8ec772eeca",
   "metadata": {},
   "outputs": [],
   "source": [
    "# Simulación de una jugada en la ruleta\n",
    "jugar_ruleta <- function(capital_inicial = 100) {\n",
    "  apuesta <- 1\n",
    "  resultado <- sample(c(rep(\"rojo\", 18), rep(\"negro\", 18), rep(\"verde\", 2)), 1)\n",
    "  \n",
    "  if (resultado == \"rojo\") {\n",
    "    capital_inicial <- capital_inicial + apuesta # Gana y duplica su inversión\n",
    "  } else {\n",
    "    capital_inicial <- capital_inicial - apuesta # Pierde\n",
    "  }\n",
    "  \n",
    "  return(capital_inicial)\n",
    "}\n",
    "\n",
    "# Función que calcula cuántas veces puede jugar hasta quedarse sin dinero\n",
    "cantidad_juegos <- function(n_repeticiones, capital_inicial = 100) {\n",
    "  juegos_por_repeticion <- numeric(n_repeticiones)\n",
    "  \n",
    "  for (i in 1:n_repeticiones) {\n",
    "    capital <- capital_inicial\n",
    "    juegos <- 0\n",
    "    while (capital > 0) {\n",
    "      capital <- jugar_ruleta(capital)\n",
    "      juegos <- juegos + 1\n",
    "    }\n",
    "    juegos_por_repeticion[i] <- juegos\n",
    "  }\n",
    "  \n",
    "  return(juegos_por_repeticion)\n",
    "}\n",
    "\n",
    "# Simulación 1000 veces y cálculo del promedio\n",
    "n_repeticiones <- 1000\n",
    "resultados <- cantidad_juegos(n_repeticiones)\n",
    "promedio_juegos <- mean(resultados)\n",
    "\n",
    "cat(sprintf(\"Promedio de juegos antes de quedarse sin dinero tras %d simulaciones: %.2f\\n\", \n",
    "            n_repeticiones, promedio_juegos))"
   ]
  }
 ],
 "metadata": {
  "kernelspec": {
   "display_name": "R",
   "language": "R",
   "name": "ir"
  },
  "language_info": {
   "codemirror_mode": "r",
   "file_extension": ".r",
   "mimetype": "text/x-r-source",
   "name": "R",
   "pygments_lexer": "r",
   "version": "4.4.3"
  }
 },
 "nbformat": 4,
 "nbformat_minor": 5
}
