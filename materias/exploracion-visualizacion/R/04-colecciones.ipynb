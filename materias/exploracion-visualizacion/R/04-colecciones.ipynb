{
 "cells": [
  {
   "cell_type": "markdown",
   "id": "3a7040d9-cea2-4b5d-b5f5-2c984832f98e",
   "metadata": {},
   "source": [
    "# Colecciones"
   ]
  },
  {
   "cell_type": "markdown",
   "id": "6ba4a145-6e96-48c9-aaa3-103013ecc818",
   "metadata": {},
   "source": [
    "## Matriz"
   ]
  },
  {
   "cell_type": "code",
   "execution_count": 28,
   "id": "4dc0e6e4-c35d-44fd-a862-5ccd7c6b270f",
   "metadata": {},
   "outputs": [
    {
     "data": {
      "text/html": [
       "<table class=\"dataframe\">\n",
       "<caption>A matrix: 2 × 3 of type lgl</caption>\n",
       "<tbody>\n",
       "\t<tr><td>NA</td><td>NA</td><td>NA</td></tr>\n",
       "\t<tr><td>NA</td><td>NA</td><td>NA</td></tr>\n",
       "</tbody>\n",
       "</table>\n"
      ],
      "text/latex": [
       "A matrix: 2 × 3 of type lgl\n",
       "\\begin{tabular}{lll}\n",
       "\t NA & NA & NA\\\\\n",
       "\t NA & NA & NA\\\\\n",
       "\\end{tabular}\n"
      ],
      "text/markdown": [
       "\n",
       "A matrix: 2 × 3 of type lgl\n",
       "\n",
       "| NA | NA | NA |\n",
       "| NA | NA | NA |\n",
       "\n"
      ],
      "text/plain": [
       "     [,1] [,2] [,3]\n",
       "[1,] NA   NA   NA  \n",
       "[2,] NA   NA   NA  "
      ]
     },
     "metadata": {},
     "output_type": "display_data"
    }
   ],
   "source": [
    "m <- matrix(nrow = 2, ncol = 3)\n",
    "m"
   ]
  },
  {
   "cell_type": "code",
   "execution_count": 29,
   "id": "16cd604e-8e28-4509-8743-b8470b28baa4",
   "metadata": {},
   "outputs": [
    {
     "data": {
      "text/html": [
       "<style>\n",
       ".list-inline {list-style: none; margin:0; padding: 0}\n",
       ".list-inline>li {display: inline-block}\n",
       ".list-inline>li:not(:last-child)::after {content: \"\\00b7\"; padding: 0 .5ex}\n",
       "</style>\n",
       "<ol class=list-inline><li>2</li><li>3</li></ol>\n"
      ],
      "text/latex": [
       "\\begin{enumerate*}\n",
       "\\item 2\n",
       "\\item 3\n",
       "\\end{enumerate*}\n"
      ],
      "text/markdown": [
       "1. 2\n",
       "2. 3\n",
       "\n",
       "\n"
      ],
      "text/plain": [
       "[1] 2 3"
      ]
     },
     "metadata": {},
     "output_type": "display_data"
    }
   ],
   "source": [
    "dim(m)"
   ]
  },
  {
   "cell_type": "code",
   "execution_count": 30,
   "id": "c84a8454-fb6e-432d-a087-987364624bb8",
   "metadata": {},
   "outputs": [
    {
     "data": {
      "text/html": [
       "<table class=\"dataframe\">\n",
       "<caption>A matrix: 2 × 3 of type int</caption>\n",
       "<tbody>\n",
       "\t<tr><td>1</td><td>3</td><td>5</td></tr>\n",
       "\t<tr><td>2</td><td>4</td><td>6</td></tr>\n",
       "</tbody>\n",
       "</table>\n"
      ],
      "text/latex": [
       "A matrix: 2 × 3 of type int\n",
       "\\begin{tabular}{lll}\n",
       "\t 1 & 3 & 5\\\\\n",
       "\t 2 & 4 & 6\\\\\n",
       "\\end{tabular}\n"
      ],
      "text/markdown": [
       "\n",
       "A matrix: 2 × 3 of type int\n",
       "\n",
       "| 1 | 3 | 5 |\n",
       "| 2 | 4 | 6 |\n",
       "\n"
      ],
      "text/plain": [
       "     [,1] [,2] [,3]\n",
       "[1,] 1    3    5   \n",
       "[2,] 2    4    6   "
      ]
     },
     "metadata": {},
     "output_type": "display_data"
    }
   ],
   "source": [
    "# se completa col por col de izq a der\n",
    "m <- matrix(1:6, nrow = 2, ncol = 3)\n",
    "m"
   ]
  },
  {
   "cell_type": "markdown",
   "id": "83a35c49-9366-4502-bda4-58bf83836945",
   "metadata": {},
   "source": [
    "## Lista"
   ]
  },
  {
   "cell_type": "code",
   "execution_count": 31,
   "id": "786ff368-7b5a-41bc-bad7-807d71f4b6e9",
   "metadata": {},
   "outputs": [
    {
     "data": {
      "text/html": [
       "<dl>\n",
       "\t<dt>$Numeros</dt>\n",
       "\t\t<dd><style>\n",
       ".list-inline {list-style: none; margin:0; padding: 0}\n",
       ".list-inline>li {display: inline-block}\n",
       ".list-inline>li:not(:last-child)::after {content: \"\\00b7\"; padding: 0 .5ex}\n",
       "</style>\n",
       "<ol class=list-inline><li>1</li><li>2</li><li>3</li><li>4</li><li>5</li></ol>\n",
       "</dd>\n",
       "\t<dt>$Cadena</dt>\n",
       "\t\t<dd><style>\n",
       ".list-inline {list-style: none; margin:0; padding: 0}\n",
       ".list-inline>li {display: inline-block}\n",
       ".list-inline>li:not(:last-child)::after {content: \"\\00b7\"; padding: 0 .5ex}\n",
       "</style>\n",
       "<ol class=list-inline><li>'Hola'</li><li>'Hola'</li></ol>\n",
       "</dd>\n",
       "\t<dt>$Matriz</dt>\n",
       "\t\t<dd><table class=\"dataframe\">\n",
       "<caption>A matrix: 2 × 3 of type int</caption>\n",
       "<tbody>\n",
       "\t<tr><td>1</td><td>3</td><td>5</td></tr>\n",
       "\t<tr><td>2</td><td>4</td><td>6</td></tr>\n",
       "</tbody>\n",
       "</table>\n",
       "</dd>\n",
       "</dl>\n"
      ],
      "text/latex": [
       "\\begin{description}\n",
       "\\item[\\$Numeros] \\begin{enumerate*}\n",
       "\\item 1\n",
       "\\item 2\n",
       "\\item 3\n",
       "\\item 4\n",
       "\\item 5\n",
       "\\end{enumerate*}\n",
       "\n",
       "\\item[\\$Cadena] \\begin{enumerate*}\n",
       "\\item 'Hola'\n",
       "\\item 'Hola'\n",
       "\\end{enumerate*}\n",
       "\n",
       "\\item[\\$Matriz] A matrix: 2 × 3 of type int\n",
       "\\begin{tabular}{lll}\n",
       "\t 1 & 3 & 5\\\\\n",
       "\t 2 & 4 & 6\\\\\n",
       "\\end{tabular}\n",
       "\n",
       "\\end{description}\n"
      ],
      "text/markdown": [
       "$Numeros\n",
       ":   1. 1\n",
       "2. 2\n",
       "3. 3\n",
       "4. 4\n",
       "5. 5\n",
       "\n",
       "\n",
       "\n",
       "$Cadena\n",
       ":   1. 'Hola'\n",
       "2. 'Hola'\n",
       "\n",
       "\n",
       "\n",
       "$Matriz\n",
       ":   \n",
       "A matrix: 2 × 3 of type int\n",
       "\n",
       "| 1 | 3 | 5 |\n",
       "| 2 | 4 | 6 |\n",
       "\n",
       "\n",
       "\n",
       "\n"
      ],
      "text/plain": [
       "$Numeros\n",
       "[1] 1 2 3 4 5\n",
       "\n",
       "$Cadena\n",
       "[1] \"Hola\" \"Hola\"\n",
       "\n",
       "$Matriz\n",
       "     [,1] [,2] [,3]\n",
       "[1,]    1    3    5\n",
       "[2,]    2    4    6\n"
      ]
     },
     "metadata": {},
     "output_type": "display_data"
    }
   ],
   "source": [
    "lista <- list(Numeros = 1:5, Cadena = c(\"Hola\", \"Hola\"), Matriz = matrix(1:6, nrow = 2, ncol = 3))\n",
    "lista"
   ]
  },
  {
   "cell_type": "code",
   "execution_count": 32,
   "id": "d300d7af-df72-4c2d-8084-9a61a0a98474",
   "metadata": {},
   "outputs": [
    {
     "data": {
      "text/html": [
       "<ol>\n",
       "\t<li><dl>\n",
       "\t<dt>$Numeros</dt>\n",
       "\t\t<dd><style>\n",
       ".list-inline {list-style: none; margin:0; padding: 0}\n",
       ".list-inline>li {display: inline-block}\n",
       ".list-inline>li:not(:last-child)::after {content: \"\\00b7\"; padding: 0 .5ex}\n",
       "</style>\n",
       "<ol class=list-inline><li>1</li><li>2</li><li>3</li><li>4</li><li>5</li></ol>\n",
       "</dd>\n",
       "\t<dt>$Cadena</dt>\n",
       "\t\t<dd><style>\n",
       ".list-inline {list-style: none; margin:0; padding: 0}\n",
       ".list-inline>li {display: inline-block}\n",
       ".list-inline>li:not(:last-child)::after {content: \"\\00b7\"; padding: 0 .5ex}\n",
       "</style>\n",
       "<ol class=list-inline><li>'Hola'</li><li>'Hola'</li></ol>\n",
       "</dd>\n",
       "\t<dt>$Matriz</dt>\n",
       "\t\t<dd><table class=\"dataframe\">\n",
       "<caption>A matrix: 2 × 3 of type int</caption>\n",
       "<tbody>\n",
       "\t<tr><td>1</td><td>3</td><td>5</td></tr>\n",
       "\t<tr><td>2</td><td>4</td><td>6</td></tr>\n",
       "</tbody>\n",
       "</table>\n",
       "</dd>\n",
       "</dl>\n",
       "</li>\n",
       "\t<li><dl>\n",
       "\t<dt>$Numeros</dt>\n",
       "\t\t<dd><style>\n",
       ".list-inline {list-style: none; margin:0; padding: 0}\n",
       ".list-inline>li {display: inline-block}\n",
       ".list-inline>li:not(:last-child)::after {content: \"\\00b7\"; padding: 0 .5ex}\n",
       "</style>\n",
       "<ol class=list-inline><li>1</li><li>2</li><li>3</li><li>4</li><li>5</li></ol>\n",
       "</dd>\n",
       "\t<dt>$Cadena</dt>\n",
       "\t\t<dd><style>\n",
       ".list-inline {list-style: none; margin:0; padding: 0}\n",
       ".list-inline>li {display: inline-block}\n",
       ".list-inline>li:not(:last-child)::after {content: \"\\00b7\"; padding: 0 .5ex}\n",
       "</style>\n",
       "<ol class=list-inline><li>'Hola'</li><li>'Hola'</li></ol>\n",
       "</dd>\n",
       "\t<dt>$Matriz</dt>\n",
       "\t\t<dd><table class=\"dataframe\">\n",
       "<caption>A matrix: 2 × 3 of type int</caption>\n",
       "<tbody>\n",
       "\t<tr><td>1</td><td>3</td><td>5</td></tr>\n",
       "\t<tr><td>2</td><td>4</td><td>6</td></tr>\n",
       "</tbody>\n",
       "</table>\n",
       "</dd>\n",
       "</dl>\n",
       "</li>\n",
       "</ol>\n"
      ],
      "text/latex": [
       "\\begin{enumerate}\n",
       "\\item \\begin{description}\n",
       "\\item[\\$Numeros] \\begin{enumerate*}\n",
       "\\item 1\n",
       "\\item 2\n",
       "\\item 3\n",
       "\\item 4\n",
       "\\item 5\n",
       "\\end{enumerate*}\n",
       "\n",
       "\\item[\\$Cadena] \\begin{enumerate*}\n",
       "\\item 'Hola'\n",
       "\\item 'Hola'\n",
       "\\end{enumerate*}\n",
       "\n",
       "\\item[\\$Matriz] A matrix: 2 × 3 of type int\n",
       "\\begin{tabular}{lll}\n",
       "\t 1 & 3 & 5\\\\\n",
       "\t 2 & 4 & 6\\\\\n",
       "\\end{tabular}\n",
       "\n",
       "\\end{description}\n",
       "\n",
       "\\item \\begin{description}\n",
       "\\item[\\$Numeros] \\begin{enumerate*}\n",
       "\\item 1\n",
       "\\item 2\n",
       "\\item 3\n",
       "\\item 4\n",
       "\\item 5\n",
       "\\end{enumerate*}\n",
       "\n",
       "\\item[\\$Cadena] \\begin{enumerate*}\n",
       "\\item 'Hola'\n",
       "\\item 'Hola'\n",
       "\\end{enumerate*}\n",
       "\n",
       "\\item[\\$Matriz] A matrix: 2 × 3 of type int\n",
       "\\begin{tabular}{lll}\n",
       "\t 1 & 3 & 5\\\\\n",
       "\t 2 & 4 & 6\\\\\n",
       "\\end{tabular}\n",
       "\n",
       "\\end{description}\n",
       "\n",
       "\\end{enumerate}\n"
      ],
      "text/markdown": [
       "1. $Numeros\n",
       ":   1. 1\n",
       "2. 2\n",
       "3. 3\n",
       "4. 4\n",
       "5. 5\n",
       "\n",
       "\n",
       "\n",
       "$Cadena\n",
       ":   1. 'Hola'\n",
       "2. 'Hola'\n",
       "\n",
       "\n",
       "\n",
       "$Matriz\n",
       ":   \n",
       "A matrix: 2 × 3 of type int\n",
       "\n",
       "| 1 | 3 | 5 |\n",
       "| 2 | 4 | 6 |\n",
       "\n",
       "\n",
       "\n",
       "\n",
       "\n",
       "2. $Numeros\n",
       ":   1. 1\n",
       "2. 2\n",
       "3. 3\n",
       "4. 4\n",
       "5. 5\n",
       "\n",
       "\n",
       "\n",
       "$Cadena\n",
       ":   1. 'Hola'\n",
       "2. 'Hola'\n",
       "\n",
       "\n",
       "\n",
       "$Matriz\n",
       ":   \n",
       "A matrix: 2 × 3 of type int\n",
       "\n",
       "| 1 | 3 | 5 |\n",
       "| 2 | 4 | 6 |\n",
       "\n",
       "\n",
       "\n",
       "\n",
       "\n",
       "\n",
       "\n"
      ],
      "text/plain": [
       "[[1]]\n",
       "[[1]]$Numeros\n",
       "[1] 1 2 3 4 5\n",
       "\n",
       "[[1]]$Cadena\n",
       "[1] \"Hola\" \"Hola\"\n",
       "\n",
       "[[1]]$Matriz\n",
       "     [,1] [,2] [,3]\n",
       "[1,]    1    3    5\n",
       "[2,]    2    4    6\n",
       "\n",
       "\n",
       "[[2]]\n",
       "[[2]]$Numeros\n",
       "[1] 1 2 3 4 5\n",
       "\n",
       "[[2]]$Cadena\n",
       "[1] \"Hola\" \"Hola\"\n",
       "\n",
       "[[2]]$Matriz\n",
       "     [,1] [,2] [,3]\n",
       "[1,]    1    3    5\n",
       "[2,]    2    4    6\n",
       "\n"
      ]
     },
     "metadata": {},
     "output_type": "display_data"
    }
   ],
   "source": [
    "# lista de listas\n",
    "lista_1 <- list(lista, lista)\n",
    "lista_1"
   ]
  },
  {
   "cell_type": "code",
   "execution_count": 33,
   "id": "82a44d03-3be5-4461-b4a3-531eb3e08c4b",
   "metadata": {},
   "outputs": [
    {
     "data": {
      "text/html": [
       "<ol>\n",
       "\t<li>'a'</li>\n",
       "\t<li>'b'</li>\n",
       "\t<li>'c'</li>\n",
       "</ol>\n"
      ],
      "text/latex": [
       "\\begin{enumerate}\n",
       "\\item 'a'\n",
       "\\item 'b'\n",
       "\\item 'c'\n",
       "\\end{enumerate}\n"
      ],
      "text/markdown": [
       "1. 'a'\n",
       "2. 'b'\n",
       "3. 'c'\n",
       "\n",
       "\n"
      ],
      "text/plain": [
       "[[1]]\n",
       "[1] \"a\"\n",
       "\n",
       "[[2]]\n",
       "[1] \"b\"\n",
       "\n",
       "[[3]]\n",
       "[1] \"c\"\n"
      ]
     },
     "metadata": {},
     "output_type": "display_data"
    }
   ],
   "source": [
    "lista <- list(\"a\", \"b\", \"c\")\n",
    "lista"
   ]
  },
  {
   "cell_type": "code",
   "execution_count": 34,
   "id": "00535265-c5d1-4a4e-832b-6ae142b1ce4c",
   "metadata": {},
   "outputs": [
    {
     "data": {
      "text/html": [
       "<ol>\n",
       "\t<li>'d'</li>\n",
       "\t<li>'b'</li>\n",
       "\t<li>'c'</li>\n",
       "</ol>\n"
      ],
      "text/latex": [
       "\\begin{enumerate}\n",
       "\\item 'd'\n",
       "\\item 'b'\n",
       "\\item 'c'\n",
       "\\end{enumerate}\n"
      ],
      "text/markdown": [
       "1. 'd'\n",
       "2. 'b'\n",
       "3. 'c'\n",
       "\n",
       "\n"
      ],
      "text/plain": [
       "[[1]]\n",
       "[1] \"d\"\n",
       "\n",
       "[[2]]\n",
       "[1] \"b\"\n",
       "\n",
       "[[3]]\n",
       "[1] \"c\"\n"
      ]
     },
     "metadata": {},
     "output_type": "display_data"
    }
   ],
   "source": [
    "lista[1] <- \"d\"\n",
    "lista"
   ]
  },
  {
   "cell_type": "code",
   "execution_count": 35,
   "id": "78b37954-add6-4c6c-b557-64214dd54bcf",
   "metadata": {},
   "outputs": [
    {
     "data": {
      "text/html": [
       "3"
      ],
      "text/latex": [
       "3"
      ],
      "text/markdown": [
       "3"
      ],
      "text/plain": [
       "[1] 3"
      ]
     },
     "metadata": {},
     "output_type": "display_data"
    }
   ],
   "source": [
    "length(lista)"
   ]
  },
  {
   "cell_type": "code",
   "execution_count": 36,
   "id": "7692ff50-70a6-4b72-bead-3b0232d48b63",
   "metadata": {},
   "outputs": [
    {
     "data": {
      "text/html": [
       "FALSE"
      ],
      "text/latex": [
       "FALSE"
      ],
      "text/markdown": [
       "FALSE"
      ],
      "text/plain": [
       "[1] FALSE"
      ]
     },
     "metadata": {},
     "output_type": "display_data"
    }
   ],
   "source": [
    "\"a\" %in% lista"
   ]
  },
  {
   "cell_type": "code",
   "execution_count": 37,
   "id": "4361fb76-81f5-4894-86fe-ba0d3cf09e75",
   "metadata": {},
   "outputs": [
    {
     "data": {
      "text/html": [
       "<ol>\n",
       "\t<li>'d'</li>\n",
       "\t<li>'b'</li>\n",
       "\t<li>'c'</li>\n",
       "\t<li>'e'</li>\n",
       "</ol>\n"
      ],
      "text/latex": [
       "\\begin{enumerate}\n",
       "\\item 'd'\n",
       "\\item 'b'\n",
       "\\item 'c'\n",
       "\\item 'e'\n",
       "\\end{enumerate}\n"
      ],
      "text/markdown": [
       "1. 'd'\n",
       "2. 'b'\n",
       "3. 'c'\n",
       "4. 'e'\n",
       "\n",
       "\n"
      ],
      "text/plain": [
       "[[1]]\n",
       "[1] \"d\"\n",
       "\n",
       "[[2]]\n",
       "[1] \"b\"\n",
       "\n",
       "[[3]]\n",
       "[1] \"c\"\n",
       "\n",
       "[[4]]\n",
       "[1] \"e\"\n"
      ]
     },
     "metadata": {},
     "output_type": "display_data"
    }
   ],
   "source": [
    "append(lista, \"e\")"
   ]
  },
  {
   "cell_type": "code",
   "execution_count": 38,
   "id": "44303fcf-361e-44ca-9e75-28d3f7fcd90c",
   "metadata": {},
   "outputs": [
    {
     "data": {
      "text/html": [
       "<ol>\n",
       "\t<li>'d'</li>\n",
       "\t<li>'b'</li>\n",
       "\t<li>'z'</li>\n",
       "\t<li>'c'</li>\n",
       "</ol>\n"
      ],
      "text/latex": [
       "\\begin{enumerate}\n",
       "\\item 'd'\n",
       "\\item 'b'\n",
       "\\item 'z'\n",
       "\\item 'c'\n",
       "\\end{enumerate}\n"
      ],
      "text/markdown": [
       "1. 'd'\n",
       "2. 'b'\n",
       "3. 'z'\n",
       "4. 'c'\n",
       "\n",
       "\n"
      ],
      "text/plain": [
       "[[1]]\n",
       "[1] \"d\"\n",
       "\n",
       "[[2]]\n",
       "[1] \"b\"\n",
       "\n",
       "[[3]]\n",
       "[1] \"z\"\n",
       "\n",
       "[[4]]\n",
       "[1] \"c\"\n"
      ]
     },
     "metadata": {},
     "output_type": "display_data"
    }
   ],
   "source": [
    "append(lista, \"z\", after = 2)"
   ]
  },
  {
   "cell_type": "code",
   "execution_count": 39,
   "id": "d1278785-d064-4398-bd05-1f7f468da42a",
   "metadata": {},
   "outputs": [
    {
     "data": {
      "text/html": [
       "<ol>\n",
       "\t<li>'b'</li>\n",
       "\t<li>'c'</li>\n",
       "</ol>\n"
      ],
      "text/latex": [
       "\\begin{enumerate}\n",
       "\\item 'b'\n",
       "\\item 'c'\n",
       "\\end{enumerate}\n"
      ],
      "text/markdown": [
       "1. 'b'\n",
       "2. 'c'\n",
       "\n",
       "\n"
      ],
      "text/plain": [
       "[[1]]\n",
       "[1] \"b\"\n",
       "\n",
       "[[2]]\n",
       "[1] \"c\"\n"
      ]
     },
     "metadata": {},
     "output_type": "display_data"
    }
   ],
   "source": [
    "lista <- lista[-1]\n",
    "lista"
   ]
  },
  {
   "cell_type": "code",
   "execution_count": 40,
   "id": "32085aa7-27b6-4a34-8077-497044b01136",
   "metadata": {},
   "outputs": [
    {
     "data": {
      "text/html": [
       "<ol>\n",
       "\t<li>'b'</li>\n",
       "</ol>\n"
      ],
      "text/latex": [
       "\\begin{enumerate}\n",
       "\\item 'b'\n",
       "\\end{enumerate}\n"
      ],
      "text/markdown": [
       "1. 'b'\n",
       "\n",
       "\n"
      ],
      "text/plain": [
       "[[1]]\n",
       "[1] \"b\"\n"
      ]
     },
     "metadata": {},
     "output_type": "display_data"
    }
   ],
   "source": [
    "# primer objeto\n",
    "lista[1]              "
   ]
  },
  {
   "cell_type": "code",
   "execution_count": 41,
   "id": "7fa5bcb8-8f47-413e-839b-93718500f8d5",
   "metadata": {},
   "outputs": [
    {
     "data": {
      "text/html": [
       "'b'"
      ],
      "text/latex": [
       "'b'"
      ],
      "text/markdown": [
       "'b'"
      ],
      "text/plain": [
       "[1] \"b\""
      ]
     },
     "metadata": {},
     "output_type": "display_data"
    }
   ],
   "source": [
    "# primer elemento del primer objeto\n",
    "lista[[1]][1]"
   ]
  },
  {
   "cell_type": "code",
   "execution_count": 42,
   "id": "3f883faf-198f-4c16-9e77-92bbd434e9e4",
   "metadata": {},
   "outputs": [
    {
     "ename": "ERROR",
     "evalue": "Error in lista[[3]]: subscript out of bounds\n",
     "output_type": "error",
     "traceback": [
      "Error in lista[[3]]: subscript out of bounds\nTraceback:\n"
     ]
    }
   ],
   "source": [
    "# del tercer objeto de la lista (matriz), extraemos el elemento ubicado en la fila 2, columna 3\n",
    "lista[[3]][2, 3]"
   ]
  },
  {
   "cell_type": "code",
   "execution_count": 43,
   "id": "6e1016d4-04ee-4320-8951-3b9d0b319664",
   "metadata": {},
   "outputs": [
    {
     "data": {
      "text/html": [
       "<ol>\n",
       "\t<li>'b'</li>\n",
       "</ol>\n"
      ],
      "text/latex": [
       "\\begin{enumerate}\n",
       "\\item 'b'\n",
       "\\end{enumerate}\n"
      ],
      "text/markdown": [
       "1. 'b'\n",
       "\n",
       "\n"
      ],
      "text/plain": [
       "[[1]]\n",
       "[1] \"b\"\n"
      ]
     },
     "metadata": {},
     "output_type": "display_data"
    },
    {
     "data": {
      "text/html": [
       "<ol>\n",
       "\t<li>'b'</li>\n",
       "\t<li>'c'</li>\n",
       "</ol>\n"
      ],
      "text/latex": [
       "\\begin{enumerate}\n",
       "\\item 'b'\n",
       "\\item 'c'\n",
       "\\end{enumerate}\n"
      ],
      "text/markdown": [
       "1. 'b'\n",
       "2. 'c'\n",
       "\n",
       "\n"
      ],
      "text/plain": [
       "[[1]]\n",
       "[1] \"b\"\n",
       "\n",
       "[[2]]\n",
       "[1] \"c\"\n"
      ]
     },
     "metadata": {},
     "output_type": "display_data"
    }
   ],
   "source": [
    "# todos los objetos menos el último\n",
    "lista[-length(lista)]\n",
    "lista"
   ]
  },
  {
   "cell_type": "markdown",
   "id": "8c8875f0-9689-40a2-869c-af25b8d53ae6",
   "metadata": {},
   "source": [
    "## Dataframe"
   ]
  },
  {
   "cell_type": "code",
   "execution_count": 72,
   "id": "50f14e61-ddcb-432b-ba9f-064c17600aa4",
   "metadata": {},
   "outputs": [
    {
     "data": {
      "text/html": [
       "<table class=\"dataframe\">\n",
       "<caption>A data.frame: 4 × 2</caption>\n",
       "<thead>\n",
       "\t<tr><th scope=col>fruta</th><th scope=col>cant</th></tr>\n",
       "\t<tr><th scope=col>&lt;chr&gt;</th><th scope=col>&lt;int&gt;</th></tr>\n",
       "</thead>\n",
       "<tbody>\n",
       "\t<tr><td>manzana</td><td>1</td></tr>\n",
       "\t<tr><td>pera   </td><td>2</td></tr>\n",
       "\t<tr><td>banana </td><td>3</td></tr>\n",
       "\t<tr><td>ciruela</td><td>4</td></tr>\n",
       "</tbody>\n",
       "</table>\n"
      ],
      "text/latex": [
       "A data.frame: 4 × 2\n",
       "\\begin{tabular}{ll}\n",
       " fruta & cant\\\\\n",
       " <chr> & <int>\\\\\n",
       "\\hline\n",
       "\t manzana & 1\\\\\n",
       "\t pera    & 2\\\\\n",
       "\t banana  & 3\\\\\n",
       "\t ciruela & 4\\\\\n",
       "\\end{tabular}\n"
      ],
      "text/markdown": [
       "\n",
       "A data.frame: 4 × 2\n",
       "\n",
       "| fruta &lt;chr&gt; | cant &lt;int&gt; |\n",
       "|---|---|\n",
       "| manzana | 1 |\n",
       "| pera    | 2 |\n",
       "| banana  | 3 |\n",
       "| ciruela | 4 |\n",
       "\n"
      ],
      "text/plain": [
       "  fruta   cant\n",
       "1 manzana 1   \n",
       "2 pera    2   \n",
       "3 banana  3   \n",
       "4 ciruela 4   "
      ]
     },
     "metadata": {},
     "output_type": "display_data"
    }
   ],
   "source": [
    "df <- data.frame(fruta = c(\"manzana\", \"pera\", \"banana\", \"ciruela\"), cant = 1:4)\n",
    "df"
   ]
  },
  {
   "cell_type": "code",
   "execution_count": 73,
   "id": "b2b0d7a6-77a0-4b26-b5df-98dcf385d2ea",
   "metadata": {},
   "outputs": [
    {
     "data": {
      "text/html": [
       "4"
      ],
      "text/latex": [
       "4"
      ],
      "text/markdown": [
       "4"
      ],
      "text/plain": [
       "[1] 4"
      ]
     },
     "metadata": {},
     "output_type": "display_data"
    }
   ],
   "source": [
    "# número de filas\n",
    "nrow(df)"
   ]
  },
  {
   "cell_type": "code",
   "execution_count": 74,
   "id": "32a188e3-b847-4313-92bd-9a79ba615ce8",
   "metadata": {},
   "outputs": [
    {
     "data": {
      "text/html": [
       "2"
      ],
      "text/latex": [
       "2"
      ],
      "text/markdown": [
       "2"
      ],
      "text/plain": [
       "[1] 2"
      ]
     },
     "metadata": {},
     "output_type": "display_data"
    }
   ],
   "source": [
    "# número de columnas\n",
    "ncol(df)      "
   ]
  },
  {
   "cell_type": "code",
   "execution_count": 75,
   "id": "657cc971-9350-4afb-a228-be545e1a5471",
   "metadata": {},
   "outputs": [
    {
     "data": {
      "text/html": [
       "<style>\n",
       ".list-inline {list-style: none; margin:0; padding: 0}\n",
       ".list-inline>li {display: inline-block}\n",
       ".list-inline>li:not(:last-child)::after {content: \"\\00b7\"; padding: 0 .5ex}\n",
       "</style>\n",
       "<ol class=list-inline><li>'fruta'</li><li>'cant'</li></ol>\n"
      ],
      "text/latex": [
       "\\begin{enumerate*}\n",
       "\\item 'fruta'\n",
       "\\item 'cant'\n",
       "\\end{enumerate*}\n"
      ],
      "text/markdown": [
       "1. 'fruta'\n",
       "2. 'cant'\n",
       "\n",
       "\n"
      ],
      "text/plain": [
       "[1] \"fruta\" \"cant\" "
      ]
     },
     "metadata": {},
     "output_type": "display_data"
    }
   ],
   "source": [
    "# nombres de las columnas\n",
    "colnames(df)  "
   ]
  },
  {
   "cell_type": "code",
   "execution_count": 76,
   "id": "4ce2d876-eac7-40af-a7be-5fedee17a765",
   "metadata": {},
   "outputs": [
    {
     "data": {
      "text/html": [
       "<style>\n",
       ".list-inline {list-style: none; margin:0; padding: 0}\n",
       ".list-inline>li {display: inline-block}\n",
       ".list-inline>li:not(:last-child)::after {content: \"\\00b7\"; padding: 0 .5ex}\n",
       "</style>\n",
       "<ol class=list-inline><li>'1'</li><li>'2'</li><li>'3'</li><li>'4'</li></ol>\n"
      ],
      "text/latex": [
       "\\begin{enumerate*}\n",
       "\\item '1'\n",
       "\\item '2'\n",
       "\\item '3'\n",
       "\\item '4'\n",
       "\\end{enumerate*}\n"
      ],
      "text/markdown": [
       "1. '1'\n",
       "2. '2'\n",
       "3. '3'\n",
       "4. '4'\n",
       "\n",
       "\n"
      ],
      "text/plain": [
       "[1] \"1\" \"2\" \"3\" \"4\""
      ]
     },
     "metadata": {},
     "output_type": "display_data"
    }
   ],
   "source": [
    "# nombres de las filas\n",
    "row.names(df)"
   ]
  },
  {
   "cell_type": "code",
   "execution_count": null,
   "id": "367e566b-b3da-4a3c-8f20-06807e2101af",
   "metadata": {},
   "outputs": [],
   "source": [
    "attributes(df)"
   ]
  },
  {
   "cell_type": "code",
   "execution_count": 77,
   "id": "30251028-5f74-42cc-a519-799a07cf6f6e",
   "metadata": {},
   "outputs": [
    {
     "data": {
      "text/html": [
       "<table class=\"dataframe\">\n",
       "<caption>A data.frame: 4 × 1</caption>\n",
       "<thead>\n",
       "\t<tr><th scope=col>fruta</th></tr>\n",
       "\t<tr><th scope=col>&lt;chr&gt;</th></tr>\n",
       "</thead>\n",
       "<tbody>\n",
       "\t<tr><td>manzana</td></tr>\n",
       "\t<tr><td>pera   </td></tr>\n",
       "\t<tr><td>banana </td></tr>\n",
       "\t<tr><td>ciruela</td></tr>\n",
       "</tbody>\n",
       "</table>\n"
      ],
      "text/latex": [
       "A data.frame: 4 × 1\n",
       "\\begin{tabular}{l}\n",
       " fruta\\\\\n",
       " <chr>\\\\\n",
       "\\hline\n",
       "\t manzana\\\\\n",
       "\t pera   \\\\\n",
       "\t banana \\\\\n",
       "\t ciruela\\\\\n",
       "\\end{tabular}\n"
      ],
      "text/markdown": [
       "\n",
       "A data.frame: 4 × 1\n",
       "\n",
       "| fruta &lt;chr&gt; |\n",
       "|---|\n",
       "| manzana |\n",
       "| pera    |\n",
       "| banana  |\n",
       "| ciruela |\n",
       "\n"
      ],
      "text/plain": [
       "  fruta  \n",
       "1 manzana\n",
       "2 pera   \n",
       "3 banana \n",
       "4 ciruela"
      ]
     },
     "metadata": {},
     "output_type": "display_data"
    }
   ],
   "source": [
    "df[1]"
   ]
  },
  {
   "cell_type": "code",
   "execution_count": 78,
   "id": "4ec98772-5fba-464d-8ab6-391a092e861c",
   "metadata": {},
   "outputs": [
    {
     "data": {
      "text/html": [
       "<style>\n",
       ".list-inline {list-style: none; margin:0; padding: 0}\n",
       ".list-inline>li {display: inline-block}\n",
       ".list-inline>li:not(:last-child)::after {content: \"\\00b7\"; padding: 0 .5ex}\n",
       "</style>\n",
       "<ol class=list-inline><li>'manzana'</li><li>'pera'</li><li>'banana'</li><li>'ciruela'</li></ol>\n"
      ],
      "text/latex": [
       "\\begin{enumerate*}\n",
       "\\item 'manzana'\n",
       "\\item 'pera'\n",
       "\\item 'banana'\n",
       "\\item 'ciruela'\n",
       "\\end{enumerate*}\n"
      ],
      "text/markdown": [
       "1. 'manzana'\n",
       "2. 'pera'\n",
       "3. 'banana'\n",
       "4. 'ciruela'\n",
       "\n",
       "\n"
      ],
      "text/plain": [
       "[1] \"manzana\" \"pera\"    \"banana\"  \"ciruela\""
      ]
     },
     "metadata": {},
     "output_type": "display_data"
    }
   ],
   "source": [
    "df[[\"fruta\"]]"
   ]
  },
  {
   "cell_type": "code",
   "execution_count": 79,
   "id": "7c9e9547-9b4a-4fe1-88ed-5b675823bb44",
   "metadata": {},
   "outputs": [
    {
     "data": {
      "text/html": [
       "<style>\n",
       ".list-inline {list-style: none; margin:0; padding: 0}\n",
       ".list-inline>li {display: inline-block}\n",
       ".list-inline>li:not(:last-child)::after {content: \"\\00b7\"; padding: 0 .5ex}\n",
       "</style>\n",
       "<ol class=list-inline><li>'manzana'</li><li>'pera'</li><li>'banana'</li><li>'ciruela'</li></ol>\n"
      ],
      "text/latex": [
       "\\begin{enumerate*}\n",
       "\\item 'manzana'\n",
       "\\item 'pera'\n",
       "\\item 'banana'\n",
       "\\item 'ciruela'\n",
       "\\end{enumerate*}\n"
      ],
      "text/markdown": [
       "1. 'manzana'\n",
       "2. 'pera'\n",
       "3. 'banana'\n",
       "4. 'ciruela'\n",
       "\n",
       "\n"
      ],
      "text/plain": [
       "[1] \"manzana\" \"pera\"    \"banana\"  \"ciruela\""
      ]
     },
     "metadata": {},
     "output_type": "display_data"
    }
   ],
   "source": [
    "df$fruta"
   ]
  },
  {
   "cell_type": "code",
   "execution_count": 80,
   "id": "b48a72a6-7308-4838-8fc8-2484bc493eac",
   "metadata": {},
   "outputs": [
    {
     "data": {
      "text/html": [
       "<table class=\"dataframe\">\n",
       "<caption>A data.frame: 5 × 2</caption>\n",
       "<thead>\n",
       "\t<tr><th scope=col>fruta</th><th scope=col>cant</th></tr>\n",
       "\t<tr><th scope=col>&lt;chr&gt;</th><th scope=col>&lt;chr&gt;</th></tr>\n",
       "</thead>\n",
       "<tbody>\n",
       "\t<tr><td>manzana</td><td>1</td></tr>\n",
       "\t<tr><td>pera   </td><td>2</td></tr>\n",
       "\t<tr><td>banana </td><td>3</td></tr>\n",
       "\t<tr><td>ciruela</td><td>4</td></tr>\n",
       "\t<tr><td>anana  </td><td>5</td></tr>\n",
       "</tbody>\n",
       "</table>\n"
      ],
      "text/latex": [
       "A data.frame: 5 × 2\n",
       "\\begin{tabular}{ll}\n",
       " fruta & cant\\\\\n",
       " <chr> & <chr>\\\\\n",
       "\\hline\n",
       "\t manzana & 1\\\\\n",
       "\t pera    & 2\\\\\n",
       "\t banana  & 3\\\\\n",
       "\t ciruela & 4\\\\\n",
       "\t anana   & 5\\\\\n",
       "\\end{tabular}\n"
      ],
      "text/markdown": [
       "\n",
       "A data.frame: 5 × 2\n",
       "\n",
       "| fruta &lt;chr&gt; | cant &lt;chr&gt; |\n",
       "|---|---|\n",
       "| manzana | 1 |\n",
       "| pera    | 2 |\n",
       "| banana  | 3 |\n",
       "| ciruela | 4 |\n",
       "| anana   | 5 |\n",
       "\n"
      ],
      "text/plain": [
       "  fruta   cant\n",
       "1 manzana 1   \n",
       "2 pera    2   \n",
       "3 banana  3   \n",
       "4 ciruela 4   \n",
       "5 anana   5   "
      ]
     },
     "metadata": {},
     "output_type": "display_data"
    }
   ],
   "source": [
    "# nueva fila\n",
    "df <- rbind(df, c(\"anana\", 5))\n",
    "df"
   ]
  },
  {
   "cell_type": "code",
   "execution_count": 81,
   "id": "4fba9e6a-60ab-43f8-bf16-e44ed5e4c102",
   "metadata": {},
   "outputs": [
    {
     "data": {
      "text/html": [
       "<table class=\"dataframe\">\n",
       "<caption>A data.frame: 5 × 3</caption>\n",
       "<thead>\n",
       "\t<tr><th scope=col>fruta</th><th scope=col>cant</th><th scope=col>calorias</th></tr>\n",
       "\t<tr><th scope=col>&lt;chr&gt;</th><th scope=col>&lt;chr&gt;</th><th scope=col>&lt;dbl&gt;</th></tr>\n",
       "</thead>\n",
       "<tbody>\n",
       "\t<tr><td>manzana</td><td>1</td><td>10</td></tr>\n",
       "\t<tr><td>pera   </td><td>2</td><td>60</td></tr>\n",
       "\t<tr><td>banana </td><td>3</td><td>20</td></tr>\n",
       "\t<tr><td>ciruela</td><td>4</td><td>10</td></tr>\n",
       "\t<tr><td>anana  </td><td>5</td><td>20</td></tr>\n",
       "</tbody>\n",
       "</table>\n"
      ],
      "text/latex": [
       "A data.frame: 5 × 3\n",
       "\\begin{tabular}{lll}\n",
       " fruta & cant & calorias\\\\\n",
       " <chr> & <chr> & <dbl>\\\\\n",
       "\\hline\n",
       "\t manzana & 1 & 10\\\\\n",
       "\t pera    & 2 & 60\\\\\n",
       "\t banana  & 3 & 20\\\\\n",
       "\t ciruela & 4 & 10\\\\\n",
       "\t anana   & 5 & 20\\\\\n",
       "\\end{tabular}\n"
      ],
      "text/markdown": [
       "\n",
       "A data.frame: 5 × 3\n",
       "\n",
       "| fruta &lt;chr&gt; | cant &lt;chr&gt; | calorias &lt;dbl&gt; |\n",
       "|---|---|---|\n",
       "| manzana | 1 | 10 |\n",
       "| pera    | 2 | 60 |\n",
       "| banana  | 3 | 20 |\n",
       "| ciruela | 4 | 10 |\n",
       "| anana   | 5 | 20 |\n",
       "\n"
      ],
      "text/plain": [
       "  fruta   cant calorias\n",
       "1 manzana 1    10      \n",
       "2 pera    2    60      \n",
       "3 banana  3    20      \n",
       "4 ciruela 4    10      \n",
       "5 anana   5    20      "
      ]
     },
     "metadata": {},
     "output_type": "display_data"
    }
   ],
   "source": [
    "# nueva columna\n",
    "df <- cbind(df, calorias = c(10, 60, 20, 10, 20))\n",
    "df"
   ]
  },
  {
   "cell_type": "code",
   "execution_count": 82,
   "id": "18aca336-bd66-461c-816d-0b677746913c",
   "metadata": {},
   "outputs": [
    {
     "data": {
      "text/html": [
       "'manzana'"
      ],
      "text/latex": [
       "'manzana'"
      ],
      "text/markdown": [
       "'manzana'"
      ],
      "text/plain": [
       "[1] \"manzana\""
      ]
     },
     "metadata": {},
     "output_type": "display_data"
    }
   ],
   "source": [
    "# dato de la fila 1 y columna 1\n",
    "df[1,1]"
   ]
  },
  {
   "cell_type": "code",
   "execution_count": 83,
   "id": "7db4d8de-0546-46e2-bf81-7fb64f8a6ebb",
   "metadata": {},
   "outputs": [
    {
     "data": {
      "text/html": [
       "<table class=\"dataframe\">\n",
       "<caption>A data.frame: 1 × 3</caption>\n",
       "<thead>\n",
       "\t<tr><th></th><th scope=col>fruta</th><th scope=col>cant</th><th scope=col>calorias</th></tr>\n",
       "\t<tr><th></th><th scope=col>&lt;chr&gt;</th><th scope=col>&lt;chr&gt;</th><th scope=col>&lt;dbl&gt;</th></tr>\n",
       "</thead>\n",
       "<tbody>\n",
       "\t<tr><th scope=row>1</th><td>manzana</td><td>1</td><td>10</td></tr>\n",
       "</tbody>\n",
       "</table>\n"
      ],
      "text/latex": [
       "A data.frame: 1 × 3\n",
       "\\begin{tabular}{r|lll}\n",
       "  & fruta & cant & calorias\\\\\n",
       "  & <chr> & <chr> & <dbl>\\\\\n",
       "\\hline\n",
       "\t1 & manzana & 1 & 10\\\\\n",
       "\\end{tabular}\n"
      ],
      "text/markdown": [
       "\n",
       "A data.frame: 1 × 3\n",
       "\n",
       "| <!--/--> | fruta &lt;chr&gt; | cant &lt;chr&gt; | calorias &lt;dbl&gt; |\n",
       "|---|---|---|---|\n",
       "| 1 | manzana | 1 | 10 |\n",
       "\n"
      ],
      "text/plain": [
       "  fruta   cant calorias\n",
       "1 manzana 1    10      "
      ]
     },
     "metadata": {},
     "output_type": "display_data"
    }
   ],
   "source": [
    "# todos los datos de la fila 1\n",
    "df[1, ]"
   ]
  },
  {
   "cell_type": "code",
   "execution_count": 84,
   "id": "16f2f53e-6951-4589-b125-346fba2da860",
   "metadata": {},
   "outputs": [
    {
     "data": {
      "text/html": [
       "<style>\n",
       ".list-inline {list-style: none; margin:0; padding: 0}\n",
       ".list-inline>li {display: inline-block}\n",
       ".list-inline>li:not(:last-child)::after {content: \"\\00b7\"; padding: 0 .5ex}\n",
       "</style>\n",
       "<ol class=list-inline><li>'manzana'</li><li>'pera'</li><li>'banana'</li><li>'ciruela'</li><li>'anana'</li></ol>\n"
      ],
      "text/latex": [
       "\\begin{enumerate*}\n",
       "\\item 'manzana'\n",
       "\\item 'pera'\n",
       "\\item 'banana'\n",
       "\\item 'ciruela'\n",
       "\\item 'anana'\n",
       "\\end{enumerate*}\n"
      ],
      "text/markdown": [
       "1. 'manzana'\n",
       "2. 'pera'\n",
       "3. 'banana'\n",
       "4. 'ciruela'\n",
       "5. 'anana'\n",
       "\n",
       "\n"
      ],
      "text/plain": [
       "[1] \"manzana\" \"pera\"    \"banana\"  \"ciruela\" \"anana\"  "
      ]
     },
     "metadata": {},
     "output_type": "display_data"
    }
   ],
   "source": [
    "# todos los datos de la columna 1\n",
    "df[,1]"
   ]
  },
  {
   "cell_type": "code",
   "execution_count": 85,
   "id": "b2d42a3f-1278-4fdb-8b95-72003553e847",
   "metadata": {},
   "outputs": [
    {
     "data": {
      "text/html": [
       "<table class=\"dataframe\">\n",
       "<caption>A data.frame: 5 × 1</caption>\n",
       "<thead>\n",
       "\t<tr><th scope=col>fruta</th></tr>\n",
       "\t<tr><th scope=col>&lt;chr&gt;</th></tr>\n",
       "</thead>\n",
       "<tbody>\n",
       "\t<tr><td>manzana</td></tr>\n",
       "\t<tr><td>pera   </td></tr>\n",
       "\t<tr><td>banana </td></tr>\n",
       "\t<tr><td>ciruela</td></tr>\n",
       "\t<tr><td>anana  </td></tr>\n",
       "</tbody>\n",
       "</table>\n"
      ],
      "text/latex": [
       "A data.frame: 5 × 1\n",
       "\\begin{tabular}{l}\n",
       " fruta\\\\\n",
       " <chr>\\\\\n",
       "\\hline\n",
       "\t manzana\\\\\n",
       "\t pera   \\\\\n",
       "\t banana \\\\\n",
       "\t ciruela\\\\\n",
       "\t anana  \\\\\n",
       "\\end{tabular}\n"
      ],
      "text/markdown": [
       "\n",
       "A data.frame: 5 × 1\n",
       "\n",
       "| fruta &lt;chr&gt; |\n",
       "|---|\n",
       "| manzana |\n",
       "| pera    |\n",
       "| banana  |\n",
       "| ciruela |\n",
       "| anana   |\n",
       "\n"
      ],
      "text/plain": [
       "  fruta  \n",
       "1 manzana\n",
       "2 pera   \n",
       "3 banana \n",
       "4 ciruela\n",
       "5 anana  "
      ]
     },
     "metadata": {},
     "output_type": "display_data"
    }
   ],
   "source": [
    "# otra manera, todos los datos de la columna 1 \n",
    "df[1]"
   ]
  },
  {
   "cell_type": "code",
   "execution_count": 86,
   "id": "939e34eb-41cf-491b-ab56-3d0f20d885ea",
   "metadata": {},
   "outputs": [
    {
     "data": {
      "text/html": [
       "<style>\n",
       ".list-inline {list-style: none; margin:0; padding: 0}\n",
       ".list-inline>li {display: inline-block}\n",
       ".list-inline>li:not(:last-child)::after {content: \"\\00b7\"; padding: 0 .5ex}\n",
       "</style>\n",
       "<ol class=list-inline><li>'manzana'</li><li>'pera'</li><li>'banana'</li><li>'ciruela'</li><li>'anana'</li></ol>\n"
      ],
      "text/latex": [
       "\\begin{enumerate*}\n",
       "\\item 'manzana'\n",
       "\\item 'pera'\n",
       "\\item 'banana'\n",
       "\\item 'ciruela'\n",
       "\\item 'anana'\n",
       "\\end{enumerate*}\n"
      ],
      "text/markdown": [
       "1. 'manzana'\n",
       "2. 'pera'\n",
       "3. 'banana'\n",
       "4. 'ciruela'\n",
       "5. 'anana'\n",
       "\n",
       "\n"
      ],
      "text/plain": [
       "[1] \"manzana\" \"pera\"    \"banana\"  \"ciruela\" \"anana\"  "
      ]
     },
     "metadata": {},
     "output_type": "display_data"
    }
   ],
   "source": [
    "# otra manera, todos los datos de la columna 1 como vector\n",
    "df[[1]]"
   ]
  },
  {
   "cell_type": "code",
   "execution_count": 89,
   "id": "efaff937-a9d9-4f71-aa94-62406a4db827",
   "metadata": {},
   "outputs": [
    {
     "data": {
      "text/html": [
       "<style>\n",
       ".list-inline {list-style: none; margin:0; padding: 0}\n",
       ".list-inline>li {display: inline-block}\n",
       ".list-inline>li:not(:last-child)::after {content: \"\\00b7\"; padding: 0 .5ex}\n",
       "</style>\n",
       "<ol class=list-inline><li>'manzana'</li><li>'pera'</li><li>'banana'</li><li>'ciruela'</li><li>'anana'</li></ol>\n"
      ],
      "text/latex": [
       "\\begin{enumerate*}\n",
       "\\item 'manzana'\n",
       "\\item 'pera'\n",
       "\\item 'banana'\n",
       "\\item 'ciruela'\n",
       "\\item 'anana'\n",
       "\\end{enumerate*}\n"
      ],
      "text/markdown": [
       "1. 'manzana'\n",
       "2. 'pera'\n",
       "3. 'banana'\n",
       "4. 'ciruela'\n",
       "5. 'anana'\n",
       "\n",
       "\n"
      ],
      "text/plain": [
       "[1] \"manzana\" \"pera\"    \"banana\"  \"ciruela\" \"anana\"  "
      ]
     },
     "metadata": {},
     "output_type": "display_data"
    }
   ],
   "source": [
    "# otra manera, todos los datos de la columna 1 como vector\n",
    "df$fruta"
   ]
  },
  {
   "cell_type": "code",
   "execution_count": 91,
   "id": "0fdbf202-acc3-41f4-a883-b7539af8ac1e",
   "metadata": {},
   "outputs": [
    {
     "data": {
      "text/html": [
       "<table class=\"dataframe\">\n",
       "<caption>A data.frame: 50 × 5</caption>\n",
       "<thead>\n",
       "\t<tr><th></th><th scope=col>Sepal.Length</th><th scope=col>Sepal.Width</th><th scope=col>Petal.Length</th><th scope=col>Petal.Width</th><th scope=col>Species</th></tr>\n",
       "\t<tr><th></th><th scope=col>&lt;dbl&gt;</th><th scope=col>&lt;dbl&gt;</th><th scope=col>&lt;dbl&gt;</th><th scope=col>&lt;dbl&gt;</th><th scope=col>&lt;fct&gt;</th></tr>\n",
       "</thead>\n",
       "<tbody>\n",
       "\t<tr><th scope=row>1</th><td>5.1</td><td>3.5</td><td>1.4</td><td>0.2</td><td>setosa</td></tr>\n",
       "\t<tr><th scope=row>2</th><td>4.9</td><td>3.0</td><td>1.4</td><td>0.2</td><td>setosa</td></tr>\n",
       "\t<tr><th scope=row>3</th><td>4.7</td><td>3.2</td><td>1.3</td><td>0.2</td><td>setosa</td></tr>\n",
       "\t<tr><th scope=row>4</th><td>4.6</td><td>3.1</td><td>1.5</td><td>0.2</td><td>setosa</td></tr>\n",
       "\t<tr><th scope=row>5</th><td>5.0</td><td>3.6</td><td>1.4</td><td>0.2</td><td>setosa</td></tr>\n",
       "\t<tr><th scope=row>6</th><td>5.4</td><td>3.9</td><td>1.7</td><td>0.4</td><td>setosa</td></tr>\n",
       "\t<tr><th scope=row>7</th><td>4.6</td><td>3.4</td><td>1.4</td><td>0.3</td><td>setosa</td></tr>\n",
       "\t<tr><th scope=row>8</th><td>5.0</td><td>3.4</td><td>1.5</td><td>0.2</td><td>setosa</td></tr>\n",
       "\t<tr><th scope=row>9</th><td>4.4</td><td>2.9</td><td>1.4</td><td>0.2</td><td>setosa</td></tr>\n",
       "\t<tr><th scope=row>10</th><td>4.9</td><td>3.1</td><td>1.5</td><td>0.1</td><td>setosa</td></tr>\n",
       "\t<tr><th scope=row>11</th><td>5.4</td><td>3.7</td><td>1.5</td><td>0.2</td><td>setosa</td></tr>\n",
       "\t<tr><th scope=row>12</th><td>4.8</td><td>3.4</td><td>1.6</td><td>0.2</td><td>setosa</td></tr>\n",
       "\t<tr><th scope=row>13</th><td>4.8</td><td>3.0</td><td>1.4</td><td>0.1</td><td>setosa</td></tr>\n",
       "\t<tr><th scope=row>14</th><td>4.3</td><td>3.0</td><td>1.1</td><td>0.1</td><td>setosa</td></tr>\n",
       "\t<tr><th scope=row>15</th><td>5.8</td><td>4.0</td><td>1.2</td><td>0.2</td><td>setosa</td></tr>\n",
       "\t<tr><th scope=row>16</th><td>5.7</td><td>4.4</td><td>1.5</td><td>0.4</td><td>setosa</td></tr>\n",
       "\t<tr><th scope=row>17</th><td>5.4</td><td>3.9</td><td>1.3</td><td>0.4</td><td>setosa</td></tr>\n",
       "\t<tr><th scope=row>18</th><td>5.1</td><td>3.5</td><td>1.4</td><td>0.3</td><td>setosa</td></tr>\n",
       "\t<tr><th scope=row>19</th><td>5.7</td><td>3.8</td><td>1.7</td><td>0.3</td><td>setosa</td></tr>\n",
       "\t<tr><th scope=row>20</th><td>5.1</td><td>3.8</td><td>1.5</td><td>0.3</td><td>setosa</td></tr>\n",
       "\t<tr><th scope=row>21</th><td>5.4</td><td>3.4</td><td>1.7</td><td>0.2</td><td>setosa</td></tr>\n",
       "\t<tr><th scope=row>22</th><td>5.1</td><td>3.7</td><td>1.5</td><td>0.4</td><td>setosa</td></tr>\n",
       "\t<tr><th scope=row>23</th><td>4.6</td><td>3.6</td><td>1.0</td><td>0.2</td><td>setosa</td></tr>\n",
       "\t<tr><th scope=row>24</th><td>5.1</td><td>3.3</td><td>1.7</td><td>0.5</td><td>setosa</td></tr>\n",
       "\t<tr><th scope=row>25</th><td>4.8</td><td>3.4</td><td>1.9</td><td>0.2</td><td>setosa</td></tr>\n",
       "\t<tr><th scope=row>26</th><td>5.0</td><td>3.0</td><td>1.6</td><td>0.2</td><td>setosa</td></tr>\n",
       "\t<tr><th scope=row>27</th><td>5.0</td><td>3.4</td><td>1.6</td><td>0.4</td><td>setosa</td></tr>\n",
       "\t<tr><th scope=row>28</th><td>5.2</td><td>3.5</td><td>1.5</td><td>0.2</td><td>setosa</td></tr>\n",
       "\t<tr><th scope=row>29</th><td>5.2</td><td>3.4</td><td>1.4</td><td>0.2</td><td>setosa</td></tr>\n",
       "\t<tr><th scope=row>30</th><td>4.7</td><td>3.2</td><td>1.6</td><td>0.2</td><td>setosa</td></tr>\n",
       "\t<tr><th scope=row>31</th><td>4.8</td><td>3.1</td><td>1.6</td><td>0.2</td><td>setosa</td></tr>\n",
       "\t<tr><th scope=row>32</th><td>5.4</td><td>3.4</td><td>1.5</td><td>0.4</td><td>setosa</td></tr>\n",
       "\t<tr><th scope=row>33</th><td>5.2</td><td>4.1</td><td>1.5</td><td>0.1</td><td>setosa</td></tr>\n",
       "\t<tr><th scope=row>34</th><td>5.5</td><td>4.2</td><td>1.4</td><td>0.2</td><td>setosa</td></tr>\n",
       "\t<tr><th scope=row>35</th><td>4.9</td><td>3.1</td><td>1.5</td><td>0.2</td><td>setosa</td></tr>\n",
       "\t<tr><th scope=row>36</th><td>5.0</td><td>3.2</td><td>1.2</td><td>0.2</td><td>setosa</td></tr>\n",
       "\t<tr><th scope=row>37</th><td>5.5</td><td>3.5</td><td>1.3</td><td>0.2</td><td>setosa</td></tr>\n",
       "\t<tr><th scope=row>38</th><td>4.9</td><td>3.6</td><td>1.4</td><td>0.1</td><td>setosa</td></tr>\n",
       "\t<tr><th scope=row>39</th><td>4.4</td><td>3.0</td><td>1.3</td><td>0.2</td><td>setosa</td></tr>\n",
       "\t<tr><th scope=row>40</th><td>5.1</td><td>3.4</td><td>1.5</td><td>0.2</td><td>setosa</td></tr>\n",
       "\t<tr><th scope=row>41</th><td>5.0</td><td>3.5</td><td>1.3</td><td>0.3</td><td>setosa</td></tr>\n",
       "\t<tr><th scope=row>42</th><td>4.5</td><td>2.3</td><td>1.3</td><td>0.3</td><td>setosa</td></tr>\n",
       "\t<tr><th scope=row>43</th><td>4.4</td><td>3.2</td><td>1.3</td><td>0.2</td><td>setosa</td></tr>\n",
       "\t<tr><th scope=row>44</th><td>5.0</td><td>3.5</td><td>1.6</td><td>0.6</td><td>setosa</td></tr>\n",
       "\t<tr><th scope=row>45</th><td>5.1</td><td>3.8</td><td>1.9</td><td>0.4</td><td>setosa</td></tr>\n",
       "\t<tr><th scope=row>46</th><td>4.8</td><td>3.0</td><td>1.4</td><td>0.3</td><td>setosa</td></tr>\n",
       "\t<tr><th scope=row>47</th><td>5.1</td><td>3.8</td><td>1.6</td><td>0.2</td><td>setosa</td></tr>\n",
       "\t<tr><th scope=row>48</th><td>4.6</td><td>3.2</td><td>1.4</td><td>0.2</td><td>setosa</td></tr>\n",
       "\t<tr><th scope=row>49</th><td>5.3</td><td>3.7</td><td>1.5</td><td>0.2</td><td>setosa</td></tr>\n",
       "\t<tr><th scope=row>50</th><td>5.0</td><td>3.3</td><td>1.4</td><td>0.2</td><td>setosa</td></tr>\n",
       "</tbody>\n",
       "</table>\n"
      ],
      "text/latex": [
       "A data.frame: 50 × 5\n",
       "\\begin{tabular}{r|lllll}\n",
       "  & Sepal.Length & Sepal.Width & Petal.Length & Petal.Width & Species\\\\\n",
       "  & <dbl> & <dbl> & <dbl> & <dbl> & <fct>\\\\\n",
       "\\hline\n",
       "\t1 & 5.1 & 3.5 & 1.4 & 0.2 & setosa\\\\\n",
       "\t2 & 4.9 & 3.0 & 1.4 & 0.2 & setosa\\\\\n",
       "\t3 & 4.7 & 3.2 & 1.3 & 0.2 & setosa\\\\\n",
       "\t4 & 4.6 & 3.1 & 1.5 & 0.2 & setosa\\\\\n",
       "\t5 & 5.0 & 3.6 & 1.4 & 0.2 & setosa\\\\\n",
       "\t6 & 5.4 & 3.9 & 1.7 & 0.4 & setosa\\\\\n",
       "\t7 & 4.6 & 3.4 & 1.4 & 0.3 & setosa\\\\\n",
       "\t8 & 5.0 & 3.4 & 1.5 & 0.2 & setosa\\\\\n",
       "\t9 & 4.4 & 2.9 & 1.4 & 0.2 & setosa\\\\\n",
       "\t10 & 4.9 & 3.1 & 1.5 & 0.1 & setosa\\\\\n",
       "\t11 & 5.4 & 3.7 & 1.5 & 0.2 & setosa\\\\\n",
       "\t12 & 4.8 & 3.4 & 1.6 & 0.2 & setosa\\\\\n",
       "\t13 & 4.8 & 3.0 & 1.4 & 0.1 & setosa\\\\\n",
       "\t14 & 4.3 & 3.0 & 1.1 & 0.1 & setosa\\\\\n",
       "\t15 & 5.8 & 4.0 & 1.2 & 0.2 & setosa\\\\\n",
       "\t16 & 5.7 & 4.4 & 1.5 & 0.4 & setosa\\\\\n",
       "\t17 & 5.4 & 3.9 & 1.3 & 0.4 & setosa\\\\\n",
       "\t18 & 5.1 & 3.5 & 1.4 & 0.3 & setosa\\\\\n",
       "\t19 & 5.7 & 3.8 & 1.7 & 0.3 & setosa\\\\\n",
       "\t20 & 5.1 & 3.8 & 1.5 & 0.3 & setosa\\\\\n",
       "\t21 & 5.4 & 3.4 & 1.7 & 0.2 & setosa\\\\\n",
       "\t22 & 5.1 & 3.7 & 1.5 & 0.4 & setosa\\\\\n",
       "\t23 & 4.6 & 3.6 & 1.0 & 0.2 & setosa\\\\\n",
       "\t24 & 5.1 & 3.3 & 1.7 & 0.5 & setosa\\\\\n",
       "\t25 & 4.8 & 3.4 & 1.9 & 0.2 & setosa\\\\\n",
       "\t26 & 5.0 & 3.0 & 1.6 & 0.2 & setosa\\\\\n",
       "\t27 & 5.0 & 3.4 & 1.6 & 0.4 & setosa\\\\\n",
       "\t28 & 5.2 & 3.5 & 1.5 & 0.2 & setosa\\\\\n",
       "\t29 & 5.2 & 3.4 & 1.4 & 0.2 & setosa\\\\\n",
       "\t30 & 4.7 & 3.2 & 1.6 & 0.2 & setosa\\\\\n",
       "\t31 & 4.8 & 3.1 & 1.6 & 0.2 & setosa\\\\\n",
       "\t32 & 5.4 & 3.4 & 1.5 & 0.4 & setosa\\\\\n",
       "\t33 & 5.2 & 4.1 & 1.5 & 0.1 & setosa\\\\\n",
       "\t34 & 5.5 & 4.2 & 1.4 & 0.2 & setosa\\\\\n",
       "\t35 & 4.9 & 3.1 & 1.5 & 0.2 & setosa\\\\\n",
       "\t36 & 5.0 & 3.2 & 1.2 & 0.2 & setosa\\\\\n",
       "\t37 & 5.5 & 3.5 & 1.3 & 0.2 & setosa\\\\\n",
       "\t38 & 4.9 & 3.6 & 1.4 & 0.1 & setosa\\\\\n",
       "\t39 & 4.4 & 3.0 & 1.3 & 0.2 & setosa\\\\\n",
       "\t40 & 5.1 & 3.4 & 1.5 & 0.2 & setosa\\\\\n",
       "\t41 & 5.0 & 3.5 & 1.3 & 0.3 & setosa\\\\\n",
       "\t42 & 4.5 & 2.3 & 1.3 & 0.3 & setosa\\\\\n",
       "\t43 & 4.4 & 3.2 & 1.3 & 0.2 & setosa\\\\\n",
       "\t44 & 5.0 & 3.5 & 1.6 & 0.6 & setosa\\\\\n",
       "\t45 & 5.1 & 3.8 & 1.9 & 0.4 & setosa\\\\\n",
       "\t46 & 4.8 & 3.0 & 1.4 & 0.3 & setosa\\\\\n",
       "\t47 & 5.1 & 3.8 & 1.6 & 0.2 & setosa\\\\\n",
       "\t48 & 4.6 & 3.2 & 1.4 & 0.2 & setosa\\\\\n",
       "\t49 & 5.3 & 3.7 & 1.5 & 0.2 & setosa\\\\\n",
       "\t50 & 5.0 & 3.3 & 1.4 & 0.2 & setosa\\\\\n",
       "\\end{tabular}\n"
      ],
      "text/markdown": [
       "\n",
       "A data.frame: 50 × 5\n",
       "\n",
       "| <!--/--> | Sepal.Length &lt;dbl&gt; | Sepal.Width &lt;dbl&gt; | Petal.Length &lt;dbl&gt; | Petal.Width &lt;dbl&gt; | Species &lt;fct&gt; |\n",
       "|---|---|---|---|---|---|\n",
       "| 1 | 5.1 | 3.5 | 1.4 | 0.2 | setosa |\n",
       "| 2 | 4.9 | 3.0 | 1.4 | 0.2 | setosa |\n",
       "| 3 | 4.7 | 3.2 | 1.3 | 0.2 | setosa |\n",
       "| 4 | 4.6 | 3.1 | 1.5 | 0.2 | setosa |\n",
       "| 5 | 5.0 | 3.6 | 1.4 | 0.2 | setosa |\n",
       "| 6 | 5.4 | 3.9 | 1.7 | 0.4 | setosa |\n",
       "| 7 | 4.6 | 3.4 | 1.4 | 0.3 | setosa |\n",
       "| 8 | 5.0 | 3.4 | 1.5 | 0.2 | setosa |\n",
       "| 9 | 4.4 | 2.9 | 1.4 | 0.2 | setosa |\n",
       "| 10 | 4.9 | 3.1 | 1.5 | 0.1 | setosa |\n",
       "| 11 | 5.4 | 3.7 | 1.5 | 0.2 | setosa |\n",
       "| 12 | 4.8 | 3.4 | 1.6 | 0.2 | setosa |\n",
       "| 13 | 4.8 | 3.0 | 1.4 | 0.1 | setosa |\n",
       "| 14 | 4.3 | 3.0 | 1.1 | 0.1 | setosa |\n",
       "| 15 | 5.8 | 4.0 | 1.2 | 0.2 | setosa |\n",
       "| 16 | 5.7 | 4.4 | 1.5 | 0.4 | setosa |\n",
       "| 17 | 5.4 | 3.9 | 1.3 | 0.4 | setosa |\n",
       "| 18 | 5.1 | 3.5 | 1.4 | 0.3 | setosa |\n",
       "| 19 | 5.7 | 3.8 | 1.7 | 0.3 | setosa |\n",
       "| 20 | 5.1 | 3.8 | 1.5 | 0.3 | setosa |\n",
       "| 21 | 5.4 | 3.4 | 1.7 | 0.2 | setosa |\n",
       "| 22 | 5.1 | 3.7 | 1.5 | 0.4 | setosa |\n",
       "| 23 | 4.6 | 3.6 | 1.0 | 0.2 | setosa |\n",
       "| 24 | 5.1 | 3.3 | 1.7 | 0.5 | setosa |\n",
       "| 25 | 4.8 | 3.4 | 1.9 | 0.2 | setosa |\n",
       "| 26 | 5.0 | 3.0 | 1.6 | 0.2 | setosa |\n",
       "| 27 | 5.0 | 3.4 | 1.6 | 0.4 | setosa |\n",
       "| 28 | 5.2 | 3.5 | 1.5 | 0.2 | setosa |\n",
       "| 29 | 5.2 | 3.4 | 1.4 | 0.2 | setosa |\n",
       "| 30 | 4.7 | 3.2 | 1.6 | 0.2 | setosa |\n",
       "| 31 | 4.8 | 3.1 | 1.6 | 0.2 | setosa |\n",
       "| 32 | 5.4 | 3.4 | 1.5 | 0.4 | setosa |\n",
       "| 33 | 5.2 | 4.1 | 1.5 | 0.1 | setosa |\n",
       "| 34 | 5.5 | 4.2 | 1.4 | 0.2 | setosa |\n",
       "| 35 | 4.9 | 3.1 | 1.5 | 0.2 | setosa |\n",
       "| 36 | 5.0 | 3.2 | 1.2 | 0.2 | setosa |\n",
       "| 37 | 5.5 | 3.5 | 1.3 | 0.2 | setosa |\n",
       "| 38 | 4.9 | 3.6 | 1.4 | 0.1 | setosa |\n",
       "| 39 | 4.4 | 3.0 | 1.3 | 0.2 | setosa |\n",
       "| 40 | 5.1 | 3.4 | 1.5 | 0.2 | setosa |\n",
       "| 41 | 5.0 | 3.5 | 1.3 | 0.3 | setosa |\n",
       "| 42 | 4.5 | 2.3 | 1.3 | 0.3 | setosa |\n",
       "| 43 | 4.4 | 3.2 | 1.3 | 0.2 | setosa |\n",
       "| 44 | 5.0 | 3.5 | 1.6 | 0.6 | setosa |\n",
       "| 45 | 5.1 | 3.8 | 1.9 | 0.4 | setosa |\n",
       "| 46 | 4.8 | 3.0 | 1.4 | 0.3 | setosa |\n",
       "| 47 | 5.1 | 3.8 | 1.6 | 0.2 | setosa |\n",
       "| 48 | 4.6 | 3.2 | 1.4 | 0.2 | setosa |\n",
       "| 49 | 5.3 | 3.7 | 1.5 | 0.2 | setosa |\n",
       "| 50 | 5.0 | 3.3 | 1.4 | 0.2 | setosa |\n",
       "\n"
      ],
      "text/plain": [
       "   Sepal.Length Sepal.Width Petal.Length Petal.Width Species\n",
       "1  5.1          3.5         1.4          0.2         setosa \n",
       "2  4.9          3.0         1.4          0.2         setosa \n",
       "3  4.7          3.2         1.3          0.2         setosa \n",
       "4  4.6          3.1         1.5          0.2         setosa \n",
       "5  5.0          3.6         1.4          0.2         setosa \n",
       "6  5.4          3.9         1.7          0.4         setosa \n",
       "7  4.6          3.4         1.4          0.3         setosa \n",
       "8  5.0          3.4         1.5          0.2         setosa \n",
       "9  4.4          2.9         1.4          0.2         setosa \n",
       "10 4.9          3.1         1.5          0.1         setosa \n",
       "11 5.4          3.7         1.5          0.2         setosa \n",
       "12 4.8          3.4         1.6          0.2         setosa \n",
       "13 4.8          3.0         1.4          0.1         setosa \n",
       "14 4.3          3.0         1.1          0.1         setosa \n",
       "15 5.8          4.0         1.2          0.2         setosa \n",
       "16 5.7          4.4         1.5          0.4         setosa \n",
       "17 5.4          3.9         1.3          0.4         setosa \n",
       "18 5.1          3.5         1.4          0.3         setosa \n",
       "19 5.7          3.8         1.7          0.3         setosa \n",
       "20 5.1          3.8         1.5          0.3         setosa \n",
       "21 5.4          3.4         1.7          0.2         setosa \n",
       "22 5.1          3.7         1.5          0.4         setosa \n",
       "23 4.6          3.6         1.0          0.2         setosa \n",
       "24 5.1          3.3         1.7          0.5         setosa \n",
       "25 4.8          3.4         1.9          0.2         setosa \n",
       "26 5.0          3.0         1.6          0.2         setosa \n",
       "27 5.0          3.4         1.6          0.4         setosa \n",
       "28 5.2          3.5         1.5          0.2         setosa \n",
       "29 5.2          3.4         1.4          0.2         setosa \n",
       "30 4.7          3.2         1.6          0.2         setosa \n",
       "31 4.8          3.1         1.6          0.2         setosa \n",
       "32 5.4          3.4         1.5          0.4         setosa \n",
       "33 5.2          4.1         1.5          0.1         setosa \n",
       "34 5.5          4.2         1.4          0.2         setosa \n",
       "35 4.9          3.1         1.5          0.2         setosa \n",
       "36 5.0          3.2         1.2          0.2         setosa \n",
       "37 5.5          3.5         1.3          0.2         setosa \n",
       "38 4.9          3.6         1.4          0.1         setosa \n",
       "39 4.4          3.0         1.3          0.2         setosa \n",
       "40 5.1          3.4         1.5          0.2         setosa \n",
       "41 5.0          3.5         1.3          0.3         setosa \n",
       "42 4.5          2.3         1.3          0.3         setosa \n",
       "43 4.4          3.2         1.3          0.2         setosa \n",
       "44 5.0          3.5         1.6          0.6         setosa \n",
       "45 5.1          3.8         1.9          0.4         setosa \n",
       "46 4.8          3.0         1.4          0.3         setosa \n",
       "47 5.1          3.8         1.6          0.2         setosa \n",
       "48 4.6          3.2         1.4          0.2         setosa \n",
       "49 5.3          3.7         1.5          0.2         setosa \n",
       "50 5.0          3.3         1.4          0.2         setosa "
      ]
     },
     "metadata": {},
     "output_type": "display_data"
    }
   ],
   "source": [
    "iris_setosa <- subset(iris, Species==\"setosa\")\n",
    "iris_setosa"
   ]
  },
  {
   "cell_type": "code",
   "execution_count": 92,
   "id": "44f39f9f-a74c-4079-8aa3-8b59b04dfd73",
   "metadata": {},
   "outputs": [],
   "source": [
    "# Filtramos a la variedad Species reteniendo solo las categorías “setosa” y “virginica”\n",
    "iris_set.virginica <- subset(iris, Species %in% c(\"setosa\", \"virginica\"))"
   ]
  },
  {
   "cell_type": "code",
   "execution_count": 93,
   "id": "8756dcb5-8314-4ab6-8e56-e2f449a857e4",
   "metadata": {},
   "outputs": [],
   "source": [
    "# Podemos filtrar las longitudes de sepal mayores a 5, reteniendo las variables \"Sepal.Length\" y \"Species\"\n",
    "iris_sepal <- subset(iris, Sepal.Length > 5, select = c(\"Sepal.Length\", \"Species\"))"
   ]
  },
  {
   "cell_type": "code",
   "execution_count": 94,
   "id": "f0f02c7d-9ca4-4602-9039-6566f3fd1885",
   "metadata": {},
   "outputs": [],
   "source": [
    "# Filtramos haciendo las dos acciones a la vez\n",
    "iris2 <- subset(iris, Species %in% c(\"setosa\", \"virginica\") & Sepal.Length > 5, select = c(\"Sepal.Length\", \"Species\"))"
   ]
  },
  {
   "cell_type": "markdown",
   "id": "89ce412b-8034-44fc-a8ec-f59df901b7c2",
   "metadata": {},
   "source": [
    "## Ejercicios"
   ]
  },
  {
   "cell_type": "markdown",
   "id": "c84578db-41dd-4032-9a39-3633dead2cfd",
   "metadata": {},
   "source": [
    "Crear un dataframe con las siguientes variables:\n",
    "\n",
    "* Sexo: \"hombre\", \"mujer\", \"hombre\", \"hombre\", \"mujer\", \"mujer\", \"hombre\", \"mujer\"\n",
    "* Presión arterial: 119, 99, 102, 78, 78, 82, 96, 104\n",
    "* Pulsos por minuto: 59, 89, 107, 76, 91, 64, 78, 92\n",
    "\n",
    "Guardarlo en un objeto llamado \"datos\""
   ]
  },
  {
   "cell_type": "code",
   "execution_count": 102,
   "id": "a35e98c0-6323-4ad6-9e04-e1eb50339b2a",
   "metadata": {},
   "outputs": [
    {
     "data": {
      "text/html": [
       "<table class=\"dataframe\">\n",
       "<caption>A data.frame: 8 × 3</caption>\n",
       "<thead>\n",
       "\t<tr><th scope=col>Sexo</th><th scope=col>Presión_arterial</th><th scope=col>Pulsos_por_minuto</th></tr>\n",
       "\t<tr><th scope=col>&lt;chr&gt;</th><th scope=col>&lt;dbl&gt;</th><th scope=col>&lt;dbl&gt;</th></tr>\n",
       "</thead>\n",
       "<tbody>\n",
       "\t<tr><td>hombre</td><td>119</td><td> 59</td></tr>\n",
       "\t<tr><td>mujer </td><td> 99</td><td> 89</td></tr>\n",
       "\t<tr><td>hombre</td><td>102</td><td>107</td></tr>\n",
       "\t<tr><td>hombre</td><td> 78</td><td> 76</td></tr>\n",
       "\t<tr><td>mujer </td><td> 78</td><td> 91</td></tr>\n",
       "\t<tr><td>mujer </td><td> 82</td><td> 64</td></tr>\n",
       "\t<tr><td>hombre</td><td> 96</td><td> 78</td></tr>\n",
       "\t<tr><td>mujer </td><td>104</td><td> 92</td></tr>\n",
       "</tbody>\n",
       "</table>\n"
      ],
      "text/latex": [
       "A data.frame: 8 × 3\n",
       "\\begin{tabular}{lll}\n",
       " Sexo & Presión\\_arterial & Pulsos\\_por\\_minuto\\\\\n",
       " <chr> & <dbl> & <dbl>\\\\\n",
       "\\hline\n",
       "\t hombre & 119 &  59\\\\\n",
       "\t mujer  &  99 &  89\\\\\n",
       "\t hombre & 102 & 107\\\\\n",
       "\t hombre &  78 &  76\\\\\n",
       "\t mujer  &  78 &  91\\\\\n",
       "\t mujer  &  82 &  64\\\\\n",
       "\t hombre &  96 &  78\\\\\n",
       "\t mujer  & 104 &  92\\\\\n",
       "\\end{tabular}\n"
      ],
      "text/markdown": [
       "\n",
       "A data.frame: 8 × 3\n",
       "\n",
       "| Sexo &lt;chr&gt; | Presión_arterial &lt;dbl&gt; | Pulsos_por_minuto &lt;dbl&gt; |\n",
       "|---|---|---|\n",
       "| hombre | 119 |  59 |\n",
       "| mujer  |  99 |  89 |\n",
       "| hombre | 102 | 107 |\n",
       "| hombre |  78 |  76 |\n",
       "| mujer  |  78 |  91 |\n",
       "| mujer  |  82 |  64 |\n",
       "| hombre |  96 |  78 |\n",
       "| mujer  | 104 |  92 |\n",
       "\n"
      ],
      "text/plain": [
       "  Sexo   Presión_arterial Pulsos_por_minuto\n",
       "1 hombre 119               59              \n",
       "2 mujer   99               89              \n",
       "3 hombre 102              107              \n",
       "4 hombre  78               76              \n",
       "5 mujer   78               91              \n",
       "6 mujer   82               64              \n",
       "7 hombre  96               78              \n",
       "8 mujer  104               92              "
      ]
     },
     "metadata": {},
     "output_type": "display_data"
    }
   ],
   "source": [
    "datos <- data.frame(Sexo = c(\"hombre\", \"mujer\", \"hombre\", \"hombre\", \"mujer\", \"mujer\", \"hombre\", \"mujer\"),\n",
    "                    Presión_arterial = c(119, 99, 102, 78, 78, 82, 96, 104), \n",
    "                    Pulsos_por_minuto = c(59, 89, 107, 76, 91, 64, 78, 92))\n",
    "datos"
   ]
  },
  {
   "cell_type": "markdown",
   "id": "03582d4a-fa23-4a7f-a7aa-bb14cc29e4b5",
   "metadata": {},
   "source": [
    "Visualizar todos los valores para el primer y cuarto individuo"
   ]
  },
  {
   "cell_type": "code",
   "execution_count": 103,
   "id": "5e1405f7-09c9-49a8-9c4c-5493d8c5ed7b",
   "metadata": {},
   "outputs": [
    {
     "data": {
      "text/html": [
       "<table class=\"dataframe\">\n",
       "<caption>A data.frame: 2 × 3</caption>\n",
       "<thead>\n",
       "\t<tr><th></th><th scope=col>Sexo</th><th scope=col>Presión_arterial</th><th scope=col>Pulsos_por_minuto</th></tr>\n",
       "\t<tr><th></th><th scope=col>&lt;chr&gt;</th><th scope=col>&lt;dbl&gt;</th><th scope=col>&lt;dbl&gt;</th></tr>\n",
       "</thead>\n",
       "<tbody>\n",
       "\t<tr><th scope=row>1</th><td>hombre</td><td>119</td><td>59</td></tr>\n",
       "\t<tr><th scope=row>4</th><td>hombre</td><td> 78</td><td>76</td></tr>\n",
       "</tbody>\n",
       "</table>\n"
      ],
      "text/latex": [
       "A data.frame: 2 × 3\n",
       "\\begin{tabular}{r|lll}\n",
       "  & Sexo & Presión\\_arterial & Pulsos\\_por\\_minuto\\\\\n",
       "  & <chr> & <dbl> & <dbl>\\\\\n",
       "\\hline\n",
       "\t1 & hombre & 119 & 59\\\\\n",
       "\t4 & hombre &  78 & 76\\\\\n",
       "\\end{tabular}\n"
      ],
      "text/markdown": [
       "\n",
       "A data.frame: 2 × 3\n",
       "\n",
       "| <!--/--> | Sexo &lt;chr&gt; | Presión_arterial &lt;dbl&gt; | Pulsos_por_minuto &lt;dbl&gt; |\n",
       "|---|---|---|---|\n",
       "| 1 | hombre | 119 | 59 |\n",
       "| 4 | hombre |  78 | 76 |\n",
       "\n"
      ],
      "text/plain": [
       "  Sexo   Presión_arterial Pulsos_por_minuto\n",
       "1 hombre 119              59               \n",
       "4 hombre  78              76               "
      ]
     },
     "metadata": {},
     "output_type": "display_data"
    }
   ],
   "source": [
    "x <- datos[c(1,4),]\n",
    "x"
   ]
  },
  {
   "cell_type": "markdown",
   "id": "14f35c33-ac93-4d34-a167-3fdd5fd47dad",
   "metadata": {},
   "source": [
    "Repetir lo mismo pero solo para las últimas dos variables"
   ]
  },
  {
   "cell_type": "code",
   "execution_count": 104,
   "id": "7346c18e-b759-4d61-855c-395501e87422",
   "metadata": {},
   "outputs": [
    {
     "data": {
      "text/html": [
       "<table class=\"dataframe\">\n",
       "<caption>A data.frame: 2 × 2</caption>\n",
       "<thead>\n",
       "\t<tr><th></th><th scope=col>Presión_arterial</th><th scope=col>Pulsos_por_minuto</th></tr>\n",
       "\t<tr><th></th><th scope=col>&lt;dbl&gt;</th><th scope=col>&lt;dbl&gt;</th></tr>\n",
       "</thead>\n",
       "<tbody>\n",
       "\t<tr><th scope=row>1</th><td>119</td><td>59</td></tr>\n",
       "\t<tr><th scope=row>4</th><td> 78</td><td>76</td></tr>\n",
       "</tbody>\n",
       "</table>\n"
      ],
      "text/latex": [
       "A data.frame: 2 × 2\n",
       "\\begin{tabular}{r|ll}\n",
       "  & Presión\\_arterial & Pulsos\\_por\\_minuto\\\\\n",
       "  & <dbl> & <dbl>\\\\\n",
       "\\hline\n",
       "\t1 & 119 & 59\\\\\n",
       "\t4 &  78 & 76\\\\\n",
       "\\end{tabular}\n"
      ],
      "text/markdown": [
       "\n",
       "A data.frame: 2 × 2\n",
       "\n",
       "| <!--/--> | Presión_arterial &lt;dbl&gt; | Pulsos_por_minuto &lt;dbl&gt; |\n",
       "|---|---|---|\n",
       "| 1 | 119 | 59 |\n",
       "| 4 |  78 | 76 |\n",
       "\n"
      ],
      "text/plain": [
       "  Presión_arterial Pulsos_por_minuto\n",
       "1 119              59               \n",
       "4  78              76               "
      ]
     },
     "metadata": {},
     "output_type": "display_data"
    }
   ],
   "source": [
    "x <- datos[c(1,4),c(2,3)]\n",
    "x"
   ]
  },
  {
   "cell_type": "markdown",
   "id": "09686e66-d8b6-4aba-9c52-ce4bc14e4074",
   "metadata": {},
   "source": [
    "Determinar si la primera mujer de la tabla tiene una presión arterial mayor a la de la segunda mujer"
   ]
  },
  {
   "cell_type": "code",
   "execution_count": 105,
   "id": "28f67fc1-1d8d-47b9-9150-2b9e769dad72",
   "metadata": {},
   "outputs": [
    {
     "data": {
      "text/html": [
       "TRUE"
      ],
      "text/latex": [
       "TRUE"
      ],
      "text/markdown": [
       "TRUE"
      ],
      "text/plain": [
       "[1] TRUE"
      ]
     },
     "metadata": {},
     "output_type": "display_data"
    }
   ],
   "source": [
    "x <- subset(datos, Sexo=='mujer')[1,2] > subset(datos, Sexo=='mujer')[2,2]\n",
    "x"
   ]
  },
  {
   "cell_type": "markdown",
   "id": "7fb983be-61da-4208-9262-d82add71eb2c",
   "metadata": {},
   "source": [
    "Construir una nueva columna que cuente los pulsos pero por hora"
   ]
  },
  {
   "cell_type": "code",
   "execution_count": 106,
   "id": "50bcd704-7b21-461c-88de-2c09cfc989bc",
   "metadata": {},
   "outputs": [
    {
     "data": {
      "text/html": [
       "<table class=\"dataframe\">\n",
       "<caption>A data.frame: 8 × 4</caption>\n",
       "<thead>\n",
       "\t<tr><th scope=col>Sexo</th><th scope=col>Presión_arterial</th><th scope=col>Pulsos_por_minuto</th><th scope=col>Pulsos_por_hora</th></tr>\n",
       "\t<tr><th scope=col>&lt;chr&gt;</th><th scope=col>&lt;dbl&gt;</th><th scope=col>&lt;dbl&gt;</th><th scope=col>&lt;dbl&gt;</th></tr>\n",
       "</thead>\n",
       "<tbody>\n",
       "\t<tr><td>hombre</td><td>119</td><td> 59</td><td>3540</td></tr>\n",
       "\t<tr><td>mujer </td><td> 99</td><td> 89</td><td>5340</td></tr>\n",
       "\t<tr><td>hombre</td><td>102</td><td>107</td><td>6420</td></tr>\n",
       "\t<tr><td>hombre</td><td> 78</td><td> 76</td><td>4560</td></tr>\n",
       "\t<tr><td>mujer </td><td> 78</td><td> 91</td><td>5460</td></tr>\n",
       "\t<tr><td>mujer </td><td> 82</td><td> 64</td><td>3840</td></tr>\n",
       "\t<tr><td>hombre</td><td> 96</td><td> 78</td><td>4680</td></tr>\n",
       "\t<tr><td>mujer </td><td>104</td><td> 92</td><td>5520</td></tr>\n",
       "</tbody>\n",
       "</table>\n"
      ],
      "text/latex": [
       "A data.frame: 8 × 4\n",
       "\\begin{tabular}{llll}\n",
       " Sexo & Presión\\_arterial & Pulsos\\_por\\_minuto & Pulsos\\_por\\_hora\\\\\n",
       " <chr> & <dbl> & <dbl> & <dbl>\\\\\n",
       "\\hline\n",
       "\t hombre & 119 &  59 & 3540\\\\\n",
       "\t mujer  &  99 &  89 & 5340\\\\\n",
       "\t hombre & 102 & 107 & 6420\\\\\n",
       "\t hombre &  78 &  76 & 4560\\\\\n",
       "\t mujer  &  78 &  91 & 5460\\\\\n",
       "\t mujer  &  82 &  64 & 3840\\\\\n",
       "\t hombre &  96 &  78 & 4680\\\\\n",
       "\t mujer  & 104 &  92 & 5520\\\\\n",
       "\\end{tabular}\n"
      ],
      "text/markdown": [
       "\n",
       "A data.frame: 8 × 4\n",
       "\n",
       "| Sexo &lt;chr&gt; | Presión_arterial &lt;dbl&gt; | Pulsos_por_minuto &lt;dbl&gt; | Pulsos_por_hora &lt;dbl&gt; |\n",
       "|---|---|---|---|\n",
       "| hombre | 119 |  59 | 3540 |\n",
       "| mujer  |  99 |  89 | 5340 |\n",
       "| hombre | 102 | 107 | 6420 |\n",
       "| hombre |  78 |  76 | 4560 |\n",
       "| mujer  |  78 |  91 | 5460 |\n",
       "| mujer  |  82 |  64 | 3840 |\n",
       "| hombre |  96 |  78 | 4680 |\n",
       "| mujer  | 104 |  92 | 5520 |\n",
       "\n"
      ],
      "text/plain": [
       "  Sexo   Presión_arterial Pulsos_por_minuto Pulsos_por_hora\n",
       "1 hombre 119               59               3540           \n",
       "2 mujer   99               89               5340           \n",
       "3 hombre 102              107               6420           \n",
       "4 hombre  78               76               4560           \n",
       "5 mujer   78               91               5460           \n",
       "6 mujer   82               64               3840           \n",
       "7 hombre  96               78               4680           \n",
       "8 mujer  104               92               5520           "
      ]
     },
     "metadata": {},
     "output_type": "display_data"
    }
   ],
   "source": [
    "datos <- cbind(datos, Pulsos_por_hora = c(datos[,3] * 60))\n",
    "datos"
   ]
  },
  {
   "cell_type": "markdown",
   "id": "5bdd6ecf-3d4a-4eb3-ba89-c4cafdc557d6",
   "metadata": {},
   "source": [
    "Seleccionar solo los hombres que tengan una presión arterial mayor a 100 y guardar la tabla en una variable \"hombres_mayor100\""
   ]
  },
  {
   "cell_type": "code",
   "execution_count": 107,
   "id": "dd164bd4-52e1-449c-b1e0-ae0875058052",
   "metadata": {},
   "outputs": [
    {
     "data": {
      "text/html": [
       "<table class=\"dataframe\">\n",
       "<caption>A data.frame: 2 × 4</caption>\n",
       "<thead>\n",
       "\t<tr><th></th><th scope=col>Sexo</th><th scope=col>Presión_arterial</th><th scope=col>Pulsos_por_minuto</th><th scope=col>Pulsos_por_hora</th></tr>\n",
       "\t<tr><th></th><th scope=col>&lt;chr&gt;</th><th scope=col>&lt;dbl&gt;</th><th scope=col>&lt;dbl&gt;</th><th scope=col>&lt;dbl&gt;</th></tr>\n",
       "</thead>\n",
       "<tbody>\n",
       "\t<tr><th scope=row>1</th><td>hombre</td><td>119</td><td> 59</td><td>3540</td></tr>\n",
       "\t<tr><th scope=row>3</th><td>hombre</td><td>102</td><td>107</td><td>6420</td></tr>\n",
       "</tbody>\n",
       "</table>\n"
      ],
      "text/latex": [
       "A data.frame: 2 × 4\n",
       "\\begin{tabular}{r|llll}\n",
       "  & Sexo & Presión\\_arterial & Pulsos\\_por\\_minuto & Pulsos\\_por\\_hora\\\\\n",
       "  & <chr> & <dbl> & <dbl> & <dbl>\\\\\n",
       "\\hline\n",
       "\t1 & hombre & 119 &  59 & 3540\\\\\n",
       "\t3 & hombre & 102 & 107 & 6420\\\\\n",
       "\\end{tabular}\n"
      ],
      "text/markdown": [
       "\n",
       "A data.frame: 2 × 4\n",
       "\n",
       "| <!--/--> | Sexo &lt;chr&gt; | Presión_arterial &lt;dbl&gt; | Pulsos_por_minuto &lt;dbl&gt; | Pulsos_por_hora &lt;dbl&gt; |\n",
       "|---|---|---|---|---|\n",
       "| 1 | hombre | 119 |  59 | 3540 |\n",
       "| 3 | hombre | 102 | 107 | 6420 |\n",
       "\n"
      ],
      "text/plain": [
       "  Sexo   Presión_arterial Pulsos_por_minuto Pulsos_por_hora\n",
       "1 hombre 119               59               3540           \n",
       "3 hombre 102              107               6420           "
      ]
     },
     "metadata": {},
     "output_type": "display_data"
    }
   ],
   "source": [
    "hombres_mayor100 <- subset(datos, Sexo=='hombre' & Presión_arterial > 100)\n",
    "hombres_mayor100"
   ]
  },
  {
   "cell_type": "markdown",
   "id": "9ab31763-7c8f-4441-9988-5ff9d9e741a3",
   "metadata": {},
   "source": [
    "Con la función max() determinar el valor máximo de pulsos por minutos de las mujeres"
   ]
  },
  {
   "cell_type": "code",
   "execution_count": 109,
   "id": "47054284-0971-4566-adec-c324c98eb1e6",
   "metadata": {},
   "outputs": [
    {
     "data": {
      "text/html": [
       "92"
      ],
      "text/latex": [
       "92"
      ],
      "text/markdown": [
       "92"
      ],
      "text/plain": [
       "[1] 92"
      ]
     },
     "metadata": {},
     "output_type": "display_data"
    }
   ],
   "source": [
    "max <- max(subset(datos, Sexo=='mujer')[3])\n",
    "max"
   ]
  }
 ],
 "metadata": {
  "kernelspec": {
   "display_name": "R",
   "language": "R",
   "name": "ir"
  },
  "language_info": {
   "codemirror_mode": "r",
   "file_extension": ".r",
   "mimetype": "text/x-r-source",
   "name": "R",
   "pygments_lexer": "r",
   "version": "4.4.3"
  }
 },
 "nbformat": 4,
 "nbformat_minor": 5
}
