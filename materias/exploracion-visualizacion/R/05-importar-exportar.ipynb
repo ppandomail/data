{
 "cells": [
  {
   "cell_type": "markdown",
   "id": "15e24abf-6db9-488c-a692-214986b7f489",
   "metadata": {},
   "source": [
    "# Importar datos"
   ]
  },
  {
   "cell_type": "code",
   "execution_count": null,
   "id": "13b190db-79e4-4890-90ea-6cdc4adad16b",
   "metadata": {},
   "outputs": [],
   "source": [
    "# verificar sobre que directorio se está trabajando\n",
    "getwd()"
   ]
  },
  {
   "cell_type": "code",
   "execution_count": null,
   "id": "63a141c0-bf95-4634-b6fd-307a0f8d5f8a",
   "metadata": {},
   "outputs": [],
   "source": [
    "# cambiar el directorio de trabajo\n",
    "setwd(\"/Users/ppando/Materias/data/materias/exploracion-visualizacion/R\")"
   ]
  },
  {
   "cell_type": "code",
   "execution_count": null,
   "id": "144df994-b8e3-4a2a-b57e-cfd009af5350",
   "metadata": {},
   "outputs": [],
   "source": [
    "df <- read.table(\"usuarios_ecobici_2024.csv\", sep = \",\", header = TRUE)\n",
    "head(df)"
   ]
  },
  {
   "cell_type": "code",
   "execution_count": 7,
   "id": "c591849e-30c7-4de0-8234-edd673bfc5f2",
   "metadata": {},
   "outputs": [
    {
     "data": {
      "text/html": [
       "<table class=\"dataframe\">\n",
       "<caption>A data.frame: 6 × 5</caption>\n",
       "<thead>\n",
       "\t<tr><th></th><th scope=col>id_usuario</th><th scope=col>genero_usuario</th><th scope=col>edad_usuario</th><th scope=col>fecha_alta</th><th scope=col>hora_alta</th></tr>\n",
       "\t<tr><th></th><th scope=col>&lt;int&gt;</th><th scope=col>&lt;chr&gt;</th><th scope=col>&lt;int&gt;</th><th scope=col>&lt;chr&gt;</th><th scope=col>&lt;chr&gt;</th></tr>\n",
       "</thead>\n",
       "<tbody>\n",
       "\t<tr><th scope=row>1</th><td>1094487</td><td>OTHER </td><td>35</td><td>2024-01-18</td><td>09:21:02</td></tr>\n",
       "\t<tr><th scope=row>2</th><td>1097128</td><td>FEMALE</td><td>21</td><td>2024-01-21</td><td>23:02:26</td></tr>\n",
       "\t<tr><th scope=row>3</th><td>1102901</td><td>OTHER </td><td>19</td><td>2024-01-29</td><td>19:33:32</td></tr>\n",
       "\t<tr><th scope=row>4</th><td>1096100</td><td>FEMALE</td><td>29</td><td>2024-01-20</td><td>18:57:05</td></tr>\n",
       "\t<tr><th scope=row>5</th><td>1103049</td><td>MALE  </td><td>21</td><td>2024-01-30</td><td>00:49:33</td></tr>\n",
       "\t<tr><th scope=row>6</th><td>1103476</td><td>FEMALE</td><td>18</td><td>2024-01-30</td><td>21:24:11</td></tr>\n",
       "</tbody>\n",
       "</table>\n"
      ],
      "text/latex": [
       "A data.frame: 6 × 5\n",
       "\\begin{tabular}{r|lllll}\n",
       "  & id\\_usuario & genero\\_usuario & edad\\_usuario & fecha\\_alta & hora\\_alta\\\\\n",
       "  & <int> & <chr> & <int> & <chr> & <chr>\\\\\n",
       "\\hline\n",
       "\t1 & 1094487 & OTHER  & 35 & 2024-01-18 & 09:21:02\\\\\n",
       "\t2 & 1097128 & FEMALE & 21 & 2024-01-21 & 23:02:26\\\\\n",
       "\t3 & 1102901 & OTHER  & 19 & 2024-01-29 & 19:33:32\\\\\n",
       "\t4 & 1096100 & FEMALE & 29 & 2024-01-20 & 18:57:05\\\\\n",
       "\t5 & 1103049 & MALE   & 21 & 2024-01-30 & 00:49:33\\\\\n",
       "\t6 & 1103476 & FEMALE & 18 & 2024-01-30 & 21:24:11\\\\\n",
       "\\end{tabular}\n"
      ],
      "text/markdown": [
       "\n",
       "A data.frame: 6 × 5\n",
       "\n",
       "| <!--/--> | id_usuario &lt;int&gt; | genero_usuario &lt;chr&gt; | edad_usuario &lt;int&gt; | fecha_alta &lt;chr&gt; | hora_alta &lt;chr&gt; |\n",
       "|---|---|---|---|---|---|\n",
       "| 1 | 1094487 | OTHER  | 35 | 2024-01-18 | 09:21:02 |\n",
       "| 2 | 1097128 | FEMALE | 21 | 2024-01-21 | 23:02:26 |\n",
       "| 3 | 1102901 | OTHER  | 19 | 2024-01-29 | 19:33:32 |\n",
       "| 4 | 1096100 | FEMALE | 29 | 2024-01-20 | 18:57:05 |\n",
       "| 5 | 1103049 | MALE   | 21 | 2024-01-30 | 00:49:33 |\n",
       "| 6 | 1103476 | FEMALE | 18 | 2024-01-30 | 21:24:11 |\n",
       "\n"
      ],
      "text/plain": [
       "  id_usuario genero_usuario edad_usuario fecha_alta hora_alta\n",
       "1 1094487    OTHER          35           2024-01-18 09:21:02 \n",
       "2 1097128    FEMALE         21           2024-01-21 23:02:26 \n",
       "3 1102901    OTHER          19           2024-01-29 19:33:32 \n",
       "4 1096100    FEMALE         29           2024-01-20 18:57:05 \n",
       "5 1103049    MALE           21           2024-01-30 00:49:33 \n",
       "6 1103476    FEMALE         18           2024-01-30 21:24:11 "
      ]
     },
     "metadata": {},
     "output_type": "display_data"
    }
   ],
   "source": [
    "# otra forma\n",
    "df <- read.csv(\"usuarios_ecobici_2024.csv\",sep = \",\") \n",
    "head(df)"
   ]
  },
  {
   "cell_type": "code",
   "execution_count": 8,
   "id": "bf12aac7-7b21-4616-94fa-55961ce63584",
   "metadata": {},
   "outputs": [
    {
     "data": {
      "text/html": [
       "<table class=\"dataframe\">\n",
       "<caption>A data.frame: 6 × 6</caption>\n",
       "<thead>\n",
       "\t<tr><th></th><th scope=col>ID_usuario</th><th scope=col>genero_usuario</th><th scope=col>edad_usuario</th><th scope=col>fecha_alta</th><th scope=col>hora_alta</th><th scope=col>Customer.Has.Dni..Yes...No.</th></tr>\n",
       "\t<tr><th></th><th scope=col>&lt;dbl&gt;</th><th scope=col>&lt;chr&gt;</th><th scope=col>&lt;dbl&gt;</th><th scope=col>&lt;dbl&gt;</th><th scope=col>&lt;dbl&gt;</th><th scope=col>&lt;chr&gt;</th></tr>\n",
       "</thead>\n",
       "<tbody>\n",
       "\t<tr><th scope=row>1</th><td>1224742</td><td>FEMALE</td><td>24</td><td>45573</td><td>0.5236690</td><td>No</td></tr>\n",
       "\t<tr><th scope=row>2</th><td>1224990</td><td>MALE  </td><td>18</td><td>45573</td><td>0.7905903</td><td>No</td></tr>\n",
       "\t<tr><th scope=row>3</th><td>1225021</td><td>MALE  </td><td>30</td><td>45573</td><td>0.8301157</td><td>No</td></tr>\n",
       "\t<tr><th scope=row>4</th><td>1224773</td><td>OTHER </td><td>23</td><td>45573</td><td>0.5590394</td><td>No</td></tr>\n",
       "\t<tr><th scope=row>5</th><td>1225009</td><td>MALE  </td><td>21</td><td>45573</td><td>0.8084375</td><td>No</td></tr>\n",
       "\t<tr><th scope=row>6</th><td>1224886</td><td>MALE  </td><td>27</td><td>45573</td><td>0.6719907</td><td>No</td></tr>\n",
       "</tbody>\n",
       "</table>\n"
      ],
      "text/latex": [
       "A data.frame: 6 × 6\n",
       "\\begin{tabular}{r|llllll}\n",
       "  & ID\\_usuario & genero\\_usuario & edad\\_usuario & fecha\\_alta & hora\\_alta & Customer.Has.Dni..Yes...No.\\\\\n",
       "  & <dbl> & <chr> & <dbl> & <dbl> & <dbl> & <chr>\\\\\n",
       "\\hline\n",
       "\t1 & 1224742 & FEMALE & 24 & 45573 & 0.5236690 & No\\\\\n",
       "\t2 & 1224990 & MALE   & 18 & 45573 & 0.7905903 & No\\\\\n",
       "\t3 & 1225021 & MALE   & 30 & 45573 & 0.8301157 & No\\\\\n",
       "\t4 & 1224773 & OTHER  & 23 & 45573 & 0.5590394 & No\\\\\n",
       "\t5 & 1225009 & MALE   & 21 & 45573 & 0.8084375 & No\\\\\n",
       "\t6 & 1224886 & MALE   & 27 & 45573 & 0.6719907 & No\\\\\n",
       "\\end{tabular}\n"
      ],
      "text/markdown": [
       "\n",
       "A data.frame: 6 × 6\n",
       "\n",
       "| <!--/--> | ID_usuario &lt;dbl&gt; | genero_usuario &lt;chr&gt; | edad_usuario &lt;dbl&gt; | fecha_alta &lt;dbl&gt; | hora_alta &lt;dbl&gt; | Customer.Has.Dni..Yes...No. &lt;chr&gt; |\n",
       "|---|---|---|---|---|---|---|\n",
       "| 1 | 1224742 | FEMALE | 24 | 45573 | 0.5236690 | No |\n",
       "| 2 | 1224990 | MALE   | 18 | 45573 | 0.7905903 | No |\n",
       "| 3 | 1225021 | MALE   | 30 | 45573 | 0.8301157 | No |\n",
       "| 4 | 1224773 | OTHER  | 23 | 45573 | 0.5590394 | No |\n",
       "| 5 | 1225009 | MALE   | 21 | 45573 | 0.8084375 | No |\n",
       "| 6 | 1224886 | MALE   | 27 | 45573 | 0.6719907 | No |\n",
       "\n"
      ],
      "text/plain": [
       "  ID_usuario genero_usuario edad_usuario fecha_alta hora_alta\n",
       "1 1224742    FEMALE         24           45573      0.5236690\n",
       "2 1224990    MALE           18           45573      0.7905903\n",
       "3 1225021    MALE           30           45573      0.8301157\n",
       "4 1224773    OTHER          23           45573      0.5590394\n",
       "5 1225009    MALE           21           45573      0.8084375\n",
       "6 1224886    MALE           27           45573      0.6719907\n",
       "  Customer.Has.Dni..Yes...No.\n",
       "1 No                         \n",
       "2 No                         \n",
       "3 No                         \n",
       "4 No                         \n",
       "5 No                         \n",
       "6 No                         "
      ]
     },
     "metadata": {},
     "output_type": "display_data"
    }
   ],
   "source": [
    "# cargamos la librería, instalarla desde Packages\n",
    "library(openxlsx) \n",
    "df <- read.xlsx(\"usuarios_ecobici_2024.xlsx\")\n",
    "head(df)"
   ]
  },
  {
   "cell_type": "code",
   "execution_count": null,
   "id": "1c6490ac-4be3-42a8-bae4-b27dd4242021",
   "metadata": {},
   "outputs": [],
   "source": [
    "View(df)"
   ]
  },
  {
   "cell_type": "markdown",
   "id": "fff7e26f-c4a2-4e58-aa94-fd00bed4d6d1",
   "metadata": {},
   "source": [
    "# Exportar datos"
   ]
  },
  {
   "cell_type": "code",
   "execution_count": null,
   "id": "259e9f8c-1847-4041-87b8-00bd0625b608",
   "metadata": {},
   "outputs": [],
   "source": [
    "# separados por coma\n",
    "write.csv(x = df, file = \"xxx.csv\")\n",
    "\n",
    "# separados por punto y coma\n",
    "write.csv2(x = df, file = \"xxx.csv\")\n",
    "\n",
    "write.xlsx(x = df, file = \"xxx.xlsx\", rowNames = FALSE)"
   ]
  },
  {
   "cell_type": "markdown",
   "id": "0f110fe5-ae1e-43a3-9bf0-00087e173673",
   "metadata": {},
   "source": [
    "## Ejercicios"
   ]
  },
  {
   "cell_type": "markdown",
   "id": "758a9e14-a0eb-4002-a78f-7f72d559d3e2",
   "metadata": {},
   "source": [
    "Descargar de la página correspondiente e importar la base de datos ecobicis"
   ]
  },
  {
   "cell_type": "code",
   "execution_count": 9,
   "id": "17f4cdc8-24ff-4902-b9dd-8aa49238ee24",
   "metadata": {},
   "outputs": [
    {
     "data": {
      "text/html": [
       "<table class=\"dataframe\">\n",
       "<caption>A data.frame: 6 × 5</caption>\n",
       "<thead>\n",
       "\t<tr><th></th><th scope=col>id_usuario</th><th scope=col>genero_usuario</th><th scope=col>edad_usuario</th><th scope=col>fecha_alta</th><th scope=col>hora_alta</th></tr>\n",
       "\t<tr><th></th><th scope=col>&lt;int&gt;</th><th scope=col>&lt;chr&gt;</th><th scope=col>&lt;int&gt;</th><th scope=col>&lt;chr&gt;</th><th scope=col>&lt;chr&gt;</th></tr>\n",
       "</thead>\n",
       "<tbody>\n",
       "\t<tr><th scope=row>1</th><td>1094487</td><td>OTHER </td><td>35</td><td>2024-01-18</td><td>09:21:02</td></tr>\n",
       "\t<tr><th scope=row>2</th><td>1097128</td><td>FEMALE</td><td>21</td><td>2024-01-21</td><td>23:02:26</td></tr>\n",
       "\t<tr><th scope=row>3</th><td>1102901</td><td>OTHER </td><td>19</td><td>2024-01-29</td><td>19:33:32</td></tr>\n",
       "\t<tr><th scope=row>4</th><td>1096100</td><td>FEMALE</td><td>29</td><td>2024-01-20</td><td>18:57:05</td></tr>\n",
       "\t<tr><th scope=row>5</th><td>1103049</td><td>MALE  </td><td>21</td><td>2024-01-30</td><td>00:49:33</td></tr>\n",
       "\t<tr><th scope=row>6</th><td>1103476</td><td>FEMALE</td><td>18</td><td>2024-01-30</td><td>21:24:11</td></tr>\n",
       "</tbody>\n",
       "</table>\n"
      ],
      "text/latex": [
       "A data.frame: 6 × 5\n",
       "\\begin{tabular}{r|lllll}\n",
       "  & id\\_usuario & genero\\_usuario & edad\\_usuario & fecha\\_alta & hora\\_alta\\\\\n",
       "  & <int> & <chr> & <int> & <chr> & <chr>\\\\\n",
       "\\hline\n",
       "\t1 & 1094487 & OTHER  & 35 & 2024-01-18 & 09:21:02\\\\\n",
       "\t2 & 1097128 & FEMALE & 21 & 2024-01-21 & 23:02:26\\\\\n",
       "\t3 & 1102901 & OTHER  & 19 & 2024-01-29 & 19:33:32\\\\\n",
       "\t4 & 1096100 & FEMALE & 29 & 2024-01-20 & 18:57:05\\\\\n",
       "\t5 & 1103049 & MALE   & 21 & 2024-01-30 & 00:49:33\\\\\n",
       "\t6 & 1103476 & FEMALE & 18 & 2024-01-30 & 21:24:11\\\\\n",
       "\\end{tabular}\n"
      ],
      "text/markdown": [
       "\n",
       "A data.frame: 6 × 5\n",
       "\n",
       "| <!--/--> | id_usuario &lt;int&gt; | genero_usuario &lt;chr&gt; | edad_usuario &lt;int&gt; | fecha_alta &lt;chr&gt; | hora_alta &lt;chr&gt; |\n",
       "|---|---|---|---|---|---|\n",
       "| 1 | 1094487 | OTHER  | 35 | 2024-01-18 | 09:21:02 |\n",
       "| 2 | 1097128 | FEMALE | 21 | 2024-01-21 | 23:02:26 |\n",
       "| 3 | 1102901 | OTHER  | 19 | 2024-01-29 | 19:33:32 |\n",
       "| 4 | 1096100 | FEMALE | 29 | 2024-01-20 | 18:57:05 |\n",
       "| 5 | 1103049 | MALE   | 21 | 2024-01-30 | 00:49:33 |\n",
       "| 6 | 1103476 | FEMALE | 18 | 2024-01-30 | 21:24:11 |\n",
       "\n"
      ],
      "text/plain": [
       "  id_usuario genero_usuario edad_usuario fecha_alta hora_alta\n",
       "1 1094487    OTHER          35           2024-01-18 09:21:02 \n",
       "2 1097128    FEMALE         21           2024-01-21 23:02:26 \n",
       "3 1102901    OTHER          19           2024-01-29 19:33:32 \n",
       "4 1096100    FEMALE         29           2024-01-20 18:57:05 \n",
       "5 1103049    MALE           21           2024-01-30 00:49:33 \n",
       "6 1103476    FEMALE         18           2024-01-30 21:24:11 "
      ]
     },
     "metadata": {},
     "output_type": "display_data"
    }
   ],
   "source": [
    "setwd(\"/Users/ppando/Materias/data/materias/exploracion-visualizacion/R\")\n",
    "df <- read.table(\"usuarios_ecobici_2024.csv\", sep = \",\", header = TRUE)\n",
    "head(df)"
   ]
  },
  {
   "cell_type": "markdown",
   "id": "e535cc8e-81da-4de9-8085-8ea8004fbc71",
   "metadata": {},
   "source": [
    "Leer los nombres de las columnas de la base"
   ]
  },
  {
   "cell_type": "code",
   "execution_count": 10,
   "id": "94f621ae-40ec-4a73-b6d0-91181af92ab5",
   "metadata": {},
   "outputs": [
    {
     "data": {
      "text/html": [
       "<style>\n",
       ".list-inline {list-style: none; margin:0; padding: 0}\n",
       ".list-inline>li {display: inline-block}\n",
       ".list-inline>li:not(:last-child)::after {content: \"\\00b7\"; padding: 0 .5ex}\n",
       "</style>\n",
       "<ol class=list-inline><li>'id_usuario'</li><li>'genero_usuario'</li><li>'edad_usuario'</li><li>'fecha_alta'</li><li>'hora_alta'</li></ol>\n"
      ],
      "text/latex": [
       "\\begin{enumerate*}\n",
       "\\item 'id\\_usuario'\n",
       "\\item 'genero\\_usuario'\n",
       "\\item 'edad\\_usuario'\n",
       "\\item 'fecha\\_alta'\n",
       "\\item 'hora\\_alta'\n",
       "\\end{enumerate*}\n"
      ],
      "text/markdown": [
       "1. 'id_usuario'\n",
       "2. 'genero_usuario'\n",
       "3. 'edad_usuario'\n",
       "4. 'fecha_alta'\n",
       "5. 'hora_alta'\n",
       "\n",
       "\n"
      ],
      "text/plain": [
       "[1] \"id_usuario\"     \"genero_usuario\" \"edad_usuario\"   \"fecha_alta\"    \n",
       "[5] \"hora_alta\"     "
      ]
     },
     "metadata": {},
     "output_type": "display_data"
    }
   ],
   "source": [
    "x <- names(df)\n",
    "x"
   ]
  },
  {
   "cell_type": "markdown",
   "id": "4f2cc721-7493-4f82-949b-43603c3923e2",
   "metadata": {},
   "source": [
    "¿Cuántos años tiene la mujer de mayor edad?"
   ]
  },
  {
   "cell_type": "code",
   "execution_count": 11,
   "id": "c70339f0-08d8-4400-ba13-8b173173b92c",
   "metadata": {},
   "outputs": [
    {
     "data": {
      "text/html": [
       "2016"
      ],
      "text/latex": [
       "2016"
      ],
      "text/markdown": [
       "2016"
      ],
      "text/plain": [
       "[1] 2016"
      ]
     },
     "metadata": {},
     "output_type": "display_data"
    }
   ],
   "source": [
    "df_females <- subset(df, genero_usuario=='FEMALE') \n",
    "x <- max(df_females$edad_usuario)\n",
    "x"
   ]
  },
  {
   "cell_type": "markdown",
   "id": "a968eb02-5c08-400d-bec9-8bad0fe9d862",
   "metadata": {},
   "source": [
    "¿Cuál es la edad más frecuente de los hombres?"
   ]
  },
  {
   "cell_type": "code",
   "execution_count": 12,
   "id": "358631ed-aaa8-4650-8c74-925f133e0f6b",
   "metadata": {},
   "outputs": [
    {
     "data": {
      "text/html": [
       "18"
      ],
      "text/latex": [
       "18"
      ],
      "text/markdown": [
       "18"
      ],
      "text/plain": [
       "[1] 18"
      ]
     },
     "metadata": {},
     "output_type": "display_data"
    }
   ],
   "source": [
    "# Se filtró por edad_usuario menor a 100\n",
    "df_male <- subset(df, genero_usuario=='MALE' & edad_usuario < 100) \n",
    "frecuencias <- table(df_male$edad_usuario)\n",
    "x <- as.numeric(names(frecuencias)[which.max(frecuencias)])\n",
    "x"
   ]
  },
  {
   "cell_type": "markdown",
   "id": "206ac53f-3643-467a-94ff-55cdba7abd2c",
   "metadata": {},
   "source": [
    "Gráfico de frecuencia"
   ]
  },
  {
   "cell_type": "code",
   "execution_count": 14,
   "id": "dd0ee2c6-efd1-4c4e-811f-6b7c64ae4dcb",
   "metadata": {},
   "outputs": [],
   "source": [
    "library(ggplot2)"
   ]
  },
  {
   "cell_type": "code",
   "execution_count": 15,
   "id": "0b9a47f0-7139-461f-a2ba-f196540317aa",
   "metadata": {},
   "outputs": [
    {
     "data": {
      "image/png": "[encoded data removed]",
      "text/plain": [
       "plot without title"
      ]
     },
     "metadata": {
      "image/png": {
       "height": 420,
       "width": 420
      }
     },
     "output_type": "display_data"
    }
   ],
   "source": [
    "ggplot(df_male, aes(x = edad_usuario)) +\n",
    "  geom_bar(stat = \"count\", fill = \"blue\") +\n",
    "  labs(title = \"Frecuencia de Edad de Hombres en Ecobici\", \n",
    "        x = \"Edad\", \n",
    "        y = \"Frecuencia\") +\n",
    "  theme_minimal()"
   ]
  },
  {
   "cell_type": "markdown",
   "id": "1d2b9dc1-21de-4fb5-9cbd-fe0209ec1f9d",
   "metadata": {},
   "source": [
    "Segmentar la base con las mujeres que tienen una edad mayor a 40 y guardarla en un archivo .csv"
   ]
  },
  {
   "cell_type": "code",
   "execution_count": 16,
   "id": "4191c7b3-8398-4f20-a8f4-8de53437bff7",
   "metadata": {},
   "outputs": [],
   "source": [
    "df_female_mas_40 <- subset(df, genero_usuario=='FEMALE' & edad_usuario > 40)\n",
    "write.csv2(x = df_female_mas_40, file = \"df_female_mas_40.csv\")"
   ]
  },
  {
   "cell_type": "markdown",
   "id": "5948befc-d6d1-4c18-929d-2529050301bc",
   "metadata": {},
   "source": [
    "Guardar los datos de cada categoría de la variable \"genero_usuario\" en distintos dataframes y exportarlos a distintas hojas del Excel"
   ]
  },
  {
   "cell_type": "code",
   "execution_count": 17,
   "id": "de9a8287-f59b-4176-a80f-77de0c136180",
   "metadata": {},
   "outputs": [],
   "source": [
    "library(openxlsx)"
   ]
  },
  {
   "cell_type": "code",
   "execution_count": 18,
   "id": "b03e8462-607a-406f-966f-b8e7809cf2e2",
   "metadata": {},
   "outputs": [],
   "source": [
    "df_fem = subset(df, genero_usuario=='FEMALE')\n",
    "df_mal = subset(df, genero_usuario=='MALE')\n",
    "df_other = subset(df, genero_usuario=='OTHER')\n",
    "lista_exportar <- list(\"df_mal\" = df_mal, \"df_fem\" = df_fem, \"df_other\" = df_other)\n",
    "write.xlsx(x = lista_exportar, file = \"base_dividida.xlsx\", rowNames = FALSE)"
   ]
  }
 ],
 "metadata": {
  "kernelspec": {
   "display_name": "R",
   "language": "R",
   "name": "ir"
  },
  "language_info": {
   "codemirror_mode": "r",
   "file_extension": ".r",
   "mimetype": "text/x-r-source",
   "name": "R",
   "pygments_lexer": "r",
   "version": "4.4.3"
  }
 },
 "nbformat": 4,
 "nbformat_minor": 5
}
