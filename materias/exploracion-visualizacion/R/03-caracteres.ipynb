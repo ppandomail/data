{
 "cells": [
  {
   "cell_type": "markdown",
   "id": "f0f96333-091a-4582-845a-ab1e2aa64dd7",
   "metadata": {},
   "source": [
    "# Caracteres"
   ]
  },
  {
   "cell_type": "markdown",
   "id": "5784ce61-617d-4bda-af7d-1f4bb0f78936",
   "metadata": {},
   "source": [
    "Guardar la palabra ¡Visualizacion! en un objeto"
   ]
  },
  {
   "cell_type": "code",
   "execution_count": 1,
   "id": "c0388aa0-b795-42a8-bb86-6d598def3c8c",
   "metadata": {},
   "outputs": [
    {
     "data": {
      "text/html": [
       "'¡Visualizacion!'"
      ],
      "text/latex": [
       "'¡Visualizacion!'"
      ],
      "text/markdown": [
       "'¡Visualizacion!'"
      ],
      "text/plain": [
       "[1] \"¡Visualizacion!\""
      ]
     },
     "metadata": {},
     "output_type": "display_data"
    }
   ],
   "source": [
    "x <- \"¡Visualizacion!\"\n",
    "x"
   ]
  },
  {
   "cell_type": "markdown",
   "id": "7a79cc9f-61d8-45e0-8034-34f1955d7fb7",
   "metadata": {},
   "source": [
    "Crear un objeto llamada \"colores\" que contenga un vector con las cadenas \"rojo\", \"azul\", \"verde\", \"azul\", \"rojo\""
   ]
  },
  {
   "cell_type": "code",
   "execution_count": 2,
   "id": "72bb553d-414d-4b51-9635-f358553bd830",
   "metadata": {},
   "outputs": [
    {
     "data": {
      "text/html": [
       "<style>\n",
       ".list-inline {list-style: none; margin:0; padding: 0}\n",
       ".list-inline>li {display: inline-block}\n",
       ".list-inline>li:not(:last-child)::after {content: \"\\00b7\"; padding: 0 .5ex}\n",
       "</style>\n",
       "<ol class=list-inline><li>'rojo'</li><li>'azul'</li><li>'verde'</li><li>'azul'</li><li>'rojo'</li></ol>\n"
      ],
      "text/latex": [
       "\\begin{enumerate*}\n",
       "\\item 'rojo'\n",
       "\\item 'azul'\n",
       "\\item 'verde'\n",
       "\\item 'azul'\n",
       "\\item 'rojo'\n",
       "\\end{enumerate*}\n"
      ],
      "text/markdown": [
       "1. 'rojo'\n",
       "2. 'azul'\n",
       "3. 'verde'\n",
       "4. 'azul'\n",
       "5. 'rojo'\n",
       "\n",
       "\n"
      ],
      "text/plain": [
       "[1] \"rojo\"  \"azul\"  \"verde\" \"azul\"  \"rojo\" "
      ]
     },
     "metadata": {},
     "output_type": "display_data"
    }
   ],
   "source": [
    "colores <- c(\"rojo\", \"azul\", \"verde\", \"azul\", \"rojo\")\n",
    "colores"
   ]
  },
  {
   "cell_type": "markdown",
   "id": "f7141dd0-1131-4a48-b787-6c8db3b69d4b",
   "metadata": {},
   "source": [
    "Aumentar la longitud del vector \"colores\" a 10"
   ]
  },
  {
   "cell_type": "code",
   "execution_count": 3,
   "id": "94dd6bd4-f30a-45cf-8261-bca3fde03cff",
   "metadata": {},
   "outputs": [
    {
     "data": {
      "text/html": [
       "<style>\n",
       ".list-inline {list-style: none; margin:0; padding: 0}\n",
       ".list-inline>li {display: inline-block}\n",
       ".list-inline>li:not(:last-child)::after {content: \"\\00b7\"; padding: 0 .5ex}\n",
       "</style>\n",
       "<ol class=list-inline><li>'rojo'</li><li>'azul'</li><li>'verde'</li><li>'azul'</li><li>'rojo'</li><li>NA</li><li>NA</li><li>NA</li><li>NA</li><li>NA</li></ol>\n"
      ],
      "text/latex": [
       "\\begin{enumerate*}\n",
       "\\item 'rojo'\n",
       "\\item 'azul'\n",
       "\\item 'verde'\n",
       "\\item 'azul'\n",
       "\\item 'rojo'\n",
       "\\item NA\n",
       "\\item NA\n",
       "\\item NA\n",
       "\\item NA\n",
       "\\item NA\n",
       "\\end{enumerate*}\n"
      ],
      "text/markdown": [
       "1. 'rojo'\n",
       "2. 'azul'\n",
       "3. 'verde'\n",
       "4. 'azul'\n",
       "5. 'rojo'\n",
       "6. NA\n",
       "7. NA\n",
       "8. NA\n",
       "9. NA\n",
       "10. NA\n",
       "\n",
       "\n"
      ],
      "text/plain": [
       " [1] \"rojo\"  \"azul\"  \"verde\" \"azul\"  \"rojo\"  NA      NA      NA      NA     \n",
       "[10] NA     "
      ]
     },
     "metadata": {},
     "output_type": "display_data"
    }
   ],
   "source": [
    "length(colores) <- 10\n",
    "colores"
   ]
  }
 ],
 "metadata": {
  "kernelspec": {
   "display_name": "R",
   "language": "R",
   "name": "ir"
  },
  "language_info": {
   "codemirror_mode": "r",
   "file_extension": ".r",
   "mimetype": "text/x-r-source",
   "name": "R",
   "pygments_lexer": "r",
   "version": "4.4.3"
  }
 },
 "nbformat": 4,
 "nbformat_minor": 5
}
