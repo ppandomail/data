{
 "cells": [
  {
   "cell_type": "markdown",
   "id": "c3438c8c-876f-4c56-bc67-6b6eb35fe6bf",
   "metadata": {},
   "source": [
    "# Operadores y tipos"
   ]
  },
  {
   "cell_type": "markdown",
   "id": "5168d358-8ee1-482a-bb59-1f63a6de4fd2",
   "metadata": {},
   "source": [
    "# Sintaxis"
   ]
  },
  {
   "cell_type": "code",
   "execution_count": 7,
   "id": "a440482a-9f8f-4415-9f99-c42a5d574a17",
   "metadata": {},
   "outputs": [],
   "source": [
    "# asignación\n",
    "x <- 1"
   ]
  },
  {
   "cell_type": "code",
   "execution_count": 8,
   "id": "eb1c4167-3061-499d-bc74-26689d4d4925",
   "metadata": {},
   "outputs": [
    {
     "data": {
      "text/html": [
       "1"
      ],
      "text/latex": [
       "1"
      ],
      "text/markdown": [
       "1"
      ],
      "text/plain": [
       "[1] 1"
      ]
     },
     "metadata": {},
     "output_type": "display_data"
    }
   ],
   "source": [
    "# contenido\n",
    "x"
   ]
  },
  {
   "cell_type": "code",
   "execution_count": 9,
   "id": "eb785f05-98da-4fac-a247-96b806d7378d",
   "metadata": {},
   "outputs": [
    {
     "name": "stdout",
     "output_type": "stream",
     "text": [
      "[1] 1\n"
     ]
    }
   ],
   "source": [
    "# contenido\n",
    "print(x)"
   ]
  },
  {
   "cell_type": "code",
   "execution_count": 10,
   "id": "1bfe7fe2-d507-4695-a98e-7ce80bba435f",
   "metadata": {},
   "outputs": [
    {
     "data": {
      "text/html": [
       "'numeric'"
      ],
      "text/latex": [
       "'numeric'"
      ],
      "text/markdown": [
       "'numeric'"
      ],
      "text/plain": [
       "[1] \"numeric\""
      ]
     },
     "metadata": {},
     "output_type": "display_data"
    }
   ],
   "source": [
    "# tipo\n",
    "mode(x)"
   ]
  },
  {
   "cell_type": "code",
   "execution_count": 11,
   "id": "ac84d7c3-865a-41d0-831f-c34fcd49de27",
   "metadata": {},
   "outputs": [
    {
     "data": {
      "text/html": [
       "1"
      ],
      "text/latex": [
       "1"
      ],
      "text/markdown": [
       "1"
      ],
      "text/plain": [
       "[1] 1"
      ]
     },
     "metadata": {},
     "output_type": "display_data"
    }
   ],
   "source": [
    "# longitud\n",
    "length(x)"
   ]
  },
  {
   "cell_type": "code",
   "execution_count": 12,
   "id": "bb613f6c-d2c3-4dbe-b00b-214cef47acbe",
   "metadata": {},
   "outputs": [],
   "source": [
    "# elimina variable\n",
    "rm(x)"
   ]
  },
  {
   "cell_type": "code",
   "execution_count": 13,
   "id": "eee54a7b-cf91-4f9d-822b-d1bb86305f79",
   "metadata": {},
   "outputs": [
    {
     "ename": "ERROR",
     "evalue": "Error: object 'x' not found\n",
     "output_type": "error",
     "traceback": [
      "Error: object 'x' not found\nTraceback:\n",
      "1. .handleSimpleError(function (cnd) \n . {\n .     watcher$capture_plot_and_output()\n .     cnd <- sanitize_call(cnd)\n .     watcher$push(cnd)\n .     switch(on_error, continue = invokeRestart(\"eval_continue\"), \n .         stop = invokeRestart(\"eval_stop\"), error = NULL)\n . }, \"object 'x' not found\", base::quote(eval(expr, envir)))"
     ]
    }
   ],
   "source": [
    "print(x)"
   ]
  },
  {
   "cell_type": "code",
   "execution_count": 14,
   "id": "bb92c885-f0e5-4243-a0a2-1f1c01fb695c",
   "metadata": {},
   "outputs": [],
   "source": [
    "y <- 2"
   ]
  },
  {
   "cell_type": "code",
   "execution_count": 15,
   "id": "9ebefae0-a747-481a-ae8b-07c3f86651bf",
   "metadata": {},
   "outputs": [
    {
     "data": {
      "text/html": [
       "'y'"
      ],
      "text/latex": [
       "'y'"
      ],
      "text/markdown": [
       "'y'"
      ],
      "text/plain": [
       "[1] \"y\""
      ]
     },
     "metadata": {},
     "output_type": "display_data"
    }
   ],
   "source": [
    "ls()"
   ]
  },
  {
   "cell_type": "markdown",
   "id": "e768f697-0e81-40c8-84d3-512646b9703e",
   "metadata": {},
   "source": [
    "## Operaciones algebraicas"
   ]
  },
  {
   "cell_type": "code",
   "execution_count": 31,
   "id": "2f0accea-0b47-424e-8e1e-f9a02149e2be",
   "metadata": {},
   "outputs": [
    {
     "data": {
      "text/html": [
       "4"
      ],
      "text/latex": [
       "4"
      ],
      "text/markdown": [
       "4"
      ],
      "text/plain": [
       "[1] 4"
      ]
     },
     "metadata": {},
     "output_type": "display_data"
    }
   ],
   "source": [
    "# suma\n",
    "2 + 2"
   ]
  },
  {
   "cell_type": "code",
   "execution_count": 32,
   "id": "4c23aede-33c7-429d-982c-8096b8d26226",
   "metadata": {},
   "outputs": [
    {
     "data": {
      "text/html": [
       "0"
      ],
      "text/latex": [
       "0"
      ],
      "text/markdown": [
       "0"
      ],
      "text/plain": [
       "[1] 0"
      ]
     },
     "metadata": {},
     "output_type": "display_data"
    }
   ],
   "source": [
    "# resta\n",
    "2 - 2"
   ]
  },
  {
   "cell_type": "code",
   "execution_count": 33,
   "id": "b6ebe10b-8662-4aa6-bd34-c43e90e5a501",
   "metadata": {},
   "outputs": [
    {
     "data": {
      "text/html": [
       "4"
      ],
      "text/latex": [
       "4"
      ],
      "text/markdown": [
       "4"
      ],
      "text/plain": [
       "[1] 4"
      ]
     },
     "metadata": {},
     "output_type": "display_data"
    }
   ],
   "source": [
    "# multiplicación\n",
    "2 * 2"
   ]
  },
  {
   "cell_type": "code",
   "execution_count": 35,
   "id": "8a8bc5ed-b82f-4a46-a07d-1b246062b37a",
   "metadata": {},
   "outputs": [
    {
     "data": {
      "text/html": [
       "1"
      ],
      "text/latex": [
       "1"
      ],
      "text/markdown": [
       "1"
      ],
      "text/plain": [
       "[1] 1"
      ]
     },
     "metadata": {},
     "output_type": "display_data"
    }
   ],
   "source": [
    "# división\n",
    "2 / 2"
   ]
  },
  {
   "cell_type": "code",
   "execution_count": 36,
   "id": "76684428-ad8b-44c5-a58d-a8c8bceea6d6",
   "metadata": {},
   "outputs": [
    {
     "data": {
      "text/html": [
       "4"
      ],
      "text/latex": [
       "4"
      ],
      "text/markdown": [
       "4"
      ],
      "text/plain": [
       "[1] 4"
      ]
     },
     "metadata": {},
     "output_type": "display_data"
    }
   ],
   "source": [
    "# potencia\n",
    "2 ^ 2"
   ]
  },
  {
   "cell_type": "code",
   "execution_count": 37,
   "id": "980f8481-65c3-417f-9889-fadd163ba23d",
   "metadata": {},
   "outputs": [
    {
     "data": {
      "text/html": [
       "1"
      ],
      "text/latex": [
       "1"
      ],
      "text/markdown": [
       "1"
      ],
      "text/plain": [
       "[1] 1"
      ]
     },
     "metadata": {},
     "output_type": "display_data"
    }
   ],
   "source": [
    "# parte entera de la división \n",
    "2 %/% 2"
   ]
  },
  {
   "cell_type": "code",
   "execution_count": 38,
   "id": "d015132f-eac8-4ade-948f-083be70b0327",
   "metadata": {},
   "outputs": [
    {
     "data": {
      "text/html": [
       "0"
      ],
      "text/latex": [
       "0"
      ],
      "text/markdown": [
       "0"
      ],
      "text/plain": [
       "[1] 0"
      ]
     },
     "metadata": {},
     "output_type": "display_data"
    }
   ],
   "source": [
    "# resto\n",
    "2 %% 2"
   ]
  },
  {
   "cell_type": "markdown",
   "id": "a5afaa54-c0cf-4f5d-99ab-a51ff41edde5",
   "metadata": {},
   "source": [
    "## Funciones matemáticas"
   ]
  },
  {
   "cell_type": "code",
   "execution_count": 39,
   "id": "d053732d-2cd0-487b-82df-175754c5a405",
   "metadata": {},
   "outputs": [
    {
     "data": {
      "text/html": [
       "3"
      ],
      "text/latex": [
       "3"
      ],
      "text/markdown": [
       "3"
      ],
      "text/plain": [
       "[1] 3"
      ]
     },
     "metadata": {},
     "output_type": "display_data"
    }
   ],
   "source": [
    "# raiz cuadrada\n",
    "sqrt(9)"
   ]
  },
  {
   "cell_type": "code",
   "execution_count": 40,
   "id": "1aefb419-b834-41c5-831a-ed0c7feb51ad",
   "metadata": {},
   "outputs": [
    {
     "data": {
      "text/html": [
       "0.367879441171442"
      ],
      "text/latex": [
       "0.367879441171442"
      ],
      "text/markdown": [
       "0.367879441171442"
      ],
      "text/plain": [
       "[1] 0.3678794"
      ]
     },
     "metadata": {},
     "output_type": "display_data"
    }
   ],
   "source": [
    "# exponencial\n",
    "exp(-1)"
   ]
  },
  {
   "cell_type": "code",
   "execution_count": 41,
   "id": "28b86eb6-9395-4f41-94c8-870e3a968348",
   "metadata": {},
   "outputs": [
    {
     "data": {
      "text/html": [
       "4.60517018598809"
      ],
      "text/latex": [
       "4.60517018598809"
      ],
      "text/markdown": [
       "4.60517018598809"
      ],
      "text/plain": [
       "[1] 4.60517"
      ]
     },
     "metadata": {},
     "output_type": "display_data"
    }
   ],
   "source": [
    "# logaritmo natural\n",
    "log(100)"
   ]
  },
  {
   "cell_type": "code",
   "execution_count": 42,
   "id": "51a22c8d-5ad1-4c1d-be4e-cee2dd0afaa5",
   "metadata": {},
   "outputs": [
    {
     "data": {
      "text/html": [
       "1"
      ],
      "text/latex": [
       "1"
      ],
      "text/markdown": [
       "1"
      ],
      "text/plain": [
       "[1] 1"
      ]
     },
     "metadata": {},
     "output_type": "display_data"
    }
   ],
   "source": [
    "# logaritmo base 10\n",
    "log10(10)"
   ]
  },
  {
   "cell_type": "code",
   "execution_count": 43,
   "id": "9c5954cc-403b-479a-948e-6ad33123aad4",
   "metadata": {},
   "outputs": [
    {
     "data": {
      "text/html": [
       "1"
      ],
      "text/latex": [
       "1"
      ],
      "text/markdown": [
       "1"
      ],
      "text/plain": [
       "[1] 1"
      ]
     },
     "metadata": {},
     "output_type": "display_data"
    }
   ],
   "source": [
    "# valor absoluto\n",
    "abs(-1)"
   ]
  },
  {
   "cell_type": "code",
   "execution_count": 44,
   "id": "9447510f-f649-429e-84f7-9947af85ab8c",
   "metadata": {},
   "outputs": [
    {
     "data": {
      "text/html": [
       "6"
      ],
      "text/latex": [
       "6"
      ],
      "text/markdown": [
       "6"
      ],
      "text/plain": [
       "[1] 6"
      ]
     },
     "metadata": {},
     "output_type": "display_data"
    }
   ],
   "source": [
    "# suma\n",
    "sum(c(2, 4))"
   ]
  },
  {
   "cell_type": "code",
   "execution_count": 45,
   "id": "d3ab13ea-18d0-4da5-a9de-06fcb1acdb27",
   "metadata": {},
   "outputs": [
    {
     "data": {
      "text/html": [
       "8"
      ],
      "text/latex": [
       "8"
      ],
      "text/markdown": [
       "8"
      ],
      "text/plain": [
       "[1] 8"
      ]
     },
     "metadata": {},
     "output_type": "display_data"
    }
   ],
   "source": [
    "# producto\n",
    "prod(c(2, 4))"
   ]
  },
  {
   "cell_type": "code",
   "execution_count": 46,
   "id": "9b4ab28d-307d-42d7-84e6-94c74bebef06",
   "metadata": {},
   "outputs": [
    {
     "data": {
      "text/html": [
       "3.42"
      ],
      "text/latex": [
       "3.42"
      ],
      "text/markdown": [
       "3.42"
      ],
      "text/plain": [
       "[1] 3.42"
      ]
     },
     "metadata": {},
     "output_type": "display_data"
    }
   ],
   "source": [
    "# redondedo\n",
    "round(3.424, 2)"
   ]
  },
  {
   "cell_type": "code",
   "execution_count": 49,
   "id": "032280df-7d1f-46ff-9c98-f4d6bb848646",
   "metadata": {},
   "outputs": [
    {
     "data": {
      "text/html": [
       "2"
      ],
      "text/latex": [
       "2"
      ],
      "text/markdown": [
       "2"
      ],
      "text/plain": [
       "[1] 2"
      ]
     },
     "metadata": {},
     "output_type": "display_data"
    }
   ],
   "source": [
    "# redondeo para arriba\n",
    "ceiling(1.4)"
   ]
  },
  {
   "cell_type": "code",
   "execution_count": 50,
   "id": "0553491d-a92d-4710-ab40-e1f888282ed0",
   "metadata": {},
   "outputs": [
    {
     "data": {
      "text/html": [
       "1"
      ],
      "text/latex": [
       "1"
      ],
      "text/markdown": [
       "1"
      ],
      "text/plain": [
       "[1] 1"
      ]
     },
     "metadata": {},
     "output_type": "display_data"
    }
   ],
   "source": [
    "# redondeo para abajo\n",
    "floor(1.4)"
   ]
  },
  {
   "cell_type": "code",
   "execution_count": 52,
   "id": "cbd5540a-2815-4107-baa4-154fe9cb11cc",
   "metadata": {},
   "outputs": [
    {
     "data": {
      "text/html": [
       "15"
      ],
      "text/latex": [
       "15"
      ],
      "text/markdown": [
       "15"
      ],
      "text/plain": [
       "[1] 15"
      ]
     },
     "metadata": {},
     "output_type": "display_data"
    }
   ],
   "source": [
    "# máximo\n",
    "max(5, 15, 15)"
   ]
  },
  {
   "cell_type": "code",
   "execution_count": 53,
   "id": "0115f49f-0765-472a-91d1-6c2cf98530da",
   "metadata": {},
   "outputs": [
    {
     "data": {
      "text/html": [
       "5"
      ],
      "text/latex": [
       "5"
      ],
      "text/markdown": [
       "5"
      ],
      "text/plain": [
       "[1] 5"
      ]
     },
     "metadata": {},
     "output_type": "display_data"
    }
   ],
   "source": [
    "# mínimo\n",
    "min(5, 10, 15)"
   ]
  },
  {
   "cell_type": "markdown",
   "id": "4696fef4-512b-4bfe-85ae-f5ffc0039ed1",
   "metadata": {},
   "source": [
    "## Valores especiales"
   ]
  },
  {
   "cell_type": "code",
   "execution_count": 54,
   "id": "a003267a-5718-41b4-b6aa-bfed08399a63",
   "metadata": {},
   "outputs": [
    {
     "data": {
      "text/html": [
       "Inf"
      ],
      "text/latex": [
       "Inf"
      ],
      "text/markdown": [
       "Inf"
      ],
      "text/plain": [
       "[1] Inf"
      ]
     },
     "metadata": {},
     "output_type": "display_data"
    }
   ],
   "source": [
    "2^2048"
   ]
  },
  {
   "cell_type": "code",
   "execution_count": 55,
   "id": "7599015e-6c05-46a8-8114-da511ef0f316",
   "metadata": {},
   "outputs": [
    {
     "data": {
      "text/html": [
       "NaN"
      ],
      "text/latex": [
       "NaN"
      ],
      "text/markdown": [
       "NaN"
      ],
      "text/plain": [
       "[1] NaN"
      ]
     },
     "metadata": {},
     "output_type": "display_data"
    }
   ],
   "source": [
    "0/0"
   ]
  },
  {
   "cell_type": "markdown",
   "id": "fd995c9e-009d-42d9-8393-8f1ea1450405",
   "metadata": {},
   "source": [
    "## Operadores lógicos"
   ]
  },
  {
   "cell_type": "code",
   "execution_count": 56,
   "id": "a30418ce-256d-4034-8dff-a230406a7a4a",
   "metadata": {},
   "outputs": [],
   "source": [
    "x <- 2\n",
    "y <- 3"
   ]
  },
  {
   "cell_type": "code",
   "execution_count": 57,
   "id": "86abb96e-1d1b-4728-9aae-020c447a5b66",
   "metadata": {},
   "outputs": [
    {
     "data": {
      "text/html": [
       "TRUE"
      ],
      "text/latex": [
       "TRUE"
      ],
      "text/markdown": [
       "TRUE"
      ],
      "text/plain": [
       "[1] TRUE"
      ]
     },
     "metadata": {},
     "output_type": "display_data"
    }
   ],
   "source": [
    "x < y"
   ]
  },
  {
   "cell_type": "code",
   "execution_count": 58,
   "id": "72534586-4ae4-4557-9cbf-be82b8d2f6c9",
   "metadata": {},
   "outputs": [
    {
     "data": {
      "text/html": [
       "TRUE"
      ],
      "text/latex": [
       "TRUE"
      ],
      "text/markdown": [
       "TRUE"
      ],
      "text/plain": [
       "[1] TRUE"
      ]
     },
     "metadata": {},
     "output_type": "display_data"
    }
   ],
   "source": [
    "x <= y"
   ]
  },
  {
   "cell_type": "code",
   "execution_count": 59,
   "id": "a2e1af8a-0cfa-45ff-a095-4f24bc868f85",
   "metadata": {},
   "outputs": [
    {
     "data": {
      "text/html": [
       "FALSE"
      ],
      "text/latex": [
       "FALSE"
      ],
      "text/markdown": [
       "FALSE"
      ],
      "text/plain": [
       "[1] FALSE"
      ]
     },
     "metadata": {},
     "output_type": "display_data"
    }
   ],
   "source": [
    "x > y"
   ]
  },
  {
   "cell_type": "code",
   "execution_count": 60,
   "id": "a86ec834-ea5e-44c1-b524-bd45f71b0390",
   "metadata": {},
   "outputs": [
    {
     "data": {
      "text/html": [
       "FALSE"
      ],
      "text/latex": [
       "FALSE"
      ],
      "text/markdown": [
       "FALSE"
      ],
      "text/plain": [
       "[1] FALSE"
      ]
     },
     "metadata": {},
     "output_type": "display_data"
    }
   ],
   "source": [
    "x >= y"
   ]
  },
  {
   "cell_type": "code",
   "execution_count": 61,
   "id": "b8b92576-9e65-4b6b-bf77-b9f29378298a",
   "metadata": {},
   "outputs": [
    {
     "data": {
      "text/html": [
       "FALSE"
      ],
      "text/latex": [
       "FALSE"
      ],
      "text/markdown": [
       "FALSE"
      ],
      "text/plain": [
       "[1] FALSE"
      ]
     },
     "metadata": {},
     "output_type": "display_data"
    }
   ],
   "source": [
    "x == y"
   ]
  },
  {
   "cell_type": "code",
   "execution_count": 62,
   "id": "9530b9cf-dd25-47f9-a70e-e2e335a1523c",
   "metadata": {},
   "outputs": [
    {
     "data": {
      "text/html": [
       "TRUE"
      ],
      "text/latex": [
       "TRUE"
      ],
      "text/markdown": [
       "TRUE"
      ],
      "text/plain": [
       "[1] TRUE"
      ]
     },
     "metadata": {},
     "output_type": "display_data"
    }
   ],
   "source": [
    "x != y"
   ]
  },
  {
   "cell_type": "markdown",
   "id": "058baf83-f2ab-455f-a4d1-f771127d76c5",
   "metadata": {},
   "source": [
    "## Tipos datos básicos"
   ]
  },
  {
   "cell_type": "code",
   "execution_count": 63,
   "id": "b4c6bff3-bc70-46ef-a169-3741b1be2a2a",
   "metadata": {},
   "outputs": [],
   "source": [
    "nombre <- \"Datos\""
   ]
  },
  {
   "cell_type": "code",
   "execution_count": 64,
   "id": "90ac57c7-776a-43d0-b71e-262f17d76276",
   "metadata": {},
   "outputs": [
    {
     "data": {
      "text/html": [
       "1"
      ],
      "text/latex": [
       "1"
      ],
      "text/markdown": [
       "1"
      ],
      "text/plain": [
       "[1] 1"
      ]
     },
     "metadata": {},
     "output_type": "display_data"
    }
   ],
   "source": [
    "length(nombre)"
   ]
  },
  {
   "cell_type": "code",
   "execution_count": 66,
   "id": "2fac482d-abc7-4a28-a3a9-98ba95c4d9ee",
   "metadata": {},
   "outputs": [],
   "source": [
    "real <- 3.14"
   ]
  },
  {
   "cell_type": "code",
   "execution_count": 67,
   "id": "90e14d57-67ff-43d1-a2b7-233c2cec27e4",
   "metadata": {},
   "outputs": [],
   "source": [
    "entero <- 2"
   ]
  },
  {
   "cell_type": "code",
   "execution_count": 68,
   "id": "a03cd51d-223a-44a2-a891-e8b8f33bb49e",
   "metadata": {},
   "outputs": [],
   "source": [
    "complejo <- 2 + 4i"
   ]
  },
  {
   "cell_type": "code",
   "execution_count": 69,
   "id": "1a38d40e-6529-483a-ad2e-f5ad4ccfe49b",
   "metadata": {},
   "outputs": [],
   "source": [
    "logico <- TRUE"
   ]
  },
  {
   "cell_type": "markdown",
   "id": "fa32eb2f-c3e3-4211-b20c-259bc189c424",
   "metadata": {},
   "source": [
    "## Ejercicios"
   ]
  },
  {
   "cell_type": "markdown",
   "id": "76825eed-cec2-4d53-95ec-e953eb616fe7",
   "metadata": {},
   "source": [
    "Realizar la siguiente operación y guardarlo en una variable \"calc_1\" (45/5−5)∗10"
   ]
  },
  {
   "cell_type": "code",
   "execution_count": 76,
   "id": "7efb2168-dd67-4b67-8d29-f3340ecf05cf",
   "metadata": {},
   "outputs": [
    {
     "data": {
      "text/html": [
       "40"
      ],
      "text/latex": [
       "40"
      ],
      "text/markdown": [
       "40"
      ],
      "text/plain": [
       "[1] 40"
      ]
     },
     "metadata": {},
     "output_type": "display_data"
    }
   ],
   "source": [
    "calc_1 <- (45/5 - 5) * 10\n",
    "calc_1"
   ]
  },
  {
   "cell_type": "markdown",
   "id": "4209f8f0-bc65-43e6-a6cf-1903dd4e71f1",
   "metadata": {},
   "source": [
    "Crear un objeto \"estatura\" con un valor de 1.74, y otro objeto \"peso\" con un valor de 82. Luego realizar la división entre \"peso\" y \"altura\", y guardar el resutado en una nueva variable \"imc\""
   ]
  },
  {
   "cell_type": "code",
   "execution_count": 77,
   "id": "b7fbec3c-5005-4a74-808b-9feccd330470",
   "metadata": {},
   "outputs": [
    {
     "data": {
      "text/html": [
       "47.1264367816092"
      ],
      "text/latex": [
       "47.1264367816092"
      ],
      "text/markdown": [
       "47.1264367816092"
      ],
      "text/plain": [
       "[1] 47.12644"
      ]
     },
     "metadata": {},
     "output_type": "display_data"
    }
   ],
   "source": [
    "estatura <- 1.74\n",
    "peso <- 82\n",
    "imc <- peso / estatura\n",
    "imc"
   ]
  },
  {
   "cell_type": "markdown",
   "id": "cac23233-8908-4c5b-8f41-75b6191e4e59",
   "metadata": {},
   "source": [
    "Elevar al cubo a \"imc\" sin guardar el resultado"
   ]
  },
  {
   "cell_type": "code",
   "execution_count": 78,
   "id": "a9bc988c-2433-40c3-a129-e493b820ed05",
   "metadata": {},
   "outputs": [
    {
     "data": {
      "text/html": [
       "104663.152635599"
      ],
      "text/latex": [
       "104663.152635599"
      ],
      "text/markdown": [
       "104663.152635599"
      ],
      "text/plain": [
       "[1] 104663.2"
      ]
     },
     "metadata": {},
     "output_type": "display_data"
    }
   ],
   "source": [
    "imc ^ 3"
   ]
  },
  {
   "cell_type": "markdown",
   "id": "cc7bda45-c947-4b24-80e1-9c3475c6fe8f",
   "metadata": {},
   "source": [
    "Verificar si el logaritmo natural de \"imc\" es menor o igual a 0"
   ]
  },
  {
   "cell_type": "code",
   "execution_count": 79,
   "id": "5143752c-2474-4dc2-8945-bd55524870ed",
   "metadata": {},
   "outputs": [
    {
     "data": {
      "text/html": [
       "FALSE"
      ],
      "text/latex": [
       "FALSE"
      ],
      "text/markdown": [
       "FALSE"
      ],
      "text/plain": [
       "[1] FALSE"
      ]
     },
     "metadata": {},
     "output_type": "display_data"
    }
   ],
   "source": [
    "log(imc) <= 0"
   ]
  },
  {
   "cell_type": "markdown",
   "id": "a0f4bade-c0b5-44ee-953c-84022aacaf5a",
   "metadata": {},
   "source": [
    "Colocar los paréntesis en los lugares que correspondan a la siguiente expresión para que el resultado sea igual a 15: \n",
    "* 5 + 3 * 10 %/% 3"
   ]
  },
  {
   "cell_type": "code",
   "execution_count": 80,
   "id": "770b0bc1-c852-468f-a7c1-b2c09cd9febc",
   "metadata": {},
   "outputs": [
    {
     "data": {
      "text/html": [
       "15"
      ],
      "text/latex": [
       "15"
      ],
      "text/markdown": [
       "15"
      ],
      "text/plain": [
       "[1] 15"
      ]
     },
     "metadata": {},
     "output_type": "display_data"
    }
   ],
   "source": [
    "5 + (3 * 10) %/% 3"
   ]
  }
 ],
 "metadata": {
  "kernelspec": {
   "display_name": "R",
   "language": "R",
   "name": "ir"
  },
  "language_info": {
   "codemirror_mode": "r",
   "file_extension": ".r",
   "mimetype": "text/x-r-source",
   "name": "R",
   "pygments_lexer": "r",
   "version": "4.4.3"
  }
 },
 "nbformat": 4,
 "nbformat_minor": 5
}
