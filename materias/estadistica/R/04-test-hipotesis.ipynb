{
 "cells": [
  {
   "cell_type": "markdown",
   "id": "91084873-4303-4f65-a2f9-2c7d2f9150fc",
   "metadata": {},
   "source": [
    "# Test de Hipótesis"
   ]
  },
  {
   "cell_type": "code",
   "execution_count": 1,
   "id": "d587c8d7-bf08-4e87-9be9-39890e971286",
   "metadata": {},
   "outputs": [
    {
     "name": "stderr",
     "output_type": "stream",
     "text": [
      "Registered S3 method overwritten by 'quantmod':\n",
      "  method            from\n",
      "  as.zoo.data.frame zoo \n",
      "\n"
     ]
    }
   ],
   "source": [
    "library(readxl)\n",
    "library(ggplot2)\n",
    "library(\"nortest\")\n",
    "library(\"tseries\")"
   ]
  },
  {
   "cell_type": "markdown",
   "id": "3db8e1f0-71b9-4e8b-aa27-91b97cee2802",
   "metadata": {},
   "source": [
    "* Se tiene una muestra de 146 estudiantes de escuelas medias sobre los que se relevó información. Se considera que esta muestra representa a los estudiantes de una población"
   ]
  },
  {
   "cell_type": "code",
   "execution_count": 4,
   "id": "c60b7b48-d659-4bc1-9570-38912016139e",
   "metadata": {},
   "outputs": [
    {
     "name": "stdout",
     "output_type": "stream",
     "text": [
      "tibble [146 × 6] (S3: tbl_df/tbl/data.frame)\n",
      " $ ID     : num [1:146] 1 2 3 4 5 6 7 8 9 10 ...\n",
      " $ sexo   : chr [1:146] \"Femenino\" \"Femenino\" \"Femenino\" \"Femenino\" ...\n",
      " $ edad   : num [1:146] 17.1 18.7 16.3 19.1 21.4 ...\n",
      " $ colegio: chr [1:146] \"Privado\" \"Publico\" \"Publico\" \"Publico\" ...\n",
      " $ clases : chr [1:146] \"Virtual\" \"Presencial\" \"Virtual\" \"Presencial\" ...\n",
      " $ nota   : num [1:146] 5.1 4.5 3.5 5.9 6.6 6.6 4 6.5 6.3 4.5 ...\n"
     ]
    },
    {
     "data": {
      "text/plain": [
       "       ID             sexo                edad         colegio         \n",
       " Min.   :  1.00   Length:146         Min.   :16.04   Length:146        \n",
       " 1st Qu.: 37.25   Class :character   1st Qu.:17.22   Class :character  \n",
       " Median : 73.50   Mode  :character   Median :18.55   Mode  :character  \n",
       " Mean   : 73.50                      Mean   :18.89                     \n",
       " 3rd Qu.:109.75                      3rd Qu.:20.39                     \n",
       " Max.   :146.00                      Max.   :28.76                     \n",
       "    clases               nota      \n",
       " Length:146         Min.   :3.500  \n",
       " Class :character   1st Qu.:5.700  \n",
       " Mode  :character   Median :6.550  \n",
       "                    Mean   :6.516  \n",
       "                    3rd Qu.:7.475  \n",
       "                    Max.   :9.900  "
      ]
     },
     "metadata": {},
     "output_type": "display_data"
    },
    {
     "data": {
      "text/plain": [
       "        sexo         edad          colegio          clases         nota      \n",
       " Femenino :86   Min.   :16.04   Privado:71   Presencial:100   Min.   :3.500  \n",
       " Masculino:60   1st Qu.:17.22   Publico:75   Virtual   : 46   1st Qu.:5.700  \n",
       "                Median :18.55                                 Median :6.550  \n",
       "                Mean   :18.89                                 Mean   :6.516  \n",
       "                3rd Qu.:20.39                                 3rd Qu.:7.475  \n",
       "                Max.   :28.76                                 Max.   :9.900  "
      ]
     },
     "metadata": {},
     "output_type": "display_data"
    }
   ],
   "source": [
    "setwd(\"/Users/ppando/Materias/data/materias/estadistica/R\")\n",
    "estudiantes<- read_xlsx(\"estudiantes2025.xlsx\")\n",
    "str(estudiantes)\n",
    "summary(estudiantes)          # hay variables no numéricas y convertimos a factor\n",
    "estudiantes<-estudiantes[,-1] # se saca ID, no es una variable\n",
    "estudiantes$sexo<-as.factor(estudiantes$sexo)\n",
    "estudiantes$colegio<-as.factor(estudiantes$colegio)\n",
    "estudiantes$clases<-as.factor(estudiantes$clases)\n",
    "summary(estudiantes)"
   ]
  },
  {
   "cell_type": "markdown",
   "id": "096343e0-4fa5-45c7-a2ea-6af9921e9d2e",
   "metadata": {},
   "source": [
    "## Pruebas de Hipótesis para una media"
   ]
  },
  {
   "cell_type": "markdown",
   "id": "1d1d083d-683c-44ec-a6d2-5f94369d05cd",
   "metadata": {},
   "source": [
    "* Verificar normalidad de la variable"
   ]
  },
  {
   "cell_type": "markdown",
   "id": "483793f6-7b2d-428a-ba9d-7cc6a00dd0b5",
   "metadata": {},
   "source": [
    "PRUEBAS DE NORMALIDAD\n",
    "* H0: la nota de un estudiante sigue una distribución Normal\n",
    "* H1: la nota de un estudiante NO sigue una distribución Normal"
   ]
  },
  {
   "cell_type": "code",
   "execution_count": 5,
   "id": "073398cc-012a-4f82-acde-678d523da0f2",
   "metadata": {},
   "outputs": [
    {
     "data": {
      "text/plain": [
       "\n",
       "\tShapiro-Wilk normality test\n",
       "\n",
       "data:  estudiantes$nota\n",
       "W = 0.99365, p-value = 0.77\n"
      ]
     },
     "metadata": {},
     "output_type": "display_data"
    }
   ],
   "source": [
    "shapiro.test(x = estudiantes$nota) # para n<50"
   ]
  },
  {
   "cell_type": "code",
   "execution_count": 6,
   "id": "576a0cf1-73c5-4662-aa6b-9d30f525c926",
   "metadata": {},
   "outputs": [
    {
     "data": {
      "text/plain": [
       "\n",
       "\tLilliefors (Kolmogorov-Smirnov) normality test\n",
       "\n",
       "data:  estudiantes$nota\n",
       "D = 0.043198, p-value = 0.7255\n"
      ]
     },
     "metadata": {},
     "output_type": "display_data"
    }
   ],
   "source": [
    "lillie.test(x = estudiantes$nota)"
   ]
  },
  {
   "cell_type": "code",
   "execution_count": 7,
   "id": "c12651ca-5b6b-470f-a929-f98f70ea0c86",
   "metadata": {},
   "outputs": [
    {
     "data": {
      "text/plain": [
       "\n",
       "\tJarque Bera Test\n",
       "\n",
       "data:  estudiantes$nota\n",
       "X-squared = 1.0353, df = 2, p-value = 0.5959\n"
      ]
     },
     "metadata": {},
     "output_type": "display_data"
    }
   ],
   "source": [
    "jarque.bera.test(x = estudiantes$nota)"
   ]
  },
  {
   "cell_type": "markdown",
   "id": "c8700333-cdd3-4fe7-8280-5c3043072c55",
   "metadata": {},
   "source": [
    "PRUEBAS DE HIPOTESIS para nota media"
   ]
  },
  {
   "cell_type": "code",
   "execution_count": 20,
   "id": "cc23f1df-4e38-48b6-bdb6-283846103694",
   "metadata": {},
   "outputs": [
    {
     "data": {
      "text/plain": [
       "\n",
       "\tOne Sample t-test\n",
       "\n",
       "data:  estudiantes$nota\n",
       "t = -0.78667, df = 145, p-value = 0.4328\n",
       "alternative hypothesis: true mean is not equal to 6.6\n",
       "95 percent confidence interval:\n",
       " 6.306496 6.726381\n",
       "sample estimates:\n",
       "mean of x \n",
       " 6.516438 \n"
      ]
     },
     "metadata": {},
     "output_type": "display_data"
    }
   ],
   "source": [
    "# 1) H0: media= 6.6   H1: media != 6.6\n",
    "t.test(estudiantes$nota, \n",
    "       alternative = 'two.sided', \n",
    "       mu = 6.6)"
   ]
  },
  {
   "cell_type": "code",
   "execution_count": 21,
   "id": "01f98e21-dbe7-4a43-b4f1-031965cdc831",
   "metadata": {},
   "outputs": [
    {
     "data": {
      "text/plain": [
       "\n",
       "\tOne Sample t-test\n",
       "\n",
       "data:  estudiantes$nota\n",
       "t = 2.0376, df = 145, p-value = 0.0217\n",
       "alternative hypothesis: true mean is greater than 6.3\n",
       "95 percent confidence interval:\n",
       " 6.340596      Inf\n",
       "sample estimates:\n",
       "mean of x \n",
       " 6.516438 \n"
      ]
     },
     "metadata": {},
     "output_type": "display_data"
    }
   ],
   "source": [
    "# 2) H0: media= 6.3   H1: media > 6.3 \n",
    "t.test(estudiantes$nota, \n",
    "       alternative = \"greater\", \n",
    "       mu = 6.3)"
   ]
  },
  {
   "cell_type": "code",
   "execution_count": 22,
   "id": "f883882a-a169-4e1a-9441-2ce6e445737a",
   "metadata": {},
   "outputs": [
    {
     "data": {
      "text/plain": [
       "\n",
       "\tOne Sample t-test\n",
       "\n",
       "data:  estudiantes$nota\n",
       "t = -1.7281, df = 145, p-value = 0.04305\n",
       "alternative hypothesis: true mean is less than 6.7\n",
       "95 percent confidence interval:\n",
       "    -Inf 6.69228\n",
       "sample estimates:\n",
       "mean of x \n",
       " 6.516438 \n"
      ]
     },
     "metadata": {},
     "output_type": "display_data"
    }
   ],
   "source": [
    "# 3) H0: media= 6   H1: media < 6.7 \n",
    "t.test(estudiantes$nota, \n",
    "       alternative = \"less\", \n",
    "       mu = 6.7)"
   ]
  },
  {
   "cell_type": "markdown",
   "id": "74b32d8e-b228-4586-975d-165891c86dd2",
   "metadata": {},
   "source": [
    "## Pruebas de Hipótesis de comparación de dos medias independientes"
   ]
  },
  {
   "cell_type": "markdown",
   "id": "9695e012-426e-4093-a3e9-a2787d454e44",
   "metadata": {},
   "source": [
    "* Verificar homogeneidad de varianzas"
   ]
  },
  {
   "cell_type": "code",
   "execution_count": 14,
   "id": "5d3baddd-fd34-4301-a7cd-4e92b13549ba",
   "metadata": {},
   "outputs": [
    {
     "data": {
      "text/plain": [
       "\n",
       "\tBartlett test of homogeneity of variances\n",
       "\n",
       "data:  nota by colegio\n",
       "Bartlett's K-squared = 0.0059907, df = 1, p-value = 0.9383\n"
      ]
     },
     "metadata": {},
     "output_type": "display_data"
    }
   ],
   "source": [
    "bartlett.test(nota ~ colegio,data=estudiantes)"
   ]
  },
  {
   "cell_type": "code",
   "execution_count": 15,
   "id": "016647a8-600a-4616-9282-4f41519cb467",
   "metadata": {},
   "outputs": [
    {
     "name": "stderr",
     "output_type": "stream",
     "text": [
      "Cargando paquete requerido: carData\n",
      "\n"
     ]
    },
    {
     "data": {
      "text/html": [
       "<table class=\"dataframe\">\n",
       "<caption>A anova: 2 × 3</caption>\n",
       "<thead>\n",
       "\t<tr><th></th><th scope=col>Df</th><th scope=col>F value</th><th scope=col>Pr(&gt;F)</th></tr>\n",
       "\t<tr><th></th><th scope=col>&lt;int&gt;</th><th scope=col>&lt;dbl&gt;</th><th scope=col>&lt;dbl&gt;</th></tr>\n",
       "</thead>\n",
       "<tbody>\n",
       "\t<tr><th scope=row>group</th><td>  1</td><td>0.001491256</td><td>0.9692494</td></tr>\n",
       "\t<tr><th scope=row> </th><td>144</td><td>         NA</td><td>       NA</td></tr>\n",
       "</tbody>\n",
       "</table>\n"
      ],
      "text/latex": [
       "A anova: 2 × 3\n",
       "\\begin{tabular}{r|lll}\n",
       "  & Df & F value & Pr(>F)\\\\\n",
       "  & <int> & <dbl> & <dbl>\\\\\n",
       "\\hline\n",
       "\tgroup &   1 & 0.001491256 & 0.9692494\\\\\n",
       "\t  & 144 &          NA &        NA\\\\\n",
       "\\end{tabular}\n"
      ],
      "text/markdown": [
       "\n",
       "A anova: 2 × 3\n",
       "\n",
       "| <!--/--> | Df &lt;int&gt; | F value &lt;dbl&gt; | Pr(&gt;F) &lt;dbl&gt; |\n",
       "|---|---|---|---|\n",
       "| group |   1 | 0.001491256 | 0.9692494 |\n",
       "| <!----> | 144 |          NA |        NA |\n",
       "\n"
      ],
      "text/plain": [
       "      Df  F value     Pr(>F)   \n",
       "group   1 0.001491256 0.9692494\n",
       "      144          NA        NA"
      ]
     },
     "metadata": {},
     "output_type": "display_data"
    }
   ],
   "source": [
    "library(car)\n",
    "leveneTest(nota~colegio,data=estudiantes)"
   ]
  },
  {
   "cell_type": "markdown",
   "id": "91ef7c08-de63-431c-9a33-bb0ebc6a3003",
   "metadata": {},
   "source": [
    "* Ambos indican que no se puede rechazar la igualdad de varianzas"
   ]
  },
  {
   "cell_type": "markdown",
   "id": "3b14b026-d516-4649-ae5b-70bed00b3aee",
   "metadata": {},
   "source": [
    "PRUEBAS DE HIPOTESIS"
   ]
  },
  {
   "cell_type": "code",
   "execution_count": 17,
   "id": "de59ac2a-5ee6-4010-8e97-9c1294bc77aa",
   "metadata": {},
   "outputs": [],
   "source": [
    "privados <- estudiantes[estudiantes$colegio==\"Privado\", ]\n",
    "publicos <- estudiantes[estudiantes$colegio==\"Publico\", ]"
   ]
  },
  {
   "cell_type": "code",
   "execution_count": 23,
   "id": "bc2a3c74-b01a-4700-9342-c7128a22c7bb",
   "metadata": {},
   "outputs": [
    {
     "data": {
      "text/plain": [
       "\n",
       "\tTwo Sample t-test\n",
       "\n",
       "data:  privados$nota and publicos$nota\n",
       "t = -1.9896, df = 144, p-value = 0.04853\n",
       "alternative hypothesis: true difference in means is not equal to 0\n",
       "95 percent confidence interval:\n",
       " -0.834437057 -0.002746041\n",
       "sample estimates:\n",
       "mean of x mean of y \n",
       " 6.301408  6.720000 \n"
      ]
     },
     "metadata": {},
     "output_type": "display_data"
    }
   ],
   "source": [
    "# 1) H0: media_priv= media_pub   H1: media_priv != media_pub (!= significa distinto)\n",
    "t.test(x=privados$nota, \n",
    "       y = publicos$nota,\n",
    "       alternative = \"two.sided\",\n",
    "       mu = 0, \n",
    "       paired = FALSE, \n",
    "       var.equal = T)\n",
    "# observación: si no hay igualdad de varianzas, se corre la prueba de Welch con var.equal=F"
   ]
  },
  {
   "cell_type": "code",
   "execution_count": 24,
   "id": "558409c4-232b-458b-8180-e53af3cf3d6a",
   "metadata": {},
   "outputs": [
    {
     "data": {
      "text/plain": [
       "\n",
       "\tTwo Sample t-test\n",
       "\n",
       "data:  privados$nota and publicos$nota\n",
       "t = -1.9896, df = 144, p-value = 0.02426\n",
       "alternative hypothesis: true difference in means is less than 0\n",
       "95 percent confidence interval:\n",
       "        -Inf -0.07029515\n",
       "sample estimates:\n",
       "mean of x mean of y \n",
       " 6.301408  6.720000 \n"
      ]
     },
     "metadata": {},
     "output_type": "display_data"
    }
   ],
   "source": [
    "# 2) H0: media_priv= media_pub   H1: media_priv ???? media_pub \n",
    "t.test(x=privados$nota, \n",
    "       y = publicos$nota,\n",
    "       alternative = \"less\",\n",
    "       mu = 0, \n",
    "       paired = FALSE, \n",
    "       var.equal = T)"
   ]
  },
  {
   "cell_type": "code",
   "execution_count": 25,
   "id": "27903d2d-2e13-46c6-a97b-626a34515e5c",
   "metadata": {},
   "outputs": [
    {
     "data": {
      "text/plain": [
       "\n",
       "\tTwo Sample t-test\n",
       "\n",
       "data:  publicos$nota and privados$nota\n",
       "t = 0.088368, df = 144, p-value = 0.4649\n",
       "alternative hypothesis: true difference in means is greater than 0.4\n",
       "95 percent confidence interval:\n",
       " 0.07029515        Inf\n",
       "sample estimates:\n",
       "mean of x mean of y \n",
       " 6.720000  6.301408 \n"
      ]
     },
     "metadata": {},
     "output_type": "display_data"
    }
   ],
   "source": [
    "# 3) H0: media_priv= media_pub   H1: media_priv ???? media_pub \n",
    "t.test(x=publicos$nota, \n",
    "       y = privados$nota,\n",
    "       alternative = \"greater\",\n",
    "       mu = 0.4, \n",
    "       paired = FALSE, \n",
    "       var.equal = T)"
   ]
  },
  {
   "cell_type": "markdown",
   "id": "897ee33c-9f92-4420-8162-e66d8fe6781f",
   "metadata": {},
   "source": [
    "## Pruebas de Hipótesis de comparación de dos medias dependientes"
   ]
  },
  {
   "cell_type": "code",
   "execution_count": 26,
   "id": "71ad8b3b-d974-441a-96fa-148fd93679b1",
   "metadata": {},
   "outputs": [
    {
     "data": {
      "text/plain": [
       "     Sujeto          antes          despues     \n",
       " Min.   : 1.00   Min.   :106.0   Min.   :113.0  \n",
       " 1st Qu.: 5.75   1st Qu.:113.2   1st Qu.:117.0  \n",
       " Median :10.50   Median :119.5   Median :123.5  \n",
       " Mean   :10.50   Mean   :120.7   Mean   :124.6  \n",
       " 3rd Qu.:15.25   3rd Qu.:129.2   3rd Qu.:132.5  \n",
       " Max.   :20.00   Max.   :140.0   Max.   :139.0  "
      ]
     },
     "metadata": {},
     "output_type": "display_data"
    },
    {
     "data": {
      "text/plain": [
       "\n",
       "\tPaired t-test\n",
       "\n",
       "data:  datos$antes and datos$despues\n",
       "t = -1.3979, df = 19, p-value = 0.08913\n",
       "alternative hypothesis: true mean difference is less than 0\n",
       "95 percent confidence interval:\n",
       "      -Inf 0.9241517\n",
       "sample estimates:\n",
       "mean difference \n",
       "           -3.9 \n"
      ]
     },
     "metadata": {},
     "output_type": "display_data"
    }
   ],
   "source": [
    "datos<-read_xlsx(\"presion_antesydespues.xlsx\")\n",
    "summary(datos)\n",
    "# 1) H0: media_antes= media_despues   H1: media_antes < media_despues \n",
    "t.test(x = datos$antes, \n",
    "       y = datos$despues,\n",
    "       alternative=\"less\", \n",
    "       mu=0,\n",
    "       paired=TRUE)"
   ]
  }
 ],
 "metadata": {
  "kernelspec": {
   "display_name": "R",
   "language": "R",
   "name": "ir"
  },
  "language_info": {
   "codemirror_mode": "r",
   "file_extension": ".r",
   "mimetype": "text/x-r-source",
   "name": "R",
   "pygments_lexer": "r",
   "version": "4.4.3"
  }
 },
 "nbformat": 4,
 "nbformat_minor": 5
}
