{
 "cells": [
  {
   "cell_type": "markdown",
   "id": "8744c6c3-31b6-47a5-864b-b8491c2a7f22",
   "metadata": {},
   "source": [
    "# Condicionales"
   ]
  },
  {
   "cell_type": "markdown",
   "id": "3fc4efcc-1db1-4784-bdf2-41e568d78187",
   "metadata": {},
   "source": [
    "## Mayor edad"
   ]
  },
  {
   "cell_type": "markdown",
   "id": "87156384-441b-4fc3-9186-927502ff9665",
   "metadata": {},
   "source": [
    "Escribir un programa que pregunte al usuario su edad y muestre por pantalla si es mayor de edad o no"
   ]
  },
  {
   "cell_type": "code",
   "execution_count": 1,
   "id": "61dbd22c-8f43-4008-955c-6cc61b5fb8eb",
   "metadata": {},
   "outputs": [
    {
     "name": "stdin",
     "output_type": "stream",
     "text": [
      "Edad:  35\n"
     ]
    },
    {
     "name": "stdout",
     "output_type": "stream",
     "text": [
      "Mayor de edad\n"
     ]
    }
   ],
   "source": [
    "print('Mayor de edad' if int(input('Edad: ')) >= 18 else 'Menor de edad')"
   ]
  },
  {
   "cell_type": "markdown",
   "id": "425ee78e-4f98-4c47-94cc-919044660b99",
   "metadata": {},
   "source": [
    "## Contraseña"
   ]
  },
  {
   "cell_type": "markdown",
   "id": "0c075224-d764-4231-bc1f-76e505724ae5",
   "metadata": {},
   "source": [
    "Escribir un programa que almacene la cadena de caracteres contraseña en una variable, pregunte al usuario por la contraseña e imprima por pantalla si la contraseña introducida por el usuario coincide con la guardada en la variable sin tener en cuenta mayúsculas y minúsculas"
   ]
  },
  {
   "cell_type": "code",
   "execution_count": 3,
   "id": "442fdd6c-4a0f-4507-af9e-8ca31fbf723a",
   "metadata": {},
   "outputs": [
    {
     "name": "stdin",
     "output_type": "stream",
     "text": [
      "Contraseña:  pepe123\n"
     ]
    },
    {
     "name": "stdout",
     "output_type": "stream",
     "text": [
      "Coincide\n"
     ]
    }
   ],
   "source": [
    "contrasenia_actual = 'pepe123'\n",
    "print('Coincide' if input('Contraseña: ').upper() == contrasenia_actual.upper() else 'No coincide')"
   ]
  },
  {
   "cell_type": "markdown",
   "id": "96649de9-dae2-42a1-82e8-99f7f259165e",
   "metadata": {},
   "source": [
    "## División cero"
   ]
  },
  {
   "cell_type": "markdown",
   "id": "70843bb8-6c0d-4252-8d95-6f7da729dd5e",
   "metadata": {},
   "source": [
    "Escribir un programa que pida al usuario dos números y muestre por pantalla su división. Si el divisor es cero el programa debe mostrar un error"
   ]
  },
  {
   "cell_type": "code",
   "execution_count": 4,
   "id": "b6fae52e-1de1-4124-9a64-96358e8ced19",
   "metadata": {},
   "outputs": [
    {
     "name": "stdin",
     "output_type": "stream",
     "text": [
      "Operando 1:  2\n",
      "Operando 2:  0\n"
     ]
    },
    {
     "name": "stdout",
     "output_type": "stream",
     "text": [
      "Error al dividir por 0\n"
     ]
    }
   ],
   "source": [
    "op1 = float(input('Operando 1: '))\n",
    "op2 = float(input('Operando 2: '))\n",
    "print('Error al dividir por 0' if op2 == 0 else f'{op1/op2}')"
   ]
  },
  {
   "cell_type": "markdown",
   "id": "7e6cfec5-3da1-4465-8f80-2cb7b3fbda46",
   "metadata": {},
   "source": [
    "## Par / Impar"
   ]
  },
  {
   "cell_type": "markdown",
   "id": "cdd0c3d8-55c8-4219-b2ae-f9a418b5a90e",
   "metadata": {},
   "source": [
    "Escribir un programa que pida al usuario un número entero y muestre por pantalla si es par o impar"
   ]
  },
  {
   "cell_type": "code",
   "execution_count": 5,
   "id": "4847b1e0-891e-48b9-81f8-0f6d1f6c5a1a",
   "metadata": {},
   "outputs": [
    {
     "name": "stdin",
     "output_type": "stream",
     "text": [
      "Número entero:  4\n"
     ]
    },
    {
     "name": "stdout",
     "output_type": "stream",
     "text": [
      "par\n"
     ]
    }
   ],
   "source": [
    "print('par' if int(input('Número entero: '))%2 == 0 else 'impar')"
   ]
  },
  {
   "cell_type": "markdown",
   "id": "f6e5071d-b277-4a03-b34b-a0ad268f33fe",
   "metadata": {},
   "source": [
    "## Tributar"
   ]
  },
  {
   "cell_type": "markdown",
   "id": "7e80d3d3-a264-4dd8-a632-af82eadf1b74",
   "metadata": {},
   "source": [
    "Para tributar un determinado impuesto se debe ser mayor de 18 años y tener unos ingresos iguales o superiores a 500000 ARS mensuales. Escribir un programa que pregunte al usuario su edad y sus ingresos mensuales y muestre por pantalla si el usuario tiene que tributar o no"
   ]
  },
  {
   "cell_type": "code",
   "execution_count": 6,
   "id": "2fa259ce-6372-4fa4-8cfd-73dc35aa6134",
   "metadata": {},
   "outputs": [
    {
     "name": "stdin",
     "output_type": "stream",
     "text": [
      "Edad:  35\n",
      "Ingresos:  1000000\n"
     ]
    },
    {
     "name": "stdout",
     "output_type": "stream",
     "text": [
      "Tributa\n"
     ]
    }
   ],
   "source": [
    "print('Tributa' if int(input('Edad: ')) >= 18 and float(input('Ingresos: ')) >= 500000 else 'No tributa')"
   ]
  },
  {
   "cell_type": "markdown",
   "id": "52e0d57b-a47d-4b36-801e-7d3361f1aefc",
   "metadata": {},
   "source": [
    "## Grupo alumnos"
   ]
  },
  {
   "cell_type": "markdown",
   "id": "a5e42a55-ac74-40b2-bf0a-bf03fc5e09c0",
   "metadata": {},
   "source": [
    "Los alumnos de un curso se han dividido en dos grupos A y B de acuerdo con el sexo y el nombre. El grupo A está formado por las mujeres con un nombre anterior a la M y los hombres con un nombre posterior a la N y el grupo B por el resto. Escribir un programa que pregunte al usuario su nombre y sexo, y muestre por pantalla el grupo que le corresponde"
   ]
  },
  {
   "cell_type": "code",
   "execution_count": 7,
   "id": "1daec527-ce2b-471b-8970-e19602782766",
   "metadata": {},
   "outputs": [
    {
     "name": "stdin",
     "output_type": "stream",
     "text": [
      "Nombre:  Pablo\n",
      "Sexo (M/V):  M\n"
     ]
    },
    {
     "name": "stdout",
     "output_type": "stream",
     "text": [
      "Grupo B\n"
     ]
    }
   ],
   "source": [
    "letra = input('Nombre: ')[0]\n",
    "sexo = input('Sexo (M/V): ')\n",
    "print('Grupo A' if (sexo == 'M' and letra < 'M') or (sexo == 'V' and letra > 'N') else 'Grupo B')"
   ]
  },
  {
   "cell_type": "markdown",
   "id": "7ea6301d-feea-4553-9896-8dac55110a2b",
   "metadata": {},
   "source": [
    "## Tipo impositivo"
   ]
  },
  {
   "cell_type": "markdown",
   "id": "34574d87-08c2-4769-8019-63db4ea5e316",
   "metadata": {},
   "source": [
    "Los tramos impositivos para la declaración de la renta anual en un determinado país son los siguientes:\n",
    "\n",
    "| Renta                       | Tipo impositivo |\n",
    "| --                          | --              |\n",
    "| Menos de 10000 USD          | 5%              |\n",
    "| Entre 10000 USD y 20000 USD | 15%             | \n",
    "| Entre 20000 USD y 35000 USD | 20%             |\n",
    "| Entre 35000 USD y 60000 USD | 30%             |\n",
    "| Más de 60000            USD | 45%             |\n",
    "\n",
    "Escribir un programa que pregunte al usuario su renta anual y muestre por pantalla el tipo impositivo que le corresponde"
   ]
  },
  {
   "cell_type": "code",
   "execution_count": 9,
   "id": "1ba5213f-31e6-4030-9740-8cb5aeb621c4",
   "metadata": {},
   "outputs": [
    {
     "name": "stdin",
     "output_type": "stream",
     "text": [
      "Renta anual USD:  25000\n"
     ]
    },
    {
     "name": "stdout",
     "output_type": "stream",
     "text": [
      "20%\n"
     ]
    }
   ],
   "source": [
    "renta_anual = float(input('Renta anual USD: '))\n",
    "if renta_anual < 10000:\n",
    "    print('5%')\n",
    "elif renta_anual < 20000:\n",
    "    print('15%')\n",
    "elif renta_anual < 35000:\n",
    "    print('20%')\n",
    "elif renta_anual < 60000:\n",
    "    print('30%')\n",
    "else:\n",
    "    print('45%')"
   ]
  },
  {
   "cell_type": "markdown",
   "id": "a8eae908-f053-4506-b586-96221ed642b2",
   "metadata": {},
   "source": [
    "## Rendimiento usuario"
   ]
  },
  {
   "cell_type": "markdown",
   "id": "bc8ffb3a-840e-4f12-81c5-81b9e09e14c3",
   "metadata": {},
   "source": [
    "En una determinada empresa, sus empleados son evaluados al final de cada año.\n",
    "Los puntos que pueden obtener en la evaluación comienzan en 0.0 y pueden ir aumentando, traduciéndose en mejores beneficios. Los puntos que pueden conseguir los empleados pueden ser 0.0, 0.4, 0.6 o más, pero no valores intermedios entre las cifras mencionadas. A continuación, se muestra una tabla con los niveles correspondientes a cada puntuación. La cantidad de dinero\n",
    "conseguida en cada nivel es de 500.000 ARS multiplicada por la puntuación del nivel\n",
    "\n",
    "| Nivel       | Puntuación |\n",
    "| --          | --         |\n",
    "| Inaceptable | 0.0        |\n",
    "| Aceptable   | 0.4        |\n",
    "| Meritorio   | 0.6 o más  |\n",
    "\n",
    "Escribir un programa que lea la puntuación del usuario e indique su nivel de rendimiento, así como la cantidad de dinero que recibirá el usuario"
   ]
  },
  {
   "cell_type": "code",
   "execution_count": 10,
   "id": "64ab845f-1f16-4220-9bfa-2f175ebd7cf8",
   "metadata": {},
   "outputs": [
    {
     "name": "stdin",
     "output_type": "stream",
     "text": [
      "Puntuación:  0.5\n"
     ]
    },
    {
     "name": "stdout",
     "output_type": "stream",
     "text": [
      "Nivel: Aceptable\n",
      "Dinero: $ 200000.0\n"
     ]
    }
   ],
   "source": [
    "puntuacion = float(input('Puntuación: '))\n",
    "dinero = 500000\n",
    "if puntuacion < 0.4:\n",
    "    nivel, porc = 'Inaceptable', 0\n",
    "elif puntuacion < 0.6:\n",
    "    nivel, porc = 'Aceptable', 0.4\n",
    "else:\n",
    "    nivel, porc = 'Meritorio', 0.6\n",
    "print(f'Nivel: {nivel}', f'Dinero: $ {dinero * porc}', sep='\\n')"
   ]
  },
  {
   "cell_type": "markdown",
   "id": "cecd19dd-3108-40b1-bb2a-9c46e6d4e503",
   "metadata": {},
   "source": [
    "## Entrada según edad"
   ]
  },
  {
   "cell_type": "markdown",
   "id": "aec3f1e9-858c-4419-a6ba-aaa0f0b57b13",
   "metadata": {},
   "source": [
    "Escribir un programa para una empresa que tiene salas de juegos para todas las edades y quiere calcular de forma automática el precio que debe cobrar a sus clientes por entrar. El programa debe preguntar al usuario la edad del cliente y mostrar el precio de la entrada. Si el cliente es menor de 4 años puede entrar gratis, si tiene entre 4 y 18 años debe pagar 10500 ARS y si es mayor de 18 años, 14000 ARS"
   ]
  },
  {
   "cell_type": "code",
   "execution_count": 11,
   "id": "6b2210a1-e977-4c01-b466-29aa6073d0d1",
   "metadata": {},
   "outputs": [
    {
     "name": "stdin",
     "output_type": "stream",
     "text": [
      "Edad:  35\n"
     ]
    },
    {
     "name": "stdout",
     "output_type": "stream",
     "text": [
      "Precio entrada: AR$ 14000\n"
     ]
    }
   ],
   "source": [
    "edad = int(input('Edad: '))\n",
    "if edad < 4:\n",
    "    precio = 'Gratis'\n",
    "elif edad < 18:\n",
    "    precio = 'AR$ 10500'\n",
    "else:\n",
    "    precio = 'AR$ 14000'\n",
    "print(f'Precio entrada: {precio}')"
   ]
  },
  {
   "cell_type": "markdown",
   "id": "e3123f58-e3d3-4c9e-845a-e3fe863675bd",
   "metadata": {},
   "source": [
    "## Pizzeria"
   ]
  },
  {
   "cell_type": "markdown",
   "id": "fb5e2c6c-5aa8-4b38-b715-5393f0645d2d",
   "metadata": {},
   "source": [
    "La pizzería Napoli ofrece pizzas vegetarianas y no vegetarianas a sus clientes. Los\n",
    "ingredientes para cada tipo de pizza aparecen a continuación\n",
    "\n",
    "* Ingredientes vegetarianos: Pimiento y tofu.\n",
    "* Ingredientes no vegetarianos: Peperoni, Jamón y Salmón.\n",
    "\n",
    "Escribir un programa que pregunte al usuario si quiere una pizza vegetariana o no, y en función de su respuesta le muestre un menú con los ingredientes disponibles para que elija. Solo se puede eligir un ingrediente además de la mozzarella y el tomate que están en todas la pizzas. Al final se debe mostrar por pantalla si la pizza elegida es vegetariana o no y todos los ingredientes que lleva"
   ]
  },
  {
   "cell_type": "code",
   "execution_count": 12,
   "id": "d7b21f7b-f5e9-44f2-8ee8-43ac0a50e066",
   "metadata": {},
   "outputs": [
    {
     "name": "stdin",
     "output_type": "stream",
     "text": [
      "Quiere una pizza vegetariana (S/N):  N\n"
     ]
    },
    {
     "name": "stdout",
     "output_type": "stream",
     "text": [
      "Ingredientes disponibles: \n",
      "1. Peperoni\n",
      "2. Jamón\n",
      "3. Salmón\n",
      "8. Mozzarella\n",
      "9. Tomate\n"
     ]
    },
    {
     "name": "stdin",
     "output_type": "stream",
     "text": [
      "Ingrediente:  8\n"
     ]
    },
    {
     "name": "stdout",
     "output_type": "stream",
     "text": [
      "Pizza elegida: no vegetariana con ingrediente: 8\n"
     ]
    }
   ],
   "source": [
    "opcion_vegetariana = input('Quiere una pizza vegetariana (S/N): ')\n",
    "print('Ingredientes disponibles: ')\n",
    "if opcion_vegetariana == 'S':\n",
    "    print('1. Pimiento', '2. Tofu', sep='\\n')\n",
    "    opc = ''\n",
    "else:\n",
    "    print('1. Peperoni', '2. Jamón', '3. Salmón', sep='\\n')\n",
    "    opc = 'no'\n",
    "print('8. Mozzarella', '9. Tomate', sep='\\n')\n",
    "opcion_ingrediente = input('Ingrediente: ')\n",
    "print(f'Pizza elegida: {opc} vegetariana con ingrediente: {opcion_ingrediente}')"
   ]
  }
 ],
 "metadata": {
  "kernelspec": {
   "display_name": "Python [conda env:base] *",
   "language": "python",
   "name": "conda-base-py"
  },
  "language_info": {
   "codemirror_mode": {
    "name": "ipython",
    "version": 3
   },
   "file_extension": ".py",
   "mimetype": "text/x-python",
   "name": "python",
   "nbconvert_exporter": "python",
   "pygments_lexer": "ipython3",
   "version": "3.12.7"
  }
 },
 "nbformat": 4,
 "nbformat_minor": 5
}
