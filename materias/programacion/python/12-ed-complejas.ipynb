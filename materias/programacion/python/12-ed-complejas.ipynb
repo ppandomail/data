{
 "cells": [
  {
   "cell_type": "markdown",
   "id": "f9e5c5d9-290f-4daa-9f22-e7f55a08b62b",
   "metadata": {},
   "source": [
    "## Estructura de datos complejas"
   ]
  },
  {
   "cell_type": "markdown",
   "id": "a9c63dbf-7dac-407f-8ec3-981e6f71da3f",
   "metadata": {},
   "source": [
    "## Paréntesis balanceados"
   ]
  },
  {
   "cell_type": "markdown",
   "id": "e3719f88-f3a4-4ff3-9ef2-0f6e3bda3e29",
   "metadata": {},
   "source": [
    "PILAS. Verifica si una cadena tiene paréntesis correctamente balanceados"
   ]
  },
  {
   "cell_type": "code",
   "execution_count": 1,
   "id": "6b283027-fda7-4693-9483-32e9c0eb4443",
   "metadata": {},
   "outputs": [],
   "source": [
    "def is_parentesis_balanceados(cadena):\n",
    "    pila = []\n",
    "    for caracter in cadena:\n",
    "        if caracter == '(':\n",
    "            pila.append(caracter)\n",
    "        if caracter == ')' and len(pila) == 0:\n",
    "            return False\n",
    "        if caracter == ')':\n",
    "            pila.pop()\n",
    "    return len(pila) == 0"
   ]
  },
  {
   "cell_type": "code",
   "execution_count": 2,
   "id": "8ef7bad2-9e3c-45cd-a3a0-c43983ec7afb",
   "metadata": {},
   "outputs": [
    {
     "name": "stdout",
     "output_type": "stream",
     "text": [
      "True\n",
      "False\n",
      "False\n",
      "True\n",
      "True\n",
      "True\n",
      "False\n",
      "False\n",
      "True\n",
      "True\n"
     ]
    }
   ],
   "source": [
    "print(is_parentesis_balanceados(''))\n",
    "print(is_parentesis_balanceados('('))\n",
    "print(is_parentesis_balanceados(')'))\n",
    "print(is_parentesis_balanceados('()'))\n",
    "print(is_parentesis_balanceados('()()'))\n",
    "print(is_parentesis_balanceados('(())'))\n",
    "print(is_parentesis_balanceados(')('))\n",
    "print(is_parentesis_balanceados('(()'))\n",
    "print(is_parentesis_balanceados('(()())'))\n",
    "print(is_parentesis_balanceados('()(())'))"
   ]
  },
  {
   "cell_type": "markdown",
   "id": "9d159d4f-7d28-491e-8ec9-ca8eaa51e83f",
   "metadata": {},
   "source": [
    "## Invertir cadena pila"
   ]
  },
  {
   "cell_type": "markdown",
   "id": "560e2a04-9420-4274-94f8-dfca0cd78a30",
   "metadata": {},
   "source": [
    "PILAS. Invierte una cadena usando solo operaciones de pila"
   ]
  },
  {
   "cell_type": "code",
   "execution_count": 4,
   "id": "f02d5ac3-7f52-4273-8069-c5d1bd6c7ed8",
   "metadata": {},
   "outputs": [],
   "source": [
    "def invertir(cadena):\n",
    "    pila = list(cadena)\n",
    "    pila_aux = []\n",
    "    while (len(pila)):\n",
    "        pila_aux.append(pila.pop())\n",
    "    return \"\".join(pila_aux)"
   ]
  },
  {
   "cell_type": "code",
   "execution_count": 5,
   "id": "447f806e-9543-435f-bef5-d0a241cea46e",
   "metadata": {},
   "outputs": [
    {
     "name": "stdout",
     "output_type": "stream",
     "text": [
      "olbap\n"
     ]
    }
   ],
   "source": [
    "print(invertir('pablo'))"
   ]
  },
  {
   "cell_type": "markdown",
   "id": "0dc9c9c9-5478-4ad4-88a7-63ca49d55c76",
   "metadata": {},
   "source": [
    "## Operaciones cola"
   ]
  },
  {
   "cell_type": "markdown",
   "id": "ef3030d7-c8b0-4fe5-b2ec-198073a66c52",
   "metadata": {},
   "source": [
    "COLAS. Implementa una cola con las operaciones básicas: enqueue, dequeue, peek"
   ]
  },
  {
   "cell_type": "code",
   "execution_count": 6,
   "id": "2dbb4fac-0bea-4fb3-90ab-e5ffbc12d4cc",
   "metadata": {},
   "outputs": [],
   "source": [
    "from collections import deque\n",
    "\n",
    "# FIFO\n",
    "class Cola:\n",
    "\n",
    "        def __init__(self):\n",
    "                self.cola = deque()\n",
    "        \n",
    "        def acolar(self, dato):\n",
    "                self.cola.append(dato)\n",
    "        \n",
    "        def desacolar(self):\n",
    "                self.cola.popleft()\n",
    "        \n",
    "        def ver(self):\n",
    "                return self.cola[0]\n",
    "        \n",
    "        def vacia(self):\n",
    "                return len(self.cola) == 0"
   ]
  },
  {
   "cell_type": "code",
   "execution_count": 7,
   "id": "dfa66940-008b-4318-ba6a-f21f721d40aa",
   "metadata": {},
   "outputs": [
    {
     "name": "stdout",
     "output_type": "stream",
     "text": [
      "True\n",
      "2\n",
      "4\n",
      "False\n"
     ]
    }
   ],
   "source": [
    "cola = Cola()\n",
    "print(cola.vacia())\n",
    "cola.acolar(2)\n",
    "cola.acolar(4)\n",
    "cola.acolar(3)\n",
    "print(cola.ver())\n",
    "cola.desacolar()\n",
    "print(cola.ver())\n",
    "print(cola.vacia())"
   ]
  },
  {
   "cell_type": "markdown",
   "id": "b2f944cd-b75d-448b-b09a-95d0c6b7f58c",
   "metadata": {},
   "source": [
    "## Cola de banco"
   ]
  },
  {
   "cell_type": "markdown",
   "id": "124462c4-301a-4d10-be98-050c597d960f",
   "metadata": {},
   "source": [
    "COLAS. Simula la atención de clientes en un banco con una cola"
   ]
  },
  {
   "cell_type": "code",
   "execution_count": 8,
   "id": "df8e5ff4-252f-4669-87aa-a83d63590c26",
   "metadata": {},
   "outputs": [
    {
     "name": "stdout",
     "output_type": "stream",
     "text": [
      "Atendiendo a Ana\n",
      "Atendiendo a Luis\n",
      "Atendiendo a Pedro\n",
      "Atendiendo a Lucía\n"
     ]
    }
   ],
   "source": [
    "from collections import deque\n",
    "\n",
    "clientes = deque([\"Ana\", \"Luis\", \"Pedro\", \"Lucía\"])\n",
    "\n",
    "while clientes:\n",
    "    print(f\"Atendiendo a {clientes.popleft()}\")"
   ]
  },
  {
   "cell_type": "markdown",
   "id": "a131d494-2c25-4d13-b57f-686c101d247c",
   "metadata": {},
   "source": [
    "## Recorridos de Árbol Binario"
   ]
  },
  {
   "cell_type": "markdown",
   "id": "a10e1680-d5b0-43a4-a7f4-2f68bd692fe6",
   "metadata": {},
   "source": [
    "ÁRBOLES BINARIOS. Implementa recorridos inorder, preorder y postorder"
   ]
  },
  {
   "cell_type": "code",
   "execution_count": 9,
   "id": "7f35b4c9-e480-499e-a14c-f10148d828b6",
   "metadata": {},
   "outputs": [],
   "source": [
    "class Nodo:\n",
    "    def __init__(self, valor):\n",
    "        self.valor = valor\n",
    "        self.izq = None\n",
    "        self.der = None\n",
    "    \n",
    "def inorder(nodo):\n",
    "    if nodo:\n",
    "        inorder(nodo.izq)\n",
    "        print(nodo.valor, end=' ')\n",
    "        inorder(nodo.der)\n",
    "\n",
    "def preorder(nodo):\n",
    "    if nodo:\n",
    "        print(nodo.valor, end=' ')\n",
    "        preorder(nodo.izq)\n",
    "        preorder(nodo.der)\n",
    "\n",
    "def postorder(nodo):\n",
    "    if nodo:\n",
    "        preorder(nodo.izq)\n",
    "        preorder(nodo.der)\n",
    "        print(nodo.valor, end=' ')"
   ]
  },
  {
   "cell_type": "code",
   "execution_count": 11,
   "id": "2138579a-5c8c-438d-91f7-d455c88645a1",
   "metadata": {},
   "outputs": [
    {
     "name": "stdout",
     "output_type": "stream",
     "text": [
      "4 2 5 1 3 \n",
      "1 2 4 5 3 \n",
      "2 4 5 3 1 "
     ]
    }
   ],
   "source": [
    "raiz = Nodo(1)\n",
    "raiz.izq = Nodo(2)\n",
    "raiz.der = Nodo(3)\n",
    "raiz.izq.izq = Nodo(4)\n",
    "raiz.izq.der = Nodo(5)\n",
    "\n",
    "inorder(raiz)\n",
    "print()\n",
    "preorder(raiz)\n",
    "print()\n",
    "postorder(raiz)"
   ]
  },
  {
   "cell_type": "markdown",
   "id": "c56a26b0-fc64-414b-89a3-67cde87824fc",
   "metadata": {},
   "source": [
    "## Recorrido DFS"
   ]
  },
  {
   "cell_type": "markdown",
   "id": "26a4f578-626f-48dc-9ceb-ea464bafd23a",
   "metadata": {},
   "source": [
    "GRAFOS. Representa un grafo con lista de adyacencia y haz un recorrido DFS"
   ]
  },
  {
   "cell_type": "code",
   "execution_count": 12,
   "id": "d718e184-35ad-491f-aa54-9e453330bf2f",
   "metadata": {},
   "outputs": [],
   "source": [
    "grafo = {\n",
    "    'A': ['B', 'C'],\n",
    "    'B': ['D', 'E'],\n",
    "    'C': ['F'],\n",
    "    'D': [],\n",
    "    'E': ['F'],\n",
    "    'F': []\n",
    "}\n",
    "\n",
    "# DFS (Depth First Search / Búsqueda en Profundidad)\n",
    "def dfs(nodo, visitados=set()):\n",
    "    if nodo not in visitados:\n",
    "        print(nodo, end=' ')\n",
    "        visitados.add(nodo)\n",
    "        for vecino in grafo[nodo]:\n",
    "            dfs(vecino, visitados)"
   ]
  },
  {
   "cell_type": "code",
   "execution_count": 13,
   "id": "89e1b442-6efc-49bc-a495-06d4ca18279b",
   "metadata": {},
   "outputs": [
    {
     "name": "stdout",
     "output_type": "stream",
     "text": [
      "A B D E F C "
     ]
    }
   ],
   "source": [
    "dfs('A')"
   ]
  },
  {
   "cell_type": "markdown",
   "id": "fc45ab5a-ed15-4bf4-9b57-90eae4b8eab7",
   "metadata": {},
   "source": [
    "## Recorrido BFS"
   ]
  },
  {
   "cell_type": "markdown",
   "id": "1f38d656-5731-408b-bd91-39bf9a7d6b19",
   "metadata": {},
   "source": [
    "GRAFOS. Haz un recorrido en anchura (BFS) sobre un grafo"
   ]
  },
  {
   "cell_type": "code",
   "execution_count": 14,
   "id": "2ad802c4-da38-4dc9-9d04-ce93ab161656",
   "metadata": {},
   "outputs": [],
   "source": [
    "grafo = {\n",
    "    'A': ['B', 'C'],\n",
    "    'B': ['D', 'E'],\n",
    "    'C': ['F'],\n",
    "    'D': [],\n",
    "    'E': [],\n",
    "    'F': []\n",
    "}\n",
    "\n",
    "# BFS (Breadth First Search / Búsqueda en Anchura)\n",
    "def bfs(inicio):\n",
    "    visitados = set()\n",
    "    cola = deque([inicio])\n",
    "\n",
    "    while cola:\n",
    "        nodo = cola.popleft()\n",
    "        if nodo not in visitados:\n",
    "            print(nodo, end=' ')\n",
    "            visitados.add(nodo)\n",
    "            cola.extend(grafo[nodo])"
   ]
  },
  {
   "cell_type": "code",
   "execution_count": 15,
   "id": "d4c53dfe-0a9f-4378-ac15-daf0b7473117",
   "metadata": {},
   "outputs": [
    {
     "name": "stdout",
     "output_type": "stream",
     "text": [
      "A B C D E F "
     ]
    }
   ],
   "source": [
    "bfs('A')"
   ]
  },
  {
   "cell_type": "markdown",
   "id": "1056c83f-5c84-43b6-bbc0-060d30fc6b5d",
   "metadata": {},
   "source": [
    "## Frecuencia palabras"
   ]
  },
  {
   "cell_type": "markdown",
   "id": "24121c37-32e9-4a7e-8089-b30f9243cb93",
   "metadata": {},
   "source": [
    "TABLAS HASH. Cuenta la frecuencia de palabras en una cadena"
   ]
  },
  {
   "cell_type": "code",
   "execution_count": 16,
   "id": "ec1c9076-69e9-459e-9849-6b0a7a2d12e6",
   "metadata": {},
   "outputs": [],
   "source": [
    "def tabla_hash(cadena):\n",
    "    frecuencias = {}\n",
    "    for palabra in cadena.split(' '):\n",
    "        frecuencias[palabra] = (1 if palabra not in frecuencias else (frecuencias[palabra] + 1 ))\n",
    "    return frecuencias"
   ]
  },
  {
   "cell_type": "code",
   "execution_count": 17,
   "id": "41e879fc-baa4-4407-b77f-b26f24bf9193",
   "metadata": {},
   "outputs": [
    {
     "name": "stdout",
     "output_type": "stream",
     "text": [
      "{'hola': 1, 'mi': 1, 'nombre': 2, 'es': 2, 'Pablo': 1, 'y': 1, 'el': 2, 'de': 1, 'Juan': 1}\n"
     ]
    }
   ],
   "source": [
    "print(tabla_hash('hola mi nombre es Pablo y el nombre de el es Juan'))"
   ]
  },
  {
   "cell_type": "markdown",
   "id": "00372977-1415-4919-8a42-71e848ffd42c",
   "metadata": {},
   "source": [
    "## Elementos duplicados"
   ]
  },
  {
   "cell_type": "markdown",
   "id": "f46baa86-b94f-4727-ada1-821edafb58e3",
   "metadata": {},
   "source": [
    "TABLAS HASH. Detecta si hay elementos duplicados en una lista usando una tabla\n",
    "hash"
   ]
  },
  {
   "cell_type": "code",
   "execution_count": 19,
   "id": "7091856e-f012-42bd-bc1c-44e0c43aa889",
   "metadata": {},
   "outputs": [],
   "source": [
    "def has_duplicados_recorre_toda_la_lista(lista):\n",
    "    conjunto = set()\n",
    "    for elemento in lista:\n",
    "        conjunto.add(elemento)\n",
    "    return len(conjunto) < len(lista)\n",
    "\n",
    "def has_duplicados_recorre_hasta_el_primer_duplicado(lista):\n",
    "    aux = []\n",
    "    for elemento in lista:\n",
    "        if elemento in aux:\n",
    "            return True\n",
    "        aux.append(elemento)\n",
    "    return False\n"
   ]
  },
  {
   "cell_type": "code",
   "execution_count": 20,
   "id": "ead27760-b8ba-46b6-8d87-877a71e6df18",
   "metadata": {},
   "outputs": [
    {
     "name": "stdout",
     "output_type": "stream",
     "text": [
      "False\n",
      "True\n",
      "False\n",
      "True\n"
     ]
    }
   ],
   "source": [
    "print(has_duplicados_recorre_toda_la_lista([1, 2, 3, 4, 5]))\n",
    "print(has_duplicados_recorre_toda_la_lista([1, 2, 3, 4, 3]))\n",
    "print(has_duplicados_recorre_hasta_el_primer_duplicado([1, 2, 3, 4, 5]))\n",
    "print(has_duplicados_recorre_hasta_el_primer_duplicado([1, 2, 3, 4, 3]))"
   ]
  }
 ],
 "metadata": {
  "kernelspec": {
   "display_name": "Python [conda env:base] *",
   "language": "python",
   "name": "conda-base-py"
  },
  "language_info": {
   "codemirror_mode": {
    "name": "ipython",
    "version": 3
   },
   "file_extension": ".py",
   "mimetype": "text/x-python",
   "name": "python",
   "nbconvert_exporter": "python",
   "pygments_lexer": "ipython3",
   "version": "3.12.7"
  }
 },
 "nbformat": 4,
 "nbformat_minor": 5
}
