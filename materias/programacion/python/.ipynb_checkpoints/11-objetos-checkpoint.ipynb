{
 "cells": [
  {
   "cell_type": "markdown",
   "id": "ff12425e-2bd6-46de-b869-194b1cb00ef2",
   "metadata": {},
   "source": [
    "# Objetos"
   ]
  },
  {
   "cell_type": "markdown",
   "id": "c04d6d81-4eed-4b82-9331-bc25609304d2",
   "metadata": {},
   "source": [
    "## Estudiante"
   ]
  },
  {
   "cell_type": "markdown",
   "id": "c7c54344-cbd3-43e7-a735-5520217ecec2",
   "metadata": {},
   "source": [
    "Realizar un programa que conste de una clase llamada Estudiante, que tenga  como atributos el nombre y la nota del alumno. Definir los métodos para inicializar sus atributos, imprimirlos y mostrar un mensaje con el resultado de la nota y si ha aprobado o no"
   ]
  },
  {
   "cell_type": "code",
   "execution_count": 3,
   "id": "1eb3f133-d4fb-4856-935b-cbd696d0d48c",
   "metadata": {},
   "outputs": [],
   "source": [
    "class Estudiante:\n",
    "\n",
    "    def __init__(self, nombre, nota):\n",
    "        self.nombre = nombre\n",
    "        self.nota = nota\n",
    "    \n",
    "    def imprimir(self):\n",
    "        print(f'Nombre: {self.nombre}')\n",
    "        print(f'Nota: {self.nota}')\n",
    "    \n",
    "    def resultado(self):\n",
    "        print('aprobado' if self.nota >= 4 else 'desaprobado')"
   ]
  },
  {
   "cell_type": "code",
   "execution_count": 4,
   "id": "e5204c15-b2cc-4c1f-9c23-f11672c23c69",
   "metadata": {},
   "outputs": [
    {
     "name": "stdout",
     "output_type": "stream",
     "text": [
      "Nombre: Pablo\n",
      "Nota: 8\n",
      "aprobado\n",
      "Nombre: Ana\n",
      "Nota: 2\n",
      "desaprobado\n"
     ]
    }
   ],
   "source": [
    "estudiante_1 = Estudiante('Pablo', 8)\n",
    "estudiante_2 = Estudiante('Ana', 2)\n",
    "\n",
    "estudiante_1.imprimir()\n",
    "estudiante_1.resultado()\n",
    "\n",
    "estudiante_2.imprimir()\n",
    "estudiante_2.resultado()"
   ]
  },
  {
   "cell_type": "markdown",
   "id": "9fa87b75-be68-4e96-91f5-64c42e31a8ac",
   "metadata": {},
   "source": [
    "## Persona"
   ]
  },
  {
   "cell_type": "markdown",
   "id": "42f484bf-7abc-4194-8348-e8373ac2a64a",
   "metadata": {},
   "source": [
    "Crea una clase Persona. Con atributos nombre y edad. Además, crear un método cumpleaños, que aumente en 1 la edad de la persona cuando se invoque sobre un objeto creado con Persona"
   ]
  },
  {
   "cell_type": "code",
   "execution_count": 5,
   "id": "1202a53a-7e63-409c-9898-841550a04f4f",
   "metadata": {},
   "outputs": [],
   "source": [
    "class Persona:\n",
    "\n",
    "    def __init__(self, nombre, edad):\n",
    "        self.nombre = nombre\n",
    "        self.edad = edad\n",
    "    \n",
    "    def cumpleaños(self):\n",
    "        self.edad += 1\n",
    "    \n",
    "    def __str__(self):\n",
    "        return f'{self.nombre} -> {self.edad}'"
   ]
  },
  {
   "cell_type": "code",
   "execution_count": 6,
   "id": "35337f0a-e0b9-49ae-b33b-4286b607b47e",
   "metadata": {},
   "outputs": [
    {
     "name": "stdout",
     "output_type": "stream",
     "text": [
      "Pablo -> 49\n",
      "Pablo -> 50\n"
     ]
    }
   ],
   "source": [
    "persona_1 = Persona('Pablo', 49)\n",
    "print(persona_1)\n",
    "persona_1.cumpleaños()\n",
    "print(persona_1)"
   ]
  },
  {
   "cell_type": "markdown",
   "id": "2d71c053-ca85-40af-a889-f51dc6e65ae5",
   "metadata": {},
   "source": [
    "## Calculadora"
   ]
  },
  {
   "cell_type": "markdown",
   "id": "6f99b34b-cacb-41f8-84cc-ebddab20228e",
   "metadata": {},
   "source": [
    "Realizar un programa en el cual se declaren dos valores enteros por teclado utilizando el método __init__. Calcular después la suma, resta, multiplicación y división. Utilizar un método para cada una e imprimir los \n",
    "resultados obtenidos. Llamar a la clase Calculadora"
   ]
  },
  {
   "cell_type": "code",
   "execution_count": 7,
   "id": "528f78c2-5542-4da2-979a-586298f3fa5c",
   "metadata": {},
   "outputs": [],
   "source": [
    "class Calculadora:\n",
    "\n",
    "    def __init__(self):\n",
    "        self.n1 = int(input('Número 1: '))\n",
    "        self.n2 = int(input('Número 2: '))\n",
    "    \n",
    "    def sumar(self):\n",
    "        return self.n1 + self.n2\n",
    "    \n",
    "    def restar(self):\n",
    "        return self.n1 - self.n2\n",
    "    \n",
    "    def multiplicar(self):\n",
    "        return self.n1 * self.n2\n",
    "    \n",
    "    def dividir(self):\n",
    "        if self.n2 != 0:\n",
    "            return self.n1 / self.n2\n",
    "        return 0"
   ]
  },
  {
   "cell_type": "code",
   "execution_count": 8,
   "id": "03243bf8-5a73-4521-aadb-fd7c255e6ea8",
   "metadata": {},
   "outputs": [
    {
     "name": "stdin",
     "output_type": "stream",
     "text": [
      "Número 1:  2\n",
      "Número 2:  3\n"
     ]
    },
    {
     "name": "stdout",
     "output_type": "stream",
     "text": [
      "5\n",
      "-1\n",
      "6\n",
      "0.6666666666666666\n"
     ]
    }
   ],
   "source": [
    "calc = Calculadora()\n",
    "print(calc.sumar())\n",
    "print(calc.restar()) \n",
    "print(calc.multiplicar())\n",
    "print(calc.dividir())"
   ]
  },
  {
   "cell_type": "markdown",
   "id": "43c8d545-4cb5-4426-abcd-2b5fb43faacd",
   "metadata": {},
   "source": [
    "## Estudiante es una Persona"
   ]
  },
  {
   "cell_type": "markdown",
   "id": "20398cc5-ff26-4488-a9a4-fa53a1081384",
   "metadata": {},
   "source": [
    "Crear una clase Persona con los atributos nombre y apellido que sea la clase padre de otra clase Estudiante. Además, dicha clase, debe tener un método para mostrar nombre_completo() el cual debe mostrar el nombre acompañado del apellido. La clase Estudiante, debe tener como atributos edad y carrera y además contar con un método mostrar_carrera()"
   ]
  },
  {
   "cell_type": "code",
   "execution_count": 10,
   "id": "66da85a7-a248-4f7d-81c3-3f2cafbba6b3",
   "metadata": {},
   "outputs": [],
   "source": [
    "class Persona:\n",
    "\n",
    "    def __init__(self, nombre, apellido):\n",
    "        self.nombre = nombre\n",
    "        self.apellido = apellido\n",
    "    \n",
    "    def nombre_completo(self):\n",
    "        print(f'{self.nombre} {self.apellido}')"
   ]
  },
  {
   "cell_type": "code",
   "execution_count": 11,
   "id": "abd4efc6-e25c-4603-8b91-9cf61e7fe6b3",
   "metadata": {},
   "outputs": [],
   "source": [
    "class Estudiante(Persona):\n",
    "\n",
    "    def __init__(self, nombre, apellido, edad, carrera):\n",
    "        super().__init__(nombre, apellido)\n",
    "        self.edad = edad\n",
    "        self.carrera = carrera\n",
    "    \n",
    "    def mostrar_carrera(self):\n",
    "        print(self.carrera)"
   ]
  },
  {
   "cell_type": "code",
   "execution_count": 12,
   "id": "87ed2a04-b8fd-4a79-b929-1a61b3f14c4e",
   "metadata": {},
   "outputs": [
    {
     "name": "stdout",
     "output_type": "stream",
     "text": [
      "Pablo Pandolfo\n"
     ]
    }
   ],
   "source": [
    "persona = Persona('Pablo', 'Pandolfo')\n",
    "persona.nombre_completo()"
   ]
  },
  {
   "cell_type": "code",
   "execution_count": 13,
   "id": "cdf5cd78-72d8-467b-b129-eff726c6818b",
   "metadata": {},
   "outputs": [
    {
     "name": "stdout",
     "output_type": "stream",
     "text": [
      "Mariano Castroman\n",
      "informática\n"
     ]
    }
   ],
   "source": [
    "estudiante = Estudiante('Mariano', 'Castroman', 45, 'informática')\n",
    "estudiante.nombre_completo()\n",
    "estudiante.mostrar_carrera()"
   ]
  },
  {
   "cell_type": "markdown",
   "id": "9182e44a-4fa8-4fba-9edb-43c45ebccb46",
   "metadata": {},
   "source": [
    "## Moto y Auto son Fabricas"
   ]
  },
  {
   "cell_type": "markdown",
   "id": "5a8b5f63-5885-4324-af99-4b577c1a46e6",
   "metadata": {},
   "source": [
    "Crear una clase Fabrica que tenga los atributos de Llantas, Color y Precio. Luego crear dos clases más que hereden de Fabrica, las cuales son Moto y Auto. Crear métodos que muestren la cantidad de llantas, color y precio de ambos transportes. Por último, crear objetos para cada clase y mostrar por pantalla los atributos de cada uno"
   ]
  },
  {
   "cell_type": "code",
   "execution_count": 18,
   "id": "d76c172d-46ed-4dd6-b8bf-c0d24af166cd",
   "metadata": {},
   "outputs": [],
   "source": [
    "class Fabrica:\n",
    "\n",
    "    def __init__(self, llantas, color, precio):\n",
    "        self.llantas = llantas\n",
    "        self.color = color\n",
    "        self.precio = precio\n",
    "    \n",
    "    def mostrar_llantas(self):\n",
    "        print(f'Llantas: {self.llantas}')\n",
    "    \n",
    "    def mostrar_color(self):\n",
    "        print(f'Color: {self.color}')\n",
    "    \n",
    "    def mostrar_precio(self):\n",
    "        print(f'Precio: {self.precio}')"
   ]
  },
  {
   "cell_type": "code",
   "execution_count": 19,
   "id": "f3cd0616-4a18-429b-9b14-02e375510847",
   "metadata": {},
   "outputs": [],
   "source": [
    "class Moto(Fabrica):\n",
    "\n",
    "    def __init__(self, llantas, color, precio):\n",
    "        super().__init__(llantas, color, precio)"
   ]
  },
  {
   "cell_type": "code",
   "execution_count": 20,
   "id": "34319438-329a-4507-87f1-c402f09c4b3b",
   "metadata": {},
   "outputs": [],
   "source": [
    "class Auto(Fabrica):\n",
    "\n",
    "    def __init__(self, llantas, color, precio):\n",
    "        super().__init__(llantas, color, precio)"
   ]
  },
  {
   "cell_type": "code",
   "execution_count": 21,
   "id": "9088d4de-ca7d-42fb-9017-7b1d5669e2e7",
   "metadata": {},
   "outputs": [],
   "source": [
    "fabrica = Fabrica(4, 'rojo', 1234.56)\n",
    "moto = Moto(2, 'negro', 12.34)\n",
    "auto = Auto(4, 'gris', 123.45)"
   ]
  },
  {
   "cell_type": "code",
   "execution_count": 22,
   "id": "313e9475-f613-423f-9bc8-935a6d120b7c",
   "metadata": {},
   "outputs": [
    {
     "name": "stdout",
     "output_type": "stream",
     "text": [
      "Llantas: 4\n",
      "Color: rojo\n",
      "Precio: 1234.56\n"
     ]
    }
   ],
   "source": [
    "fabrica.mostrar_llantas()\n",
    "fabrica.mostrar_color()\n",
    "fabrica.mostrar_precio()"
   ]
  },
  {
   "cell_type": "code",
   "execution_count": 23,
   "id": "c96de15f-e411-4a9b-9262-a441d75b98f6",
   "metadata": {},
   "outputs": [
    {
     "name": "stdout",
     "output_type": "stream",
     "text": [
      "Llantas: 2\n",
      "Color: negro\n",
      "Precio: 12.34\n"
     ]
    }
   ],
   "source": [
    "moto.mostrar_llantas()\n",
    "moto.mostrar_color()\n",
    "moto.mostrar_precio()"
   ]
  },
  {
   "cell_type": "code",
   "execution_count": 24,
   "id": "1cb8988e-b67c-440b-8d89-106a60d6688b",
   "metadata": {},
   "outputs": [
    {
     "name": "stdout",
     "output_type": "stream",
     "text": [
      "Llantas: 4\n",
      "Color: gris\n",
      "Precio: 123.45\n"
     ]
    }
   ],
   "source": [
    "auto.mostrar_llantas()\n",
    "auto.mostrar_color()\n",
    "auto.mostrar_precio()"
   ]
  },
  {
   "cell_type": "markdown",
   "id": "aa2e385a-4b29-44ce-a694-e805d5edf351",
   "metadata": {},
   "source": [
    "## Pulpo y Foca con Marinos"
   ]
  },
  {
   "cell_type": "markdown",
   "id": "d62878f2-ff80-4fe2-8f65-918d7603e1e1",
   "metadata": {},
   "source": [
    "Crear una clase llamada Marino(), con un método que sea hablar, en donde muestre un mensaje que diga «Hola, soy un animal marino!». Luego, crear una clase Pulpo() que herede Marino, pero modificar el mensaje de hablar por «Hola soy un Pulpo!». Por último, crear una clase Foca(), heredada de Marino, pero que tenga un atributo nuevo llamado mensaje y que muestre ese mensaje como parámetro"
   ]
  },
  {
   "cell_type": "code",
   "execution_count": 25,
   "id": "0546ddc7-7555-4eda-a343-78a327911543",
   "metadata": {},
   "outputs": [],
   "source": [
    "class Marino:\n",
    "\n",
    "    def hablar(self):\n",
    "        print('Hola, soy un animal marino!')"
   ]
  },
  {
   "cell_type": "code",
   "execution_count": 26,
   "id": "59219015-8822-4faa-9d04-2485ebe09740",
   "metadata": {},
   "outputs": [],
   "source": [
    "class Pulpo(Marino):\n",
    "\n",
    "    def hablar(self):\n",
    "        print('Hola, soy un Pulpo!')"
   ]
  },
  {
   "cell_type": "code",
   "execution_count": 27,
   "id": "408e53b6-d368-4964-b235-8c1320d3aa02",
   "metadata": {},
   "outputs": [],
   "source": [
    "class Foca(Marino):\n",
    "\n",
    "    def __init__(self, mensaje):\n",
    "        self.mensaje = mensaje\n",
    "    \n",
    "    def hablar(self):\n",
    "        print(self.mensaje)"
   ]
  },
  {
   "cell_type": "code",
   "execution_count": 28,
   "id": "57453fc1-0bd7-4c83-b232-b9fb9022658d",
   "metadata": {},
   "outputs": [
    {
     "name": "stdout",
     "output_type": "stream",
     "text": [
      "Hola, soy un animal marino!\n",
      "Hola, soy un Pulpo!\n",
      "Hola, soy una Foca!\n"
     ]
    }
   ],
   "source": [
    "Marino().hablar()\n",
    "Pulpo().hablar()\n",
    "Foca('Hola, soy una Foca!').hablar()"
   ]
  },
  {
   "cell_type": "markdown",
   "id": "65b013b6-3241-48ed-8d85-567db9b04acb",
   "metadata": {},
   "source": [
    "## Universidad, Carrera, Estudiante"
   ]
  },
  {
   "cell_type": "markdown",
   "id": "214592af-3954-465b-96d5-be9c02f617df",
   "metadata": {},
   "source": [
    "Desarrollar un programa con tres clases:\n",
    "\n",
    "* La primera debe ser Universidad, con atributos nombre (nombre de la Universidad) \n",
    "* La segunda llamada Carerra, con los atributos especialidad (especialidad de un estudiante)\n",
    "* Y por último, una llamada Estudiante, que tenga como atributos su nombre y edad\n",
    "\n",
    "El programa debe imprimir la especialidad, edad, nombre y universidad de dicho estudiante con un objeto llamado persona"
   ]
  },
  {
   "cell_type": "code",
   "execution_count": 34,
   "id": "ee693048-25d2-4b51-8b08-d1e5221f43e5",
   "metadata": {},
   "outputs": [],
   "source": [
    "class Universidad:\n",
    "\n",
    "    def __init__(self, nombre):\n",
    "        self.nombre = nombre"
   ]
  },
  {
   "cell_type": "code",
   "execution_count": 35,
   "id": "81e43be5-da47-4f24-83b5-81173f55929b",
   "metadata": {},
   "outputs": [],
   "source": [
    "class Carrera:\n",
    "\n",
    "    def __init__(self, especialidad):\n",
    "        self.especialidad = especialidad"
   ]
  },
  {
   "cell_type": "code",
   "execution_count": 36,
   "id": "580dec42-cc13-47fc-809a-506f8dd48951",
   "metadata": {},
   "outputs": [],
   "source": [
    "class Estudiante:\n",
    "\n",
    "    def __init__(self, nombre, edad):\n",
    "        self.nombre = nombre\n",
    "        self.edad = edad"
   ]
  },
  {
   "cell_type": "code",
   "execution_count": 37,
   "id": "10c57dd2-308c-41e0-b249-6811f0b15faa",
   "metadata": {},
   "outputs": [],
   "source": [
    "def persona(universidad, carrera, estudiante):\n",
    "    return f'Universidad: {universidad.nombre}, Carrera: {carrera.especialidad}, Estudiante: {estudiante.nombre}, Edad: {estudiante.edad}'"
   ]
  },
  {
   "cell_type": "code",
   "execution_count": 38,
   "id": "e4909d25-21af-4597-9cda-46e667a135cd",
   "metadata": {},
   "outputs": [
    {
     "name": "stdout",
     "output_type": "stream",
     "text": [
      "Universidad: UNO, Carrera: Esp en Cs de Datos, Estudiante: Pablo Pandolfo, Edad: 49\n"
     ]
    }
   ],
   "source": [
    "universidad = Universidad('UNO')\n",
    "carrera = Carrera('Esp en Cs de Datos')\n",
    "estudiante = Estudiante('Pablo Pandolfo', 49)\n",
    "print(persona(universidad, carrera, estudiante))"
   ]
  }
 ],
 "metadata": {
  "kernelspec": {
   "display_name": "Python [conda env:base] *",
   "language": "python",
   "name": "conda-base-py"
  },
  "language_info": {
   "codemirror_mode": {
    "name": "ipython",
    "version": 3
   },
   "file_extension": ".py",
   "mimetype": "text/x-python",
   "name": "python",
   "nbconvert_exporter": "python",
   "pygments_lexer": "ipython3",
   "version": "3.12.7"
  }
 },
 "nbformat": 4,
 "nbformat_minor": 5
}
