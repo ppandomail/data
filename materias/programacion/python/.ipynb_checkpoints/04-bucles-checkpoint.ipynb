{
 "cells": [
  {
   "cell_type": "markdown",
   "id": "201251c4-aa5a-4072-b9ef-733ae7151278",
   "metadata": {},
   "source": [
    "# Bucles"
   ]
  },
  {
   "cell_type": "markdown",
   "id": "439168b3-0e10-4cad-9cb8-9ad4008de446",
   "metadata": {},
   "source": [
    "## Palabras x 10"
   ]
  },
  {
   "cell_type": "markdown",
   "id": "4bba2430-6448-4a70-a46c-c9eeea37b75e",
   "metadata": {},
   "source": [
    "Escribir un programa que pida al usuario una palabra y la muestre por pantalla 10 veces"
   ]
  },
  {
   "cell_type": "code",
   "execution_count": 1,
   "id": "62527796-206a-483c-8d9e-7f37cbe7414d",
   "metadata": {},
   "outputs": [
    {
     "name": "stdin",
     "output_type": "stream",
     "text": [
      "Palabra:  português\n"
     ]
    },
    {
     "name": "stdout",
     "output_type": "stream",
     "text": [
      "português\n",
      "português\n",
      "português\n",
      "português\n",
      "português\n",
      "português\n",
      "português\n",
      "português\n",
      "português\n"
     ]
    },
    {
     "data": {
      "text/plain": [
       "[None, None, None, None, None, None, None, None, None]"
      ]
     },
     "execution_count": 1,
     "metadata": {},
     "output_type": "execute_result"
    }
   ],
   "source": [
    "palabra = input('Palabra: ')\n",
    "[print(palabra) for i in range(1, 10)]"
   ]
  },
  {
   "cell_type": "code",
   "execution_count": 2,
   "id": "1ff39361-54e8-4183-9943-0afa20b96663",
   "metadata": {},
   "outputs": [
    {
     "name": "stdin",
     "output_type": "stream",
     "text": [
      "Palabra:  português\n"
     ]
    },
    {
     "name": "stdout",
     "output_type": "stream",
     "text": [
      "português\n",
      "português\n",
      "português\n",
      "português\n",
      "português\n",
      "português\n",
      "português\n",
      "português\n",
      "português\n",
      "português\n"
     ]
    }
   ],
   "source": [
    "palabra = input('Palabra: ')\n",
    "for i in range(0, 10):\n",
    "    print(palabra)"
   ]
  },
  {
   "cell_type": "markdown",
   "id": "063f782b-27ff-4c70-ae85-ef61aba66962",
   "metadata": {},
   "source": [
    "## Edad"
   ]
  },
  {
   "cell_type": "markdown",
   "id": "88a12377-8aa9-4e71-812b-5588420c3550",
   "metadata": {},
   "source": [
    "Escribir un programa que pregunte al usuario su edad y muestre por pantalla todos los años que ha cumplido (desde 1 hasta su edad)"
   ]
  },
  {
   "cell_type": "code",
   "execution_count": 3,
   "id": "a0585fa0-f3c7-46d2-845b-9cb6d1a1c544",
   "metadata": {},
   "outputs": [
    {
     "name": "stdin",
     "output_type": "stream",
     "text": [
      "Edad:  6\n"
     ]
    },
    {
     "name": "stdout",
     "output_type": "stream",
     "text": [
      "1\n",
      "2\n",
      "3\n",
      "4\n",
      "5\n",
      "6\n"
     ]
    },
    {
     "data": {
      "text/plain": [
       "[None, None, None, None, None, None]"
      ]
     },
     "execution_count": 3,
     "metadata": {},
     "output_type": "execute_result"
    }
   ],
   "source": [
    "edad = int(input('Edad: '))\n",
    "[print(i) for i in range(1, edad+1)]"
   ]
  },
  {
   "cell_type": "markdown",
   "id": "b6689c5d-7e76-44d8-9439-16374224a43e",
   "metadata": {},
   "source": [
    "## Impares"
   ]
  },
  {
   "cell_type": "markdown",
   "id": "1577dbc0-831f-40e7-b269-af9243285cf9",
   "metadata": {},
   "source": [
    "Escribir un programa que pida al usuario un número entero positivo y muestre por pantalla todos los números impares desde 1 hasta ese número separados por comas"
   ]
  },
  {
   "cell_type": "code",
   "execution_count": 4,
   "id": "84d2abf0-736b-4b0d-9c10-53da41e7de47",
   "metadata": {},
   "outputs": [
    {
     "name": "stdin",
     "output_type": "stream",
     "text": [
      "Número:  9\n"
     ]
    },
    {
     "name": "stdout",
     "output_type": "stream",
     "text": [
      "1,3,5,7,9\n"
     ]
    }
   ],
   "source": [
    "print(','.join([f'{i}' for i in range(1, int(input('Número: '))+1, 2)]))"
   ]
  },
  {
   "cell_type": "markdown",
   "id": "368689f2-ed5a-4631-b870-bdfe69afd782",
   "metadata": {},
   "source": [
    "## Cuenta atras"
   ]
  },
  {
   "cell_type": "markdown",
   "id": "eb7f5f43-b7ed-4586-9868-9ff0410df43b",
   "metadata": {},
   "source": [
    "Escribir un programa que pida al usuario un número entero positivo y muestre por pantalla la cuenta atrás desde ese número hasta cero separados por comas"
   ]
  },
  {
   "cell_type": "code",
   "execution_count": 5,
   "id": "6136f728-dfe4-418a-8361-6b3f2c11f93f",
   "metadata": {},
   "outputs": [
    {
     "name": "stdin",
     "output_type": "stream",
     "text": [
      "Número:  10\n"
     ]
    },
    {
     "name": "stdout",
     "output_type": "stream",
     "text": [
      "[10, 9, 8, 7, 6, 5, 4, 3, 2, 1, 0]\n"
     ]
    }
   ],
   "source": [
    "print([i for i in range(0, int(input('Número: '))+2)][::-1][1:])"
   ]
  },
  {
   "cell_type": "markdown",
   "id": "696fb926-bbc9-4ec1-95cd-2e26081ba86d",
   "metadata": {},
   "source": [
    "## Capital inversión"
   ]
  },
  {
   "cell_type": "markdown",
   "id": "a3977991-f168-4fcf-a3d8-c8a28360459f",
   "metadata": {},
   "source": [
    "Escribir un programa que pregunte al usuario una cantidad a invertir, el interés anual y el número de años, y muestre por pantalla el capital obtenido en la inversión cada año que dura la inversión"
   ]
  },
  {
   "cell_type": "code",
   "execution_count": 6,
   "id": "052b97b6-1f6e-43ef-9335-f8d4205ee358",
   "metadata": {},
   "outputs": [
    {
     "name": "stdin",
     "output_type": "stream",
     "text": [
      "Cantidad a Invertir:  1000000\n",
      "Interés anual:  30\n",
      "Número de años:  3\n"
     ]
    },
    {
     "name": "stdout",
     "output_type": "stream",
     "text": [
      "Año  1 : 31000000.0\n",
      "Año  2 : 961000000.0\n",
      "Año  3 : 29791000000.0\n"
     ]
    },
    {
     "data": {
      "text/plain": [
       "[None, None, None]"
      ]
     },
     "execution_count": 6,
     "metadata": {},
     "output_type": "execute_result"
    }
   ],
   "source": [
    "cant_invertir = float(input('Cantidad a Invertir: '))\n",
    "interes_anual = float(input('Interés anual: '))\n",
    "num_años = int(input('Número de años: '))\n",
    "[print(f'Año  {i} : {cant_invertir * pow(1 + interes_anual, i)}', sep='\\n') for i in range(1, num_años + 1)]"
   ]
  },
  {
   "cell_type": "markdown",
   "id": "b5306219-31a2-4189-8ea2-335acfdad170",
   "metadata": {},
   "source": [
    "## Triángulo"
   ]
  },
  {
   "cell_type": "markdown",
   "id": "651f06bf-ac8b-4ffa-beaf-0076ea677870",
   "metadata": {},
   "source": [
    "Escribir un programa que pida al usuario un número entero y muestre por pantalla un triángulo rectángulo como el de más abajo, de altura el número introducido\n",
    "* \\*\n",
    "* \\**\n",
    "* \\***\n",
    "* \\****\n",
    "* \\*****"
   ]
  },
  {
   "cell_type": "code",
   "execution_count": 7,
   "id": "f9e7f9b4-e463-43d5-b712-8bc1b4ce85bf",
   "metadata": {},
   "outputs": [
    {
     "name": "stdin",
     "output_type": "stream",
     "text": [
      "Número:  5\n"
     ]
    },
    {
     "name": "stdout",
     "output_type": "stream",
     "text": [
      "*\n",
      "**\n",
      "***\n",
      "****\n",
      "*****\n"
     ]
    }
   ],
   "source": [
    "n = int(input('Número: '))\n",
    "linea = '*'\n",
    "for i in range(1, n+1):\n",
    "    print(linea)\n",
    "    linea += '*'"
   ]
  },
  {
   "cell_type": "markdown",
   "id": "742aaf2e-ddc5-4994-9783-05c3b87de167",
   "metadata": {},
   "source": [
    "## Tabla multiplicar"
   ]
  },
  {
   "cell_type": "markdown",
   "id": "99eb79fd-dde8-4f95-9be7-646a18d113ca",
   "metadata": {},
   "source": [
    "Escribir un programa que muestre por pantalla la tabla de multiplicar del 1 al 10"
   ]
  },
  {
   "cell_type": "code",
   "execution_count": 8,
   "id": "6c5872fd-13cc-48b8-9388-639cf42babf9",
   "metadata": {},
   "outputs": [
    {
     "name": "stdout",
     "output_type": "stream",
     "text": [
      "1 x 1 = 1\n",
      "1 x 2 = 2\n",
      "1 x 3 = 3\n",
      "1 x 4 = 4\n",
      "1 x 5 = 5\n",
      "1 x 6 = 6\n",
      "1 x 7 = 7\n",
      "1 x 8 = 8\n",
      "1 x 9 = 9\n",
      "1 x 10 = 10\n",
      "------------\n",
      "2 x 1 = 2\n",
      "2 x 2 = 4\n",
      "2 x 3 = 6\n",
      "2 x 4 = 8\n",
      "2 x 5 = 10\n",
      "2 x 6 = 12\n",
      "2 x 7 = 14\n",
      "2 x 8 = 16\n",
      "2 x 9 = 18\n",
      "2 x 10 = 20\n",
      "------------\n",
      "3 x 1 = 3\n",
      "3 x 2 = 6\n",
      "3 x 3 = 9\n",
      "3 x 4 = 12\n",
      "3 x 5 = 15\n",
      "3 x 6 = 18\n",
      "3 x 7 = 21\n",
      "3 x 8 = 24\n",
      "3 x 9 = 27\n",
      "3 x 10 = 30\n",
      "------------\n",
      "4 x 1 = 4\n",
      "4 x 2 = 8\n",
      "4 x 3 = 12\n",
      "4 x 4 = 16\n",
      "4 x 5 = 20\n",
      "4 x 6 = 24\n",
      "4 x 7 = 28\n",
      "4 x 8 = 32\n",
      "4 x 9 = 36\n",
      "4 x 10 = 40\n",
      "------------\n",
      "5 x 1 = 5\n",
      "5 x 2 = 10\n",
      "5 x 3 = 15\n",
      "5 x 4 = 20\n",
      "5 x 5 = 25\n",
      "5 x 6 = 30\n",
      "5 x 7 = 35\n",
      "5 x 8 = 40\n",
      "5 x 9 = 45\n",
      "5 x 10 = 50\n",
      "------------\n",
      "6 x 1 = 6\n",
      "6 x 2 = 12\n",
      "6 x 3 = 18\n",
      "6 x 4 = 24\n",
      "6 x 5 = 30\n",
      "6 x 6 = 36\n",
      "6 x 7 = 42\n",
      "6 x 8 = 48\n",
      "6 x 9 = 54\n",
      "6 x 10 = 60\n",
      "------------\n",
      "7 x 1 = 7\n",
      "7 x 2 = 14\n",
      "7 x 3 = 21\n",
      "7 x 4 = 28\n",
      "7 x 5 = 35\n",
      "7 x 6 = 42\n",
      "7 x 7 = 49\n",
      "7 x 8 = 56\n",
      "7 x 9 = 63\n",
      "7 x 10 = 70\n",
      "------------\n",
      "8 x 1 = 8\n",
      "8 x 2 = 16\n",
      "8 x 3 = 24\n",
      "8 x 4 = 32\n",
      "8 x 5 = 40\n",
      "8 x 6 = 48\n",
      "8 x 7 = 56\n",
      "8 x 8 = 64\n",
      "8 x 9 = 72\n",
      "8 x 10 = 80\n",
      "------------\n",
      "9 x 1 = 9\n",
      "9 x 2 = 18\n",
      "9 x 3 = 27\n",
      "9 x 4 = 36\n",
      "9 x 5 = 45\n",
      "9 x 6 = 54\n",
      "9 x 7 = 63\n",
      "9 x 8 = 72\n",
      "9 x 9 = 81\n",
      "9 x 10 = 90\n",
      "------------\n",
      "10 x 1 = 10\n",
      "10 x 2 = 20\n",
      "10 x 3 = 30\n",
      "10 x 4 = 40\n",
      "10 x 5 = 50\n",
      "10 x 6 = 60\n",
      "10 x 7 = 70\n",
      "10 x 8 = 80\n",
      "10 x 9 = 90\n",
      "10 x 10 = 100\n",
      "------------\n"
     ]
    }
   ],
   "source": [
    "for i in range(1, 11):\n",
    "    for j in range(1, 11):\n",
    "        print(f'{i} x {j} = {i * j}')\n",
    "    print('------------')"
   ]
  },
  {
   "cell_type": "markdown",
   "id": "42f560fd-8241-4440-a667-ea4e5cd71323",
   "metadata": {},
   "source": [
    "## Contraseña"
   ]
  },
  {
   "cell_type": "markdown",
   "id": "41b94f5b-4d1b-40c4-8ee2-a6c3331016c2",
   "metadata": {},
   "source": [
    "Escribir un programa que almacene la cadena de caracteres contraseña en una variable, pregunte al usuario por la contraseña hasta que introduzca la contraseña correcta"
   ]
  },
  {
   "cell_type": "code",
   "execution_count": 9,
   "id": "8cb33e9b-b2ae-4352-861a-8f8df9873794",
   "metadata": {},
   "outputs": [
    {
     "name": "stdin",
     "output_type": "stream",
     "text": [
      "Contraseña:  pepe12\n",
      "Contraseña:  pepe21\n",
      "Contraseña:  pepe123\n"
     ]
    },
    {
     "name": "stdout",
     "output_type": "stream",
     "text": [
      "Contraseña correcta\n"
     ]
    }
   ],
   "source": [
    "contraseña = 'pepe123'\n",
    "contraseña_usuario = input('Contraseña: ')\n",
    "while contraseña_usuario != contraseña:\n",
    "    contraseña_usuario = input('Contraseña: ')\n",
    "print('Contraseña correcta')"
   ]
  },
  {
   "cell_type": "markdown",
   "id": "af6907fc-242f-435c-95d1-ef1c68e725e8",
   "metadata": {},
   "source": [
    "## Primo"
   ]
  },
  {
   "cell_type": "markdown",
   "id": "16427548-8ae9-4b15-a124-6228f21be99a",
   "metadata": {},
   "source": [
    "Escribir un programa que pida al usuario un número entero y muestre por pantalla si es un número primo o no"
   ]
  },
  {
   "cell_type": "code",
   "execution_count": 10,
   "id": "8193df40-649b-411e-859a-b3c93224758c",
   "metadata": {},
   "outputs": [
    {
     "name": "stdin",
     "output_type": "stream",
     "text": [
      "Número:  17\n"
     ]
    },
    {
     "name": "stdout",
     "output_type": "stream",
     "text": [
      "Es un número primo\n"
     ]
    }
   ],
   "source": [
    "numero = int(input('Número: '))\n",
    "primo = True\n",
    "for i in range(2, numero):\n",
    "    if numero % i == 0:\n",
    "        primo = False\n",
    "        break\n",
    "print('Es un número primo' if primo else 'No es un número primo')"
   ]
  },
  {
   "cell_type": "markdown",
   "id": "d75025d3-a727-471a-bd16-3052ccd7d1f8",
   "metadata": {},
   "source": [
    "## Letras / Palabras"
   ]
  },
  {
   "cell_type": "markdown",
   "id": "89bfa066-9311-4b34-8e9f-65f77003ebd4",
   "metadata": {},
   "source": [
    "Escribir un programa que pida al usuario una palabra y luego muestre por pantalla una a una las letras de la palabra introducida empezando por la última"
   ]
  },
  {
   "cell_type": "code",
   "execution_count": 11,
   "id": "7c9f75be-33d4-464a-942b-253b98f98bad",
   "metadata": {},
   "outputs": [
    {
     "name": "stdin",
     "output_type": "stream",
     "text": [
      "Palabra:  português\n"
     ]
    },
    {
     "name": "stdout",
     "output_type": "stream",
     "text": [
      "s\n",
      "ê\n",
      "u\n",
      "g\n",
      "u\n",
      "t\n",
      "r\n",
      "o\n",
      "p\n"
     ]
    }
   ],
   "source": [
    "palabra = input('Palabra: ')\n",
    "i = len(palabra) - 1\n",
    "while i >= 0:\n",
    "    print(palabra[i])\n",
    "    i -= 1"
   ]
  },
  {
   "cell_type": "markdown",
   "id": "2186c0bb-fd54-484a-ae93-c913b7dd4d9d",
   "metadata": {},
   "source": [
    "## Veces letra en frase"
   ]
  },
  {
   "cell_type": "markdown",
   "id": "1cdef0ee-7fff-4450-910c-a8d594bfdce1",
   "metadata": {},
   "source": [
    "Escribir un programa en el que se pregunte al usuario por una frase y una letra, y muestre por pantalla el número de veces que aparece la letra en la frase"
   ]
  },
  {
   "cell_type": "code",
   "execution_count": 12,
   "id": "3a336a80-37e5-4fc1-8713-23c229a11c70",
   "metadata": {},
   "outputs": [
    {
     "name": "stdin",
     "output_type": "stream",
     "text": [
      "Frase:  Oid mortales, el grito sagrado\n",
      "Letra:  o\n"
     ]
    },
    {
     "name": "stdout",
     "output_type": "stream",
     "text": [
      "3\n"
     ]
    }
   ],
   "source": [
    "frase = input('Frase: ')\n",
    "letra = input('Letra: ')\n",
    "cont = 0\n",
    "for i in range(0, len(frase)):\n",
    "    if frase[i] == letra:\n",
    "        cont += 1\n",
    "print(cont)"
   ]
  },
  {
   "cell_type": "markdown",
   "id": "cd6dee3a-68dc-4edc-a812-45a0a335b7e2",
   "metadata": {},
   "source": [
    "## Eco"
   ]
  },
  {
   "cell_type": "markdown",
   "id": "bb6282ef-763b-4d42-99e4-6358220dad00",
   "metadata": {},
   "source": [
    "Escribir un programa que muestre el eco de todo lo que el usuario introduzca hasta que el usuario escriba \"salir\""
   ]
  },
  {
   "cell_type": "code",
   "execution_count": 13,
   "id": "33ede437-c74d-45e4-9c55-c05697841aad",
   "metadata": {},
   "outputs": [
    {
     "name": "stdin",
     "output_type": "stream",
     "text": [
      " hola\n"
     ]
    },
    {
     "name": "stdout",
     "output_type": "stream",
     "text": [
      "hola\n"
     ]
    },
    {
     "name": "stdin",
     "output_type": "stream",
     "text": [
      " mundo\n"
     ]
    },
    {
     "name": "stdout",
     "output_type": "stream",
     "text": [
      "mundo\n"
     ]
    },
    {
     "name": "stdin",
     "output_type": "stream",
     "text": [
      " salir\n"
     ]
    }
   ],
   "source": [
    "eco = input()\n",
    "while  eco != 'salir':\n",
    "    print(eco)\n",
    "    eco = input()"
   ]
  }
 ],
 "metadata": {
  "kernelspec": {
   "display_name": "Python [conda env:base] *",
   "language": "python",
   "name": "conda-base-py"
  },
  "language_info": {
   "codemirror_mode": {
    "name": "ipython",
    "version": 3
   },
   "file_extension": ".py",
   "mimetype": "text/x-python",
   "name": "python",
   "nbconvert_exporter": "python",
   "pygments_lexer": "ipython3",
   "version": "3.12.7"
  }
 },
 "nbformat": 4,
 "nbformat_minor": 5
}
