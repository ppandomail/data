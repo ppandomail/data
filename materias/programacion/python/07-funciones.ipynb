{
 "cells": [
  {
   "cell_type": "markdown",
   "id": "1432672a-87f2-4845-bff3-95ebae4ab12e",
   "metadata": {},
   "source": [
    "# Funciones"
   ]
  },
  {
   "cell_type": "markdown",
   "id": "f8eb9a9e-73b3-4452-9b99-847daad2c4b5",
   "metadata": {},
   "source": [
    "## Saludo"
   ]
  },
  {
   "cell_type": "markdown",
   "id": "ca7fa1e4-f9e6-4edd-9bef-dbce94604444",
   "metadata": {},
   "source": [
    "Escribir una función que muestre por pantalla el saludo ¡Hola amigo! cada vez que se la invoque"
   ]
  },
  {
   "cell_type": "code",
   "execution_count": 5,
   "id": "fe6a0d20-7ca0-415b-8a2f-0a5a6bc06ccd",
   "metadata": {},
   "outputs": [
    {
     "name": "stdout",
     "output_type": "stream",
     "text": [
      "¡Hola amigo!\n",
      "¡Hola amigo!\n",
      "¡Hola amigo!\n"
     ]
    }
   ],
   "source": [
    "def saludo():\n",
    "    print('¡Hola amigo!')\n",
    "\n",
    "saludo()\n",
    "saludo()\n",
    "saludo()"
   ]
  },
  {
   "cell_type": "markdown",
   "id": "2a9e6f55-b391-47db-ae7f-ebb03bd727a1",
   "metadata": {},
   "source": [
    "## Saludo con parámetro"
   ]
  },
  {
   "cell_type": "markdown",
   "id": "06c1221a-e332-4b54-b34c-80b7bf8c6390",
   "metadata": {},
   "source": [
    "Escribir una función a la que se le pase una cadena \\<nombre> y muestre por pantalla el saludo ¡hola \\<nombre>!"
   ]
  },
  {
   "cell_type": "code",
   "execution_count": 6,
   "id": "41b7de81-a4c7-435e-9a19-9ed477c633ad",
   "metadata": {},
   "outputs": [
    {
     "name": "stdout",
     "output_type": "stream",
     "text": [
      "¡hola Pablo!\n",
      "¡hola Ana!\n",
      "¡hola Maria!\n"
     ]
    }
   ],
   "source": [
    "def saludo(nombre):\n",
    "    print(f'¡hola {nombre}!')\n",
    "\n",
    "saludo('Pablo')\n",
    "saludo('Ana')\n",
    "saludo('Maria')"
   ]
  },
  {
   "cell_type": "markdown",
   "id": "d354adb7-6ff6-49ec-91a7-4b38f778a599",
   "metadata": {},
   "source": [
    "## Factorial"
   ]
  },
  {
   "cell_type": "markdown",
   "id": "15e0b2a6-e9e1-4424-b529-d8fcfce6e4b3",
   "metadata": {},
   "source": [
    "Escribir una función que reciba un número entero positivo y devuelva su factorial"
   ]
  },
  {
   "cell_type": "code",
   "execution_count": 7,
   "id": "a93be7bd-f6ee-485c-902e-0dd766033337",
   "metadata": {},
   "outputs": [
    {
     "name": "stdout",
     "output_type": "stream",
     "text": [
      "1\n",
      "1\n",
      "2\n",
      "6\n",
      "24\n",
      "120\n"
     ]
    }
   ],
   "source": [
    "def factorial(numero):\n",
    "    factorial = 1\n",
    "    for i in range(1, numero):\n",
    "        factorial += factorial * i\n",
    "    return factorial\n",
    "\n",
    "print(factorial(0))\n",
    "print(factorial(1))\n",
    "print(factorial(2))\n",
    "print(factorial(3))\n",
    "print(factorial(4))\n",
    "print(factorial(5))"
   ]
  },
  {
   "cell_type": "markdown",
   "id": "08320957-beb3-4a48-bb9a-6cc0d2054046",
   "metadata": {},
   "source": [
    "## IVA"
   ]
  },
  {
   "cell_type": "markdown",
   "id": "e12440bc-3426-4c3b-8e3b-3675feba7d27",
   "metadata": {},
   "source": [
    "Escribir una función que calcule el total de una factura tras aplicarle el IVA. La función debe recibir la cantidad sin IVA y el porcentaje de IVA a aplicar, y devolver el total de la factura. Si se invoca la función sin pasarle el porcentaje de IVA, deberá\n",
    "aplicar un 21%"
   ]
  },
  {
   "cell_type": "code",
   "execution_count": 8,
   "id": "5e88851c-8c91-4584-8ddc-6c085cdb73d9",
   "metadata": {},
   "outputs": [
    {
     "name": "stdout",
     "output_type": "stream",
     "text": [
      "105.0\n",
      "121.0\n"
     ]
    }
   ],
   "source": [
    "def calcular_iva(cantidad_sin_iva, porcentaje_iva=21):\n",
    "    return cantidad_sin_iva + cantidad_sin_iva * porcentaje_iva / 100\n",
    "\n",
    "print(calcular_iva(100, 5))\n",
    "print(calcular_iva(100))"
   ]
  },
  {
   "cell_type": "markdown",
   "id": "3c6fdad7-7abe-4531-a2e5-fc2aa146c394",
   "metadata": {},
   "source": [
    "## Areas"
   ]
  },
  {
   "cell_type": "markdown",
   "id": "f4b606e5-ad4e-448e-abed-98c8df1eff90",
   "metadata": {},
   "source": [
    "Escribir una función que calcule el área de un círculo y otra que calcule el volumen de un cilindro usando la primera función"
   ]
  },
  {
   "cell_type": "code",
   "execution_count": 10,
   "id": "a2f778e6-bf78-41f4-8959-d177d2ad8cbd",
   "metadata": {},
   "outputs": [
    {
     "name": "stdout",
     "output_type": "stream",
     "text": [
      "31415.93\n",
      "628318.6\n"
     ]
    }
   ],
   "source": [
    "import math\n",
    "\n",
    "def calcular_area_circulo(radio):\n",
    "    return round(math.pi * pow(radio, 2), 2)\n",
    "\n",
    "def calcular_volumen_cilindro(altura, radio):\n",
    "    return round(altura * calcular_area_circulo(radio), 2) \n",
    "\n",
    "print(calcular_area_circulo(100))\n",
    "print(calcular_volumen_cilindro(20, 100))"
   ]
  },
  {
   "cell_type": "markdown",
   "id": "6850107b-991b-41fb-990a-0cf8d3071132",
   "metadata": {},
   "source": [
    "## Media"
   ]
  },
  {
   "cell_type": "markdown",
   "id": "7a0198ad-6354-4e36-92f8-ce923097ad5a",
   "metadata": {},
   "source": [
    "Escribir una función que reciba una muestra de números en una lista y devuelva su media"
   ]
  },
  {
   "cell_type": "code",
   "execution_count": 11,
   "id": "a560d533-d97f-49cb-99a1-b22340616c3e",
   "metadata": {},
   "outputs": [
    {
     "name": "stdout",
     "output_type": "stream",
     "text": [
      "5.5\n",
      "7.0\n"
     ]
    }
   ],
   "source": [
    "def calcular_media(lista):\n",
    "    acum = 0\n",
    "    for valor in lista:\n",
    "        acum += valor\n",
    "    return acum/len(lista)\n",
    "\n",
    "print(calcular_media([1, 2, 3, 4, 5, 6, 7, 8, 9, 10]))\n",
    "print(calcular_media([11, 6, 7, 7, 4]))"
   ]
  },
  {
   "cell_type": "markdown",
   "id": "6dd4d7cd-8e27-4835-9cb2-eaa80c86ca54",
   "metadata": {},
   "source": [
    "## Cuadrados"
   ]
  },
  {
   "cell_type": "markdown",
   "id": "fb87ce7b-7d6a-47f1-9c1a-9485861b39f5",
   "metadata": {},
   "source": [
    "Escribir una función que reciba una muestra de números en una lista y devuelva otra lista con sus cuadrados"
   ]
  },
  {
   "cell_type": "code",
   "execution_count": 12,
   "id": "cf5e394f-4180-4467-a4bf-7309666e8baf",
   "metadata": {},
   "outputs": [
    {
     "name": "stdout",
     "output_type": "stream",
     "text": [
      "[1, 4, 9, 16, 25]\n"
     ]
    }
   ],
   "source": [
    "def calcular_cuadrados(lista):\n",
    "    cuadrados = []\n",
    "    for valor in lista:\n",
    "        cuadrados.append(pow(valor, 2))\n",
    "    return cuadrados\n",
    "\n",
    "print(calcular_cuadrados([1, 2, 3, 4, 5]))"
   ]
  },
  {
   "cell_type": "markdown",
   "id": "a4cac9ea-c61b-480e-8f74-19ec460ebd9e",
   "metadata": {},
   "source": [
    "## Media, varianza, desviación"
   ]
  },
  {
   "cell_type": "markdown",
   "id": "21009836-e2dc-40b1-9948-20e7d7ab6111",
   "metadata": {},
   "source": [
    "Escribir una función que reciba una muestra de números en una lista y devuelva un diccionario con su media, varianza y desviación típica"
   ]
  },
  {
   "cell_type": "code",
   "execution_count": 13,
   "id": "ba166f5e-9d87-4c4a-8e99-9d1a9c5ca183",
   "metadata": {},
   "outputs": [
    {
     "name": "stdout",
     "output_type": "stream",
     "text": [
      "{'media': 26.0, 'varianza': 2.5, 'desviacion': 1.83}\n",
      "{'media': 129.9, 'varianza': 7.889999999999999, 'desviacion': 2.96}\n"
     ]
    }
   ],
   "source": [
    "from math import sqrt\n",
    "\n",
    "def generar_diccionario(lista):\n",
    "    dicc = {}\n",
    "\n",
    "    acum = 0\n",
    "    for valor in lista:\n",
    "        acum += valor\n",
    "    media = acum / len(lista)\n",
    "    dicc['media'] = media\n",
    "\n",
    "    acum = 0\n",
    "    for valor in lista:\n",
    "        acum += pow(valor - media, 2)\n",
    "    varianza = acum / len(lista)\n",
    "    dicc['varianza'] = varianza\n",
    "\n",
    "    desviacion = round(sqrt(acum / (len(lista) - 1)), 2)\n",
    "    dicc['desviacion'] = desviacion\n",
    "\n",
    "    return dicc\n",
    "\n",
    "print(generar_diccionario([24, 28, 25, 27]))\n",
    "print(generar_diccionario([135, 131, 129, 133, 127, 128, 130, 132, 129, 125]))"
   ]
  },
  {
   "cell_type": "markdown",
   "id": "e057cc40-b56b-4014-b5fe-38cb11ddae31",
   "metadata": {},
   "source": [
    "## Común divisor múltiplo"
   ]
  },
  {
   "cell_type": "markdown",
   "id": "a1523f1c-0076-436a-a7a4-709f0baee89a",
   "metadata": {},
   "source": [
    "Escribir una función que calcule el máximo común divisor de dos números y otra que calcule el mínimo común múltiplo"
   ]
  },
  {
   "cell_type": "code",
   "execution_count": 14,
   "id": "eca233c7-3375-4de0-8d40-f5947fc2dbbc",
   "metadata": {},
   "outputs": [
    {
     "name": "stdout",
     "output_type": "stream",
     "text": [
      "El Mínimo Común Múltiplo (MCM) de 24 y 36 es: 72\n",
      "El Máximo Común Divisor (MCD) de 24 y 36 es: 12\n"
     ]
    }
   ],
   "source": [
    "import math\n",
    "\n",
    "def calcular_mcm(num1, num2):\n",
    "    return abs(num1 * num2) // math.gcd(num1, num2)\n",
    "\n",
    "def calcular_mcd(num1, num2):\n",
    "    return math.gcd(num1, num2)\n",
    "\n",
    "# Definir los números para los cuales deseas calcular el MCM y el MCD\n",
    "numero1 = 24\n",
    "numero2 = 36\n",
    "\n",
    "# Calcular el MCM y el MCD\n",
    "mcm = calcular_mcm(numero1, numero2)\n",
    "mcd = calcular_mcd(numero1, numero2)\n",
    "\n",
    "# Imprimir los resultados\n",
    "print(f\"El Mínimo Común Múltiplo (MCM) de {numero1} y {numero2} es: {mcm}\")\n",
    "print(f\"El Máximo Común Divisor (MCD) de {numero1} y {numero2} es: {mcd}\")"
   ]
  },
  {
   "cell_type": "markdown",
   "id": "301de8d0-4475-4c72-a51b-21b5ae83ae88",
   "metadata": {},
   "source": [
    "## Decimal a binario"
   ]
  },
  {
   "cell_type": "markdown",
   "id": "763f8d23-35e6-44d9-92bc-8469e8b2f172",
   "metadata": {},
   "source": [
    "Escribir una función que convierta un número decimal en binario y otra que convierta un número binario en decimal"
   ]
  },
  {
   "cell_type": "code",
   "execution_count": 15,
   "id": "d28d797f-3cfa-4836-a956-b03edd548803",
   "metadata": {},
   "outputs": [
    {
     "name": "stdout",
     "output_type": "stream",
     "text": [
      "101\n",
      "100011\n",
      "101011100011101\n",
      "5\n",
      "35\n",
      "22301\n"
     ]
    }
   ],
   "source": [
    "def decimal_a_binario(decimal):\n",
    "    binario = 0\n",
    "    multiplicador = 1\n",
    "    while decimal != 0:\n",
    "        binario += decimal % 2 * multiplicador\n",
    "        decimal //= 2\n",
    "        multiplicador *= 10\n",
    "    return binario\n",
    "\n",
    "def binario_a_decimal(binario):\n",
    "\tdecimal = 0 \n",
    "\tfor posicion, digito_string in enumerate(binario[::-1]):\n",
    "\t\tdecimal += int(digito_string) * 2 ** posicion\n",
    "\treturn decimal\n",
    "\n",
    "\n",
    "print(decimal_a_binario(5))\n",
    "print(decimal_a_binario(35))\n",
    "print(decimal_a_binario(22301))\n",
    "\n",
    "print(binario_a_decimal('101'))\n",
    "print(binario_a_decimal('100011'))\n",
    "print(binario_a_decimal('101011100011101'))"
   ]
  },
  {
   "cell_type": "markdown",
   "id": "2c9d2a7d-5119-47e4-bbe1-c8a0c70b95a7",
   "metadata": {},
   "source": [
    "## Fecuencia de caracteres"
   ]
  },
  {
   "cell_type": "markdown",
   "id": "e29febbb-306a-4519-96df-d8dd24d76593",
   "metadata": {},
   "source": [
    "Escribir un programa que reciba una cadena de caracteres y devuelva un diccionario con cada palabra que contiene y su frecuencia. Escribir otra función que reciba el diccionario generado con la función anterior y devuelva una tupla con la palabra más repetida y su frecuencia"
   ]
  },
  {
   "cell_type": "code",
   "execution_count": 16,
   "id": "d8a13d17-11e1-442f-bab4-7a1d9d38c273",
   "metadata": {},
   "outputs": [
    {
     "name": "stdout",
     "output_type": "stream",
     "text": [
      "{'Mi': 1, 'nombre': 2, 'es': 2, 'Pablo': 1, 'y': 1, 'el': 1, 'de': 1, 'ella': 1, 'Ana': 1}\n",
      "nombre\n"
     ]
    }
   ],
   "source": [
    "def generar_diccionario_frecuencia(frase):\n",
    "    dicc = {}\n",
    "    for palabra in frase.split():\n",
    "        dicc[palabra] = (dicc[palabra] + 1) if palabra in dicc else 1\n",
    "    return dicc\n",
    "\n",
    "def palabra_mas_repetida(dicc):\n",
    "    max = 0\n",
    "    for palabra, frec in dicc.items():\n",
    "        if frec > max:\n",
    "            max = frec\n",
    "            palabra_max = palabra\n",
    "    return palabra_max\n",
    "\n",
    "\n",
    "dicc = generar_diccionario_frecuencia('Mi nombre es Pablo y el nombre de ella es Ana')\n",
    "print(dicc)\n",
    "print(palabra_mas_repetida(dicc))"
   ]
  }
 ],
 "metadata": {
  "kernelspec": {
   "display_name": "Python [conda env:base] *",
   "language": "python",
   "name": "conda-base-py"
  },
  "language_info": {
   "codemirror_mode": {
    "name": "ipython",
    "version": 3
   },
   "file_extension": ".py",
   "mimetype": "text/x-python",
   "name": "python",
   "nbconvert_exporter": "python",
   "pygments_lexer": "ipython3",
   "version": "3.12.7"
  }
 },
 "nbformat": 4,
 "nbformat_minor": 5
}
