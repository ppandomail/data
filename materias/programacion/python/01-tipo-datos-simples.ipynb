{
 "cells": [
  {
   "cell_type": "markdown",
   "id": "d95ed2f3-0f88-4611-ae07-9e1b532bef24",
   "metadata": {},
   "source": [
    "# Tipo datos simples"
   ]
  },
  {
   "cell_type": "markdown",
   "id": "960f18e5-38eb-4416-97e0-dd65b62e1d91",
   "metadata": {},
   "source": [
    "## Hola mundo"
   ]
  },
  {
   "cell_type": "markdown",
   "id": "51679e3d-88ba-4505-a241-6e649acb497b",
   "metadata": {},
   "source": [
    "Escribir un programa que muestre por pantalla la cadena Hola Mundo"
   ]
  },
  {
   "cell_type": "code",
   "execution_count": 1,
   "id": "713b1016-d1f4-4eb5-a66a-8fa7d0b216c0",
   "metadata": {},
   "outputs": [
    {
     "name": "stdout",
     "output_type": "stream",
     "text": [
      "Hola Mundo\n"
     ]
    }
   ],
   "source": [
    "print('Hola Mundo')"
   ]
  },
  {
   "cell_type": "markdown",
   "id": "b1e2b38b-72d5-4772-8e46-1e1e3a6f47ee",
   "metadata": {},
   "source": [
    "## Hola mundo en variable"
   ]
  },
  {
   "cell_type": "markdown",
   "id": "042b73b2-47ee-4846-8fa3-2bfe43dcf793",
   "metadata": {},
   "source": [
    "Escribir un programa que almacene la cadena Hola Mundo en una variable y luego muestre por pantalla el contenido de la variable"
   ]
  },
  {
   "cell_type": "code",
   "execution_count": 2,
   "id": "966c2b18-91ba-46b1-8997-9fd11c3019ab",
   "metadata": {},
   "outputs": [
    {
     "name": "stdout",
     "output_type": "stream",
     "text": [
      "Hola Mundo\n"
     ]
    }
   ],
   "source": [
    "variable = 'Hola Mundo'\n",
    "print(variable)"
   ]
  },
  {
   "cell_type": "markdown",
   "id": "1a6ae09a-2786-423b-a591-3419e99f320d",
   "metadata": {},
   "source": [
    "## Hola usuario"
   ]
  },
  {
   "cell_type": "markdown",
   "id": "100dced9-bf26-4c95-adc5-06035070db99",
   "metadata": {},
   "source": [
    "Escribir un programa que pregunte el nombre del usuario en la consola y después de que el usuario lo introduzca muestre por pantalla la cadena ¡Hola \\<nombre>!, donde \\<nombre> es el nombre que el usuario haya introducido"
   ]
  },
  {
   "cell_type": "code",
   "execution_count": 3,
   "id": "5eb634c7-eedc-49a7-9690-2cb099749a12",
   "metadata": {},
   "outputs": [
    {
     "name": "stdin",
     "output_type": "stream",
     "text": [
      "Username:  Pablo\n"
     ]
    },
    {
     "name": "stdout",
     "output_type": "stream",
     "text": [
      "¡Hola Pablo!\n"
     ]
    }
   ],
   "source": [
    "print(f'¡Hola {input('Username: ')}!')"
   ]
  },
  {
   "cell_type": "markdown",
   "id": "67f58583-2e58-4564-bb01-f7274e4813fc",
   "metadata": {},
   "source": [
    "## Operación aritmética"
   ]
  },
  {
   "cell_type": "markdown",
   "id": "f72bcc3f-572b-4bca-9ebe-dde35ea344c0",
   "metadata": {},
   "source": [
    "Escribir un programa que muestre por pantalla el resultado de la siguiente operación aritmética:(3+2/2*5)^2"
   ]
  },
  {
   "cell_type": "code",
   "execution_count": 5,
   "id": "bc271521-72b8-4f5e-884b-1b749d7d31c6",
   "metadata": {},
   "outputs": [
    {
     "name": "stdout",
     "output_type": "stream",
     "text": [
      "0.25\n"
     ]
    }
   ],
   "source": [
    "print(pow((3+2)/(2*5), 2))"
   ]
  },
  {
   "cell_type": "markdown",
   "id": "41e2130e-4006-4644-b730-c838dd6feb4c",
   "metadata": {},
   "source": [
    "## Pago"
   ]
  },
  {
   "cell_type": "markdown",
   "id": "4c88fa1d-48ae-4443-8c27-2c195af5f339",
   "metadata": {},
   "source": [
    "Escribir un programa que pregunte al usuario por el número de horas trabajadas y el coste por hora. Después debe mostrar por pantalla el pago que le corresponde"
   ]
  },
  {
   "cell_type": "code",
   "execution_count": 6,
   "id": "91bc3f1b-4ebb-47c1-90fe-819b9cb0d563",
   "metadata": {},
   "outputs": [
    {
     "name": "stdin",
     "output_type": "stream",
     "text": [
      "Horas trabajadas:  8\n",
      "Coste por hora:  10\n"
     ]
    },
    {
     "name": "stdout",
     "output_type": "stream",
     "text": [
      "80.0\n"
     ]
    }
   ],
   "source": [
    "print(float(input('Horas trabajadas: ')) * float(input('Coste por hora: ')))"
   ]
  },
  {
   "cell_type": "markdown",
   "id": "2753f491-8e51-445d-900d-82da42503141",
   "metadata": {},
   "source": [
    "## Suma 1 a n"
   ]
  },
  {
   "cell_type": "markdown",
   "id": "0c18f3cc-5a46-4e7f-aa83-52cd00e15730",
   "metadata": {},
   "source": [
    "Escribir un programa que lea un entero positivo, n, introducido por el usuario y después muestre en pantalla la suma de todos los enteros desde 1 hasta n. La suma de los n primeros enteros positivos puede ser calculada de la siguiente forma suma = n(n+1)/2"
   ]
  },
  {
   "cell_type": "code",
   "execution_count": 7,
   "id": "12839ac9-3a9c-4903-aa25-f22520b6be42",
   "metadata": {},
   "outputs": [
    {
     "name": "stdin",
     "output_type": "stream",
     "text": [
      "n:  10\n"
     ]
    },
    {
     "name": "stdout",
     "output_type": "stream",
     "text": [
      "55.0\n"
     ]
    }
   ],
   "source": [
    "n = int(input('n: '))\n",
    "print(n * (n+1) / 2)"
   ]
  },
  {
   "cell_type": "markdown",
   "id": "1c0874b5-e7f9-41b3-9410-40ad157251be",
   "metadata": {},
   "source": [
    "## IMC"
   ]
  },
  {
   "cell_type": "markdown",
   "id": "1de172da-97d0-4dc0-8b48-3c9ebf96f47b",
   "metadata": {},
   "source": [
    "Escribir un programa que pida al usuario su peso (en kg) y estatura (en metros), calcule el índice de masa corporal y lo almacene en una variable, y muestre por pantalla la frase: Tu índice de masa corporal es \\<imc> donde \\<imc> es el índice de masa corporal calculado redondeado con dos decimales"
   ]
  },
  {
   "cell_type": "code",
   "execution_count": 8,
   "id": "16ed0177-e30f-44a0-b7e7-ae9542a54a31",
   "metadata": {},
   "outputs": [
    {
     "name": "stdin",
     "output_type": "stream",
     "text": [
      "Peso (en kg):  100\n",
      "Estatura (en metros):  1.65\n"
     ]
    },
    {
     "name": "stdout",
     "output_type": "stream",
     "text": [
      "Tu índice de masa corporal es 36.73\n"
     ]
    }
   ],
   "source": [
    "peso = float(input('Peso (en kg): '))\n",
    "estatura = float(input('Estatura (en metros): '))\n",
    "imc = round(peso / pow(estatura, 2), 2)\n",
    "print(f'Tu índice de masa corporal es {imc}')"
   ]
  },
  {
   "cell_type": "markdown",
   "id": "c9df4204-0455-472e-a687-93e9f10f2381",
   "metadata": {},
   "source": [
    "## Cociente y Resto"
   ]
  },
  {
   "cell_type": "markdown",
   "id": "75cc0851-8bc1-43e3-9257-27f5fde0326d",
   "metadata": {},
   "source": [
    "Escribir un programa que pida al usuario dos números enteros y muestre por pantalla la \\<n> entre \\<m> da un cociente \\<c> y un resto \\<r> donde \\<n> y \\<m> son los números introducidos por el usuario, y \\<c> y \\<r> son el cociente y el resto de la división entera respectivamente"
   ]
  },
  {
   "cell_type": "code",
   "execution_count": 9,
   "id": "e3c15ae6-f03b-450b-8a0a-104565fe7d05",
   "metadata": {},
   "outputs": [
    {
     "name": "stdin",
     "output_type": "stream",
     "text": [
      "n:  10\n",
      "m:  5\n"
     ]
    },
    {
     "name": "stdout",
     "output_type": "stream",
     "text": [
      "Cociente: 2.0\n",
      "Resto: 0\n"
     ]
    }
   ],
   "source": [
    "n = int(input('n: '))\n",
    "m = int(input('m: '))\n",
    "print(f'Cociente: {n/m}')\n",
    "print(f'Resto: {n%m}')"
   ]
  },
  {
   "cell_type": "markdown",
   "id": "06bbcb97-0f43-4fbe-ba6f-0b9abc09c154",
   "metadata": {},
   "source": [
    "## Inversión"
   ]
  },
  {
   "cell_type": "markdown",
   "id": "0b77fb6a-9c9b-4694-8925-7fb46d0852f2",
   "metadata": {},
   "source": [
    "Escribir un programa que pregunte al usuario una cantidad a invertir, el interés anual y el número de años, y muestre por pantalla el capital obtenido en la inversión"
   ]
  },
  {
   "cell_type": "code",
   "execution_count": 10,
   "id": "e886ace0-9638-4d57-a2b9-c493e3eba5a2",
   "metadata": {},
   "outputs": [
    {
     "name": "stdin",
     "output_type": "stream",
     "text": [
      "Cantidad a Invertir:  1000\n",
      "Interés anual:  15\n",
      "Número de años:  2\n"
     ]
    },
    {
     "name": "stdout",
     "output_type": "stream",
     "text": [
      "256000.0\n"
     ]
    }
   ],
   "source": [
    "cant_invertir = float(input('Cantidad a Invertir: '))\n",
    "interes_anual = float(input('Interés anual: '))\n",
    "num_años = int(input('Número de años: '))\n",
    "print(cant_invertir * pow(1 + interes_anual, num_años))"
   ]
  },
  {
   "cell_type": "markdown",
   "id": "826e5686-ee4b-4bba-a4a7-be8ed706d0d3",
   "metadata": {},
   "source": [
    "## Juguetería"
   ]
  },
  {
   "cell_type": "markdown",
   "id": "7cf9f537-d6db-479c-b183-65f5cf8371d9",
   "metadata": {},
   "source": [
    "Una juguetería tiene mucho éxito en dos de sus productos: autos y muñecas. Suele hacer venta por correo y la empresa de logística les cobra por peso de cada paquete así que se debe calcular el peso de los autos y muñecas que saldrán en cada paquete a demanda. Cada auto pesa 112 g y cada muñeca 75 g. Escribir un programa que lea el número de autos y muñecas vendidos en el último pedido y calcule el peso total del paquete que será enviado"
   ]
  },
  {
   "cell_type": "code",
   "execution_count": 11,
   "id": "2c58a3a6-83c2-459f-b65c-6a6ad762bcfd",
   "metadata": {},
   "outputs": [
    {
     "name": "stdin",
     "output_type": "stream",
     "text": [
      "Cantidad de autos:  10\n",
      "Cantidad de muñecas:  5\n"
     ]
    },
    {
     "name": "stdout",
     "output_type": "stream",
     "text": [
      "1495\n"
     ]
    }
   ],
   "source": [
    "cant_autos = int(input('Cantidad de autos: '))\n",
    "cant_muñecas = int(input('Cantidad de muñecas: '))\n",
    "peso_auto = 112\n",
    "peso_muñeca = 75\n",
    "peso_total = cant_autos * peso_auto + cant_muñecas * peso_muñeca\n",
    "print(peso_total)"
   ]
  },
  {
   "cell_type": "markdown",
   "id": "686b8cfb-7f52-46b1-b0c7-80c59d84bd1b",
   "metadata": {},
   "source": [
    "## Caja de Ahorros"
   ]
  },
  {
   "cell_type": "markdown",
   "id": "eeffb363-3d72-4518-a672-2139b7e836da",
   "metadata": {},
   "source": [
    "Imagina que acabas de abrir una nueva caja de ahorros en USD que te ofrece el 4% de interés al año. Estos ahorros debido a intereses, que no se cobran hasta finales de año, se te añaden al balance final de tu caja de ahorros. Escribir un programa que comience leyendo la cantidad de dinero depositada en la cuenta de ahorros, introducida por el usuario. Después el programa debe calcular y mostrar por pantalla la cantidad de ahorros tras el primer, segundo y tercer años. Redondear cada cantidad a dos decimales"
   ]
  },
  {
   "cell_type": "code",
   "execution_count": 12,
   "id": "44bc2387-3d17-47b5-a1bd-536837b164c5",
   "metadata": {},
   "outputs": [
    {
     "name": "stdin",
     "output_type": "stream",
     "text": [
      "Cant. dinero depositada en caja de ahorro en U$S:  1000\n"
     ]
    },
    {
     "name": "stdout",
     "output_type": "stream",
     "text": [
      "Ahorro 1er año = 1040.0\n",
      "Ahorro 2do año = 1081.6\n",
      "Ahorro 3er año = 1124.86\n"
     ]
    }
   ],
   "source": [
    "dinero = float(input('Cant. dinero depositada en caja de ahorro en U$S: '))\n",
    "primer_año  = round(dinero + dinero * 4 / 100, 2)\n",
    "segundo_año = round(primer_año + primer_año * 4 / 100, 2)\n",
    "tercer_año  = round(segundo_año + segundo_año * 4 / 100, 2)\n",
    "print(f'Ahorro 1er año = {primer_año}')  \n",
    "print(f'Ahorro 2do año = {segundo_año}')  \n",
    "print(f'Ahorro 3er año = {tercer_año}')"
   ]
  },
  {
   "cell_type": "markdown",
   "id": "86fce922-de0e-4a18-b85f-4f7ff861a106",
   "metadata": {},
   "source": [
    "## Panadería"
   ]
  },
  {
   "cell_type": "markdown",
   "id": "d62522df-bfed-4c95-b0e5-626c62cf71b2",
   "metadata": {},
   "source": [
    "Una panadería vende bolsas de pan a ARS 2000 cada una. El pan que no es el día tiene un descuento del 60%. Escribir un programa que comience leyendo el número de bolsas vendidas que no son del día. Después el programa debe mostrar el precio\n",
    "habitual de una bolsa de pan, el descuento que se le hace por no ser fresca y el coste final total"
   ]
  },
  {
   "cell_type": "code",
   "execution_count": 13,
   "id": "beb73f03-3216-4a4c-bd52-76b3fbb03ff2",
   "metadata": {},
   "outputs": [
    {
     "name": "stdin",
     "output_type": "stream",
     "text": [
      "Cant de bolsas vendidas que no son del día:  1000\n"
     ]
    },
    {
     "name": "stdout",
     "output_type": "stream",
     "text": [
      "Precio bolsa de pan: $ 2000\n",
      "Descuento por no ser fresca: 60%\n",
      "Costo total: $ 1200000.0\n"
     ]
    }
   ],
   "source": [
    "bolsas_vendidad_no_dia = int(input('Cant de bolsas vendidas que no son del día: '))\n",
    "precio_bolsa_pan = 2000\n",
    "print(f'Precio bolsa de pan: $ {precio_bolsa_pan}')\n",
    "print('Descuento por no ser fresca: 60%')\n",
    "print(f'Costo total: $ {bolsas_vendidad_no_dia * precio_bolsa_pan * 60 / 100}')"
   ]
  }
 ],
 "metadata": {
  "kernelspec": {
   "display_name": "Python [conda env:base] *",
   "language": "python",
   "name": "conda-base-py"
  },
  "language_info": {
   "codemirror_mode": {
    "name": "ipython",
    "version": 3
   },
   "file_extension": ".py",
   "mimetype": "text/x-python",
   "name": "python",
   "nbconvert_exporter": "python",
   "pygments_lexer": "ipython3",
   "version": "3.12.7"
  }
 },
 "nbformat": 4,
 "nbformat_minor": 5
}
