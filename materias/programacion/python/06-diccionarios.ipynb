{
 "cells": [
  {
   "cell_type": "markdown",
   "id": "c1bb121b-d573-43ed-9694-8d797fda18e6",
   "metadata": {},
   "source": [
    "# Diccionarios"
   ]
  },
  {
   "cell_type": "markdown",
   "id": "a141e182-0b07-4808-a4c1-17cef94ae4f9",
   "metadata": {},
   "source": [
    "## Divisas"
   ]
  },
  {
   "cell_type": "markdown",
   "id": "59ae31c2-d348-4193-acdc-290491f17c87",
   "metadata": {},
   "source": [
    "Escribir un programa que guarde en una variable el diccionario {'Euro':'€', 'Dollar':'$','Yen':'¥'}, pregunte al usuario por una divisa y muestre su símbolo o un mensaje de aviso si la divisa no está en el diccionario"
   ]
  },
  {
   "cell_type": "code",
   "execution_count": 3,
   "id": "b0a01290-f411-4618-a2e6-bef960e91f8b",
   "metadata": {},
   "outputs": [
    {
     "name": "stdin",
     "output_type": "stream",
     "text": [
      "Divisa:  Dollar\n"
     ]
    },
    {
     "name": "stdout",
     "output_type": "stream",
     "text": [
      "$\n"
     ]
    }
   ],
   "source": [
    "divisas = {'Euro':'€', 'Dollar':'$', 'Yen':'¥'}\n",
    "divisa = input('Divisa: ')\n",
    "simbolo = divisas.get(divisa) \n",
    "print('Divisa no esta en el diccionario' if simbolo is None else simbolo)"
   ]
  },
  {
   "cell_type": "markdown",
   "id": "af878a32-2271-4177-ab05-2b41291ec0a7",
   "metadata": {},
   "source": [
    "## Datos personales"
   ]
  },
  {
   "cell_type": "markdown",
   "id": "cf9549f6-9423-4f09-8254-19dbaea6a315",
   "metadata": {},
   "source": [
    "Escribir un programa que pregunte al usuario su nombre, edad, dirección y teléfono y lo guarde en un diccionario. Después debe mostrar por pantalla el mensaje \\<nombre> tiene \\<edad> años, vive en \\<dirección> y su número de teléfono es \\<teléfono>"
   ]
  },
  {
   "cell_type": "code",
   "execution_count": 4,
   "id": "606468e3-8b1a-4aa1-aeb3-8d49aa33453c",
   "metadata": {},
   "outputs": [
    {
     "name": "stdin",
     "output_type": "stream",
     "text": [
      "Nombre:  Pablo\n",
      "Edad:  35\n",
      "Dirección:  Capilla del Señor\n",
      "Teléfono:  11111\n"
     ]
    },
    {
     "name": "stdout",
     "output_type": "stream",
     "text": [
      "Pablo tiene 35 años, vive en Capilla del Señor y su número de teléfono es 11111\n"
     ]
    }
   ],
   "source": [
    "nombre = input('Nombre: ')\n",
    "edad = int(input('Edad: '))\n",
    "direccion = input('Dirección: ')\n",
    "telefono = input('Teléfono: ')\n",
    "\n",
    "diccionario = {}\n",
    "diccionario['nombre'] = nombre\n",
    "diccionario['edad'] = edad\n",
    "diccionario['direccion'] = direccion\n",
    "diccionario['telefono'] = telefono\n",
    "\n",
    "print(f'{diccionario['nombre']} tiene {diccionario['edad']} años, vive en {diccionario['direccion']} y su número de teléfono es {diccionario['telefono']}')"
   ]
  },
  {
   "cell_type": "markdown",
   "id": "d0eff71c-e1d3-4999-bad9-a0ad52985305",
   "metadata": {},
   "source": [
    "## Precio frutas"
   ]
  },
  {
   "cell_type": "markdown",
   "id": "b9ab2753-490c-44b8-bdca-1b8cce4d71b3",
   "metadata": {},
   "source": [
    "Escribir un programa que guarde en un diccionario los precios de las frutas de la tabla, pregunte al usuario por una fruta, un número de kilos y muestre por pantalla el precio de ese número de kilos de fruta. Si la fruta no está en el diccionario debe mostrar un mensaje informando de ello\n",
    "\n",
    "| Fruta   | Precio |\n",
    "| --      | --     |\n",
    "| Plátano | 1.35   |\n",
    "| Manzana | 0.80   |\n",
    "| Pera    | 0.85   |\n",
    "| Naranja | 0.70   |"
   ]
  },
  {
   "cell_type": "code",
   "execution_count": 5,
   "id": "c4ca31fa-eae8-4e4c-ba7a-07ea0abac457",
   "metadata": {},
   "outputs": [
    {
     "name": "stdin",
     "output_type": "stream",
     "text": [
      "Fruta:  Pera\n",
      "Kilos:  2\n"
     ]
    },
    {
     "name": "stdout",
     "output_type": "stream",
     "text": [
      "1.7\n"
     ]
    }
   ],
   "source": [
    "frutas = {'Platano': 1.35, 'Manzana': 0.80, 'Pera': 0.85, 'Naranja': 0.70}\n",
    "fruta = input('Fruta: ')\n",
    "kilos = int(input('Kilos: '))\n",
    "print('No existe fruta' if fruta not in frutas else f'{frutas.get(fruta) * kilos}')"
   ]
  },
  {
   "cell_type": "markdown",
   "id": "dc8f3ac5-04d1-42a1-a32a-ef73c70a0b6a",
   "metadata": {},
   "source": [
    "## Fecha"
   ]
  },
  {
   "cell_type": "markdown",
   "id": "5f3aa2e3-bd49-424f-a7cf-6bf4326f6e2c",
   "metadata": {},
   "source": [
    "Escribir un programa que pregunte una fecha en formato dd/mm/aaaa y muestre por pantalla la misma fecha en formato dd de \\<mes> de aaaa donde \\<mes> es el nombre del mes"
   ]
  },
  {
   "cell_type": "code",
   "execution_count": 6,
   "id": "60694d68-9900-4b3f-b223-729ce7ddb31a",
   "metadata": {},
   "outputs": [
    {
     "name": "stdin",
     "output_type": "stream",
     "text": [
      "Fecha (dd/mm/aaaa):  09/11/1975\n"
     ]
    },
    {
     "name": "stdout",
     "output_type": "stream",
     "text": [
      "09 de Noviembre de 1975\n"
     ]
    }
   ],
   "source": [
    "meses = {'01': 'Enero', '02': 'Febrero', '03': 'Marzo', '04': 'Abril', '05': 'Mayo', '06': 'Junio', \n",
    "         '07': 'Julio', '08': 'Agosto', '09': 'Setiembre', '10': 'Octubre', '11': 'Noviembre', '12': 'Diciembre'}\n",
    "dia, mes, anio = input('Fecha (dd/mm/aaaa): ').split('/')\n",
    "print(f'{dia} de {meses.get(mes)} de {anio}')"
   ]
  },
  {
   "cell_type": "markdown",
   "id": "454a136b-e09e-4224-821d-327188b53b21",
   "metadata": {},
   "source": [
    "## Créditos asignaturas"
   ]
  },
  {
   "cell_type": "markdown",
   "id": "fffb82b1-5fa7-453e-8203-8fc087cad3e5",
   "metadata": {},
   "source": [
    "Escribir un programa que almacene el diccionario con los créditos de las asignaturas de un curso {'Matemáticas': 6, 'Física': 4, 'Química': 5} y después muestre por pantalla los créditos de cada asignatura en el formato \\<asignatura> tiene <créditos> créditos, donde \\<asignatura> es cada una de las asignaturas del curso, y <créditos> son sus créditos. Al final debe mostrar también el número total de créditos del curso"
   ]
  },
  {
   "cell_type": "code",
   "execution_count": 7,
   "id": "5145c09a-1930-41a3-a25a-084cdd9efa37",
   "metadata": {},
   "outputs": [
    {
     "name": "stdout",
     "output_type": "stream",
     "text": [
      "Matemáticas tiene 6 créditos\n",
      "Física tiene 4 créditos\n",
      "Química tiene 5 créditos\n",
      "Total de créditos del curso: 15\n"
     ]
    }
   ],
   "source": [
    "creditos = {'Matemáticas': 6, 'Física': 4, 'Química': 5}\n",
    "total_creditos = 0\n",
    "for asignatura, credito in creditos.items():\n",
    "    print(f'{asignatura} tiene {credito} créditos')\n",
    "    total_creditos += credito\n",
    "print(f'Total de créditos del curso: {total_creditos}')"
   ]
  },
  {
   "cell_type": "markdown",
   "id": "c229acca-e160-4378-aa1d-591bf950d639",
   "metadata": {},
   "source": [
    "## Personas"
   ]
  },
  {
   "cell_type": "markdown",
   "id": "e6e88d2b-379c-4418-a83d-9a148c8fa830",
   "metadata": {},
   "source": [
    "Escribir un programa que cree un diccionario vacío y lo vaya llenado con información sobre una persona (por ejemplo, nombre, edad, sexo, teléfono, correo electrónico, etc.) que se le pida al usuario. Cada vez que se añada un nuevo dato debe imprimirse el contenido del diccionario"
   ]
  },
  {
   "cell_type": "code",
   "execution_count": 8,
   "id": "feb64783-717b-4cb4-a61e-bf2ab1af748b",
   "metadata": {},
   "outputs": [
    {
     "name": "stdin",
     "output_type": "stream",
     "text": [
      "Nombre:  Pablo\n"
     ]
    },
    {
     "name": "stdout",
     "output_type": "stream",
     "text": [
      "{'nombre': 'Pablo'}\n"
     ]
    },
    {
     "name": "stdin",
     "output_type": "stream",
     "text": [
      "Edad:  35\n"
     ]
    },
    {
     "name": "stdout",
     "output_type": "stream",
     "text": [
      "{'nombre': 'Pablo', 'edad': 35}\n"
     ]
    },
    {
     "name": "stdin",
     "output_type": "stream",
     "text": [
      "Sexo:  Masculino\n"
     ]
    },
    {
     "name": "stdout",
     "output_type": "stream",
     "text": [
      "{'nombre': 'Pablo', 'edad': 35, 'sexo': 'Masculino'}\n"
     ]
    }
   ],
   "source": [
    "personas = {}\n",
    "personas['nombre'] = input('Nombre: ')\n",
    "print(personas)\n",
    "personas['edad'] = int(input('Edad: '))\n",
    "print(personas)\n",
    "personas['sexo'] = input('Sexo: ')\n",
    "print(personas)"
   ]
  },
  {
   "cell_type": "markdown",
   "id": "64723759-ac7d-4661-ac64-f36cbbc22eff",
   "metadata": {},
   "source": [
    "## Carrito"
   ]
  },
  {
   "cell_type": "markdown",
   "id": "627a423f-01a8-4fe3-82d9-120df4c3bc6b",
   "metadata": {},
   "source": [
    "Escribir un programa que cree un diccionario simulando un carrito de compras. El programa debe preguntar el artículo y su precio y añadir el par al diccionario, hasta que el usuario decida terminar. Después se debe mostrar por pantalla la lista de la compra y el costo total, con el siguiente formato\n",
    "\n",
    "* Lista de la compra\n",
    "  * Artículo 1 Precio\n",
    "  * Artículo 2 Precio\n",
    "  * Artículo 3 Precio\n",
    "  * ...        ...\n",
    "  * Total Coste"
   ]
  },
  {
   "cell_type": "code",
   "execution_count": 9,
   "id": "e90adc95-0a52-44cf-9355-623e804561a6",
   "metadata": {},
   "outputs": [
    {
     "name": "stdin",
     "output_type": "stream",
     "text": [
      "Artículo:  mate\n",
      "Precio $:  10000\n",
      "Continua (S/N):  S\n",
      "Artículo:  termo\n",
      "Precio $:  100000\n",
      "Continua (S/N):  N\n"
     ]
    },
    {
     "name": "stdout",
     "output_type": "stream",
     "text": [
      "Lista de la compra\n",
      "mate 10000.0\n",
      "termo 100000.0\n",
      "Total 110000.0\n"
     ]
    }
   ],
   "source": [
    "carrito = {}\n",
    "art = input('Artículo: ')\n",
    "carrito[art] = float(input('Precio $: '))\n",
    "opc = input('Continua (S/N): ')\n",
    "while opc == 'S':\n",
    "    art = input('Artículo: ')\n",
    "    carrito[art] = float(input('Precio $: '))\n",
    "    opc = input('Continua (S/N): ')\n",
    "print('Lista de la compra')\n",
    "total = 0\n",
    "for art, precio in carrito.items():\n",
    "    print(f'{art} {precio}')\n",
    "    total += precio\n",
    "print(f'Total {total}')"
   ]
  },
  {
   "cell_type": "markdown",
   "id": "adf77c29-191e-4183-861a-ad3f6e0d6d8c",
   "metadata": {},
   "source": [
    "## Traductor"
   ]
  },
  {
   "cell_type": "markdown",
   "id": "7796ff82-aad5-4444-a405-3a45e982f59d",
   "metadata": {},
   "source": [
    "Escribir un programa que cree un diccionario de traducción español-inglés. El usuario introducirá las palabras en español e inglés separadas por dos puntos, y cada par \\<palabra>:<traducción> separados por comas. El programa debe crear un diccionario con las palabras y sus traducciones. Después pedirá una frase en español y utilizará el diccionario para traducirla palabra a palabra. Si una palabra no está en el diccionario debe dejarla sin traducir"
   ]
  },
  {
   "cell_type": "code",
   "execution_count": 11,
   "id": "6627870b-98cc-4337-a942-3b88f5fa1962",
   "metadata": {},
   "outputs": [
    {
     "name": "stdin",
     "output_type": "stream",
     "text": [
      "Palabras (español:ingles,...):  casa:house,La:The,linda:pretty,es:is\n",
      "Frase:  La casa es linda\n"
     ]
    },
    {
     "name": "stdout",
     "output_type": "stream",
     "text": [
      "The house is pretty \n"
     ]
    }
   ],
   "source": [
    "diccionario = {}\n",
    "palabras_usuario = input('Palabras (español:ingles,...): ')\n",
    "palabras = palabras_usuario.split(',')\n",
    "for i in range(0, len(palabras)):\n",
    "    traduccion = palabras[i].split(':')\n",
    "    diccionario[traduccion[0]] = traduccion[1]\n",
    "frase = input('Frase: ')\n",
    "frase_parse = frase.split()\n",
    "frase_traducida = ''\n",
    "for i in range(0, len(frase_parse)):\n",
    "    if frase_parse[i] not in diccionario:\n",
    "        frase_traducida += f'{frase_parse[i]} '\n",
    "    else:\n",
    "        frase_traducida += f'{diccionario.get(frase_parse[i])} '\n",
    "print(frase_traducida)"
   ]
  },
  {
   "cell_type": "markdown",
   "id": "4006e672-79ba-41b1-a9de-5c1552aabb7b",
   "metadata": {},
   "source": [
    "## Clientes CRUD"
   ]
  },
  {
   "cell_type": "markdown",
   "id": "3ab4ee96-3f96-4824-aebc-c6c0a6666e26",
   "metadata": {},
   "source": [
    "Escribir un programa que permita gestionar la base de datos de clientes de una empresa. Los clientes se guardarán en un diccionario en el que la clave de cada cliente será su DNI, y el valor será otro diccionario con los datos del cliente (nombre, dirección, teléfono, correo electrónico, preferente), donde preferente tendrá el valor True si se trata de un cliente preferente. El programa debe preguntar al usuario por una opción del siguiente menú: (1) Añadir cliente, (2) Eliminar cliente, (3) Mostrar cliente, (4) Listar todos los clientes, (5) Listar clientes preferentes, (6) Terminar. En función de la opción elegida el programa tendrá que hacer lo siguiente:\n",
    "\n",
    "1. Preguntar los datos del cliente, crear un diccionario con los datos y añadirlo a la base de datos.\n",
    "2. Preguntar por el DNI del cliente y eliminar sus datos de la base de datos.\n",
    "3. Preguntar por el DNI del cliente y mostrar sus datos.\n",
    "4. Mostrar lista de todos los clientes de la base datos con su DNI y nombre.\n",
    "5. Mostrar la lista de clientes preferentes de la base de datos con su DNI y nombre.\n",
    "6. Terminar el programa"
   ]
  },
  {
   "cell_type": "code",
   "execution_count": 14,
   "id": "1ebf5c30-9f29-43a6-836c-9a9188381627",
   "metadata": {},
   "outputs": [
    {
     "name": "stdout",
     "output_type": "stream",
     "text": [
      "\n",
      "--------MENU---------\n",
      "1. Agregar cliente\n",
      "2. Eliminar cliente\n",
      "3. Consultar cliente\n",
      "4. Listado clientes\n",
      "5. Clientes preferentes\n",
      "6. Salir\n",
      "\n"
     ]
    },
    {
     "name": "stdin",
     "output_type": "stream",
     "text": [
      "?-  4\n"
     ]
    },
    {
     "name": "stdout",
     "output_type": "stream",
     "text": [
      "123, Pablo, abc, 123, , True\n",
      "456, Ana, abc, 123, , False\n",
      "789, Maria, abc, 123, , True\n"
     ]
    },
    {
     "name": "stdin",
     "output_type": "stream",
     "text": [
      " \n"
     ]
    },
    {
     "name": "stdout",
     "output_type": "stream",
     "text": [
      "\n",
      "--------MENU---------\n",
      "1. Agregar cliente\n",
      "2. Eliminar cliente\n",
      "3. Consultar cliente\n",
      "4. Listado clientes\n",
      "5. Clientes preferentes\n",
      "6. Salir\n",
      "\n"
     ]
    },
    {
     "name": "stdin",
     "output_type": "stream",
     "text": [
      "?-  6\n"
     ]
    }
   ],
   "source": [
    "clientes = {'123': {'nom': 'Pablo', 'dir': 'abc', 'tel': '123', 'mail': '', 'pref': True}, \n",
    "            '456': {'nom': 'Ana', 'dir': 'abc', 'tel': '123', 'mail': '', 'pref': False}, \n",
    "            '789': {'nom': 'Maria', 'dir': 'abc', 'tel': '123', 'mail': '', 'pref': True}}\n",
    "\n",
    "def menu():\n",
    "    opc = 0\n",
    "    while (opc != 6):\n",
    "        if opc == 1:\n",
    "            agregar()\n",
    "        if opc == 2:\n",
    "            eliminar()\n",
    "        if opc == 3:\n",
    "            consultar()\n",
    "        if opc == 4:\n",
    "            listar()\n",
    "        if opc == 5:\n",
    "            listar_pref()\n",
    "        if opc != 0:\n",
    "            input()\n",
    "        print()\n",
    "        print('--------MENU---------')\n",
    "        print('1. Agregar cliente')\n",
    "        print('2. Eliminar cliente')\n",
    "        print('3. Consultar cliente')\n",
    "        print('4. Listado clientes')\n",
    "        print('5. Clientes preferentes')\n",
    "        print('6. Salir')\n",
    "        print()\n",
    "        opc = int(input('?- '))\n",
    "\n",
    "def agregar():\n",
    "    dni = input('DNI: ')\n",
    "    datos = {}\n",
    "    datos['nom'] = input('Nombre: ')\n",
    "    datos['dir'] = input('Dirección: ')\n",
    "    datos['tel'] = input('Tel. :')\n",
    "    datos['mail'] = input('Email: ')\n",
    "    datos['pref'] = True if input('Preferente (S/N): ') == 'S' else False\n",
    "    clientes[dni] = datos\n",
    "\n",
    "def eliminar():\n",
    "    dni = input('DNI: ')\n",
    "    if dni in clientes.keys():\n",
    "        clientes.pop(dni)\n",
    "    else:\n",
    "        print('Cliente no encontrado...')\n",
    "\n",
    "def consultar():\n",
    "    dni = input('DNI: ')\n",
    "    if dni in clientes.keys():\n",
    "        print(datos(dni, clientes[dni]))\n",
    "    else:\n",
    "        print('Cliente no encontrado...')\n",
    "\n",
    "def datos(dni, cliente):\n",
    "    return f\"{dni}, {cliente['nom']}, {cliente['dir']}, {cliente['tel']}, {cliente['mail']}, {cliente['pref']}\"\n",
    "\n",
    "def listar_pref():\n",
    "    for elem in clientes.items():\n",
    "        if elem[1]['pref']:\n",
    "            print(datos(elem[0], elem[1]))\n",
    "\n",
    "def listar():\n",
    "    for elem in clientes.items():\n",
    "        print(datos(elem[0], elem[1]))\n",
    "                \n",
    "menu()"
   ]
  },
  {
   "cell_type": "markdown",
   "id": "35465a0f-2f03-47ce-86e2-f569bc1c115b",
   "metadata": {},
   "source": [
    "## Clientes organizar"
   ]
  },
  {
   "cell_type": "markdown",
   "id": "6ab2fb59-e33e-469a-8279-8521439c88cf",
   "metadata": {},
   "source": [
    "El directorio de los clientes de una empresa está organizado en una cadena de texto como la de más abajo, donde cada línea contiene la información del nombre, email, teléfono, DNI, y el descuento que se le aplica. Las líneas se separan con el carácter de cambio de línea \\n y la primera línea contiene los nombres de los campos con la información contenida en el directorio.\n",
    "\"dni;nombre;email;teléfono;descuento\\n01234567L;Luis González;luisgonzalez@mail.com;656343576;12.5\\n71476342J;Macarena Ramírez;macarena@mail.com;692839321;8\\n63823376M;Juan José Martínez;juanjo@mail.com;664888233;5.2\\n98376547F;Carmen Sánchez;carmen@mail.com;667677855;15.7\"\n",
    "\n",
    "Escribir un programa que genere un diccionario con la información del directorio, donde cada elemento corresponda a un cliente y tenga por clave su DNI y por valor otro diccionario con el resto de la información del cliente. Los diccionarios con la información de cada cliente tendrán como claves los nombres de los campos y como valores la información de cada cliente correspondientes a los campos. Es decir, un diccionario como el siguiente\n",
    "\n",
    "{'01234567L': {'nombre': 'Luis González', 'email': 'luisgonzalez@mail.com', 'teléfono': '656343576', 'descuento': 12.5}, '71476342J': {'nombre': 'Macarena Ramírez', 'email': 'macarena@mail.com', 'teléfono': '692839321', 'descuento': 8.0}, '63823376M': {'nombre': 'Juan José Martínez', 'email': 'juanjo@mail.com', 'teléfono': '664888233', 'descuento': 5.2}, '98376547F': {'nombre': 'Carmen Sánchez', 'email': 'carmen@mail.com', 'teléfono': '667677855', 'descuento': 15.7}}"
   ]
  },
  {
   "cell_type": "code",
   "execution_count": 15,
   "id": "b48b7829-d2ad-4432-89e6-396b5efc0f7b",
   "metadata": {},
   "outputs": [
    {
     "name": "stdout",
     "output_type": "stream",
     "text": [
      "{'01234567L': {'nombre': 'Luis González', 'email': 'luisgonzalez@mail.com', 'telefono': '656343576', 'descuento': 12.5}, '71476342J': {'nombre': 'Macarena Ramírez', 'email': 'macarena@mail.com', 'telefono': '692839321', 'descuento': 8.0}, '63823376M': {'nombre': 'Juan José Martínez', 'email': 'juanjo@mail.com', 'telefono': '664888233', 'descuento': 5.2}, '98376547F': {'nombre': 'Carmen Sánchez', 'email': 'carmen@mail.com', 'telefono': '667677855', 'descuento': 15.7}}\n"
     ]
    }
   ],
   "source": [
    "directorio_clientes = \"dni;nombre;email;teléfono;descuento\\n\" \\\n",
    "\"01234567L;Luis González;luisgonzalez@mail.com;656343576;12.5\\n\" \\\n",
    "\"71476342J;Macarena Ramírez;macarena@mail.com;692839321;8\\n\" \\\n",
    "\"63823376M;Juan José Martínez;juanjo@mail.com;664888233;5.2\\n\" \\\n",
    "\"98376547F;Carmen Sánchez;carmen@mail.com;667677855;15.7\"\n",
    "\n",
    "diccionario_clientes = {}\n",
    "\n",
    "clientes = directorio_clientes.split('\\n')\n",
    "for i in range(1, len(clientes)):\n",
    "    datos = clientes[i].split(';')\n",
    "    diccionario_clientes[datos[0]] = {'nombre': datos[1], 'email': datos[2], 'telefono': datos[3], 'descuento': float(datos[4])}\n",
    "\n",
    "print(diccionario_clientes)"
   ]
  }
 ],
 "metadata": {
  "kernelspec": {
   "display_name": "Python [conda env:base] *",
   "language": "python",
   "name": "conda-base-py"
  },
  "language_info": {
   "codemirror_mode": {
    "name": "ipython",
    "version": 3
   },
   "file_extension": ".py",
   "mimetype": "text/x-python",
   "name": "python",
   "nbconvert_exporter": "python",
   "pygments_lexer": "ipython3",
   "version": "3.12.7"
  }
 },
 "nbformat": 4,
 "nbformat_minor": 5
}
