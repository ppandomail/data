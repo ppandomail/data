{
 "cells": [
  {
   "cell_type": "markdown",
   "id": "5b8c3ba8-0f18-4aa4-b2b5-d08bcaafab32",
   "metadata": {},
   "source": [
    "# Listas / Tuplas"
   ]
  },
  {
   "cell_type": "markdown",
   "id": "d4ba6e85-d4db-44db-aae4-984dba2274b8",
   "metadata": {},
   "source": [
    "## Mostrar lista"
   ]
  },
  {
   "cell_type": "markdown",
   "id": "24731727-f0c6-43be-8ae8-f92301131422",
   "metadata": {},
   "source": [
    "Escribir un programa que almacene las asignaturas de un curso (por ejemplo Matemática, Física, Química, Historia y Lengua) en una lista y la muestre por pantalla"
   ]
  },
  {
   "cell_type": "code",
   "execution_count": 2,
   "id": "2d577098-9b22-409c-8e10-09dd733aed49",
   "metadata": {},
   "outputs": [
    {
     "name": "stdout",
     "output_type": "stream",
     "text": [
      "['Matemática', 'Física', 'Química', 'Historia', 'Lengua']\n"
     ]
    }
   ],
   "source": [
    "lista = ['Matemática', 'Física', 'Química', 'Historia', 'Lengua']\n",
    "print(lista)"
   ]
  },
  {
   "cell_type": "markdown",
   "id": "d78bd224-9b33-42e7-9eef-6c2af692e462",
   "metadata": {},
   "source": [
    "## Notas"
   ]
  },
  {
   "cell_type": "markdown",
   "id": "21b21c46-5ec5-4e40-b319-4b1e51eeb7be",
   "metadata": {},
   "source": [
    "Escribir un programa que almacene las asignaturas de un curso (por ejemplo Matemáticas, Física, Química, Historia y Lengua) en una lista, pregunte al usuario la nota que ha sacado en cada asignatura, y después las muestre por pantalla con el mensaje En \\<asignatura> has sacado \\<nota> donde \\<asignatura> es cada una de las asignaturas de la lista y \\<nota> cada una de las correspondientes notas introducidas por el usuario"
   ]
  },
  {
   "cell_type": "code",
   "execution_count": 3,
   "id": "af11dd61-f637-4080-95ae-2dee08c59520",
   "metadata": {},
   "outputs": [
    {
     "name": "stdin",
     "output_type": "stream",
     "text": [
      "Nota para Matemática :  5\n",
      "Nota para Física :  6\n",
      "Nota para Química :  7\n",
      "Nota para Historia :  8\n",
      "Nota para Lengua :  9\n"
     ]
    },
    {
     "name": "stdout",
     "output_type": "stream",
     "text": [
      "En Matemática has sacado 5\n",
      "En Física has sacado 6\n",
      "En Química has sacado 7\n",
      "En Historia has sacado 8\n",
      "En Lengua has sacado 9\n"
     ]
    }
   ],
   "source": [
    "materias = ['Matemática', 'Física', 'Química', 'Historia', 'Lengua']\n",
    "notas = []\n",
    "\n",
    "for i in range(0, len(materias)):\n",
    "    notas.append(int(input(f'Nota para {materias[i]} : ')))\n",
    "\n",
    "for i in range(0, len(materias)):\n",
    "    print(f'En {materias[i]} has sacado {notas[i]}')"
   ]
  },
  {
   "cell_type": "markdown",
   "id": "c0ab42e4-7797-4f2c-90be-959848397fd9",
   "metadata": {},
   "source": [
    "## Loteria"
   ]
  },
  {
   "cell_type": "markdown",
   "id": "1ff43108-872b-4caa-8be2-4f2c05a1b530",
   "metadata": {},
   "source": [
    "Escribir un programa que pregunte al usuario los números ganadores de la lotería y los almacene en una lista y los muestre por pantalla ordenados de menor a mayor"
   ]
  },
  {
   "cell_type": "code",
   "execution_count": 4,
   "id": "92cd0363-5e52-43c4-ab2e-35eb51b73237",
   "metadata": {},
   "outputs": [
    {
     "name": "stdin",
     "output_type": "stream",
     "text": [
      "Número ganador de la lotería:  17\n",
      "Número ganador de la lotería:  5\n",
      "Número ganador de la lotería:  9\n",
      "Número ganador de la lotería:  25\n",
      "Número ganador de la lotería:  17\n",
      "Número ganador de la lotería:  -1\n"
     ]
    },
    {
     "name": "stdout",
     "output_type": "stream",
     "text": [
      "[5, 9, 17, 17, 25]\n"
     ]
    }
   ],
   "source": [
    "numero = int(input('Número ganador de la lotería: '))\n",
    "numeros = []\n",
    "while numero != -1:\n",
    "    numeros.append(numero)\n",
    "    numero = int(input('Número ganador de la lotería: '))\n",
    "numeros.sort()\n",
    "print(numeros)"
   ]
  },
  {
   "cell_type": "markdown",
   "id": "d08daa14-55c6-41c1-977d-0ea160058297",
   "metadata": {},
   "source": [
    "## Inverso lista"
   ]
  },
  {
   "cell_type": "markdown",
   "id": "a6d2e660-cf84-4aeb-9b8e-fc5633cd2283",
   "metadata": {},
   "source": [
    "Escribir un programa que almacene en una lista los números del 1 al 10 y los muestre por pantalla en orden inverso separados por comas"
   ]
  },
  {
   "cell_type": "code",
   "execution_count": 5,
   "id": "f918357a-1eec-41f1-821d-e53f97519785",
   "metadata": {},
   "outputs": [
    {
     "name": "stdout",
     "output_type": "stream",
     "text": [
      "[10, 9, 8, 7, 6, 5, 4, 3, 2, 1]\n"
     ]
    }
   ],
   "source": [
    "lista = [1, 2, 3, 4, 5, 6, 7, 8, 9, 10]\n",
    "lista.reverse()\n",
    "print(lista)"
   ]
  },
  {
   "cell_type": "markdown",
   "id": "47a5de2c-50ce-42a2-b28c-13f4c955032a",
   "metadata": {},
   "source": [
    "## Materias reprobadas"
   ]
  },
  {
   "cell_type": "markdown",
   "id": "fbbf0f71-a076-4a80-a66d-4a1bdbb1b756",
   "metadata": {},
   "source": [
    "Escribir un programa que almacene las asignaturas de un curso (por ejemplo, Matemáticas, Física, Química, Historia y Lengua) en una lista, pregunte al usuario la nota que ha sacado en cada asignatura y elimine de la lista las asignaturas aprobadas. Al final el programa debe mostrar por pantalla las asignaturas que el usuario tiene que repetir"
   ]
  },
  {
   "cell_type": "code",
   "execution_count": 6,
   "id": "69b5d75f-b09f-433f-9e14-eadc63cc8d45",
   "metadata": {},
   "outputs": [
    {
     "name": "stdin",
     "output_type": "stream",
     "text": [
      "Nota para Matemática :  2\n",
      "Nota para Física :  2\n",
      "Nota para Química :  4\n",
      "Nota para Historia :  8\n",
      "Nota para Lengua :  7\n"
     ]
    },
    {
     "name": "stdout",
     "output_type": "stream",
     "text": [
      "['Matemática', 'Física']\n"
     ]
    }
   ],
   "source": [
    "materias = ['Matemática', 'Física', 'Química', 'Historia', 'Lengua']\n",
    "notas = []\n",
    "materias2 = []\n",
    "\n",
    "for i in range(0, len(materias)):\n",
    "    notas.append(int(input(f'Nota para {materias[i]} : ')))\n",
    "    materias2.append(materias[i])\n",
    "\n",
    "\n",
    "for i in range(0, len(notas)):\n",
    "    if notas[i] >= 4:\n",
    "        materias.remove(materias2[i])\n",
    "\n",
    "print(materias)"
   ]
  },
  {
   "cell_type": "markdown",
   "id": "e9384684-d672-41fe-ae62-c1c84f2c0bd2",
   "metadata": {},
   "source": [
    "## Palindromo"
   ]
  },
  {
   "cell_type": "markdown",
   "id": "60c97118-478b-45ec-848e-83ba3efb72d6",
   "metadata": {},
   "source": [
    "Escribir un programa que pida al usuario una palabra y muestre por pantalla si es un palíndromo"
   ]
  },
  {
   "cell_type": "code",
   "execution_count": 7,
   "id": "fe324a01-c1d8-49de-ba95-5ef88c57ce68",
   "metadata": {},
   "outputs": [
    {
     "name": "stdin",
     "output_type": "stream",
     "text": [
      "Palabras:  neuquen\n"
     ]
    },
    {
     "name": "stdout",
     "output_type": "stream",
     "text": [
      "Palíndromo\n"
     ]
    }
   ],
   "source": [
    "palabra = input('Palabras: ')\n",
    "lista1 = []\n",
    "lista2 = []\n",
    "for i in range(0, len(palabra)):\n",
    "    lista1.append(palabra[i])\n",
    "    lista2.append(palabra[i])\n",
    "lista2.reverse()\n",
    "print('Palíndromo' if lista1.__eq__(lista2) else 'NO Palíndromo')"
   ]
  },
  {
   "cell_type": "markdown",
   "id": "1cd9d7b7-3f0d-404b-9aef-2eadeb4be84c",
   "metadata": {},
   "source": [
    "## Veces vocal"
   ]
  },
  {
   "cell_type": "markdown",
   "id": "119754c2-8e17-4d9c-8b85-f143a5298145",
   "metadata": {},
   "source": [
    "Escribir un programa que pida al usuario una palabra y muestre por pantalla el número de veces que contiene cada vocal"
   ]
  },
  {
   "cell_type": "code",
   "execution_count": 8,
   "id": "6115452b-9954-4b70-8bc5-a0daebef7047",
   "metadata": {},
   "outputs": [
    {
     "name": "stdin",
     "output_type": "stream",
     "text": [
      "Palabra:  portugues\n"
     ]
    },
    {
     "name": "stdout",
     "output_type": "stream",
     "text": [
      "Cant. de a = 0\n",
      "Cant. de e = 1\n",
      "Cant. de i = 0\n",
      "Cant. de o = 1\n",
      "Cant. de u = 2\n"
     ]
    }
   ],
   "source": [
    "palabra = input('Palabra: ')\n",
    "cant_a, cant_e, cant_i, cant_o, cant_u = 0, 0, 0, 0, 0\n",
    "for i in range(0, len(palabra)):\n",
    "    if palabra[i] == 'a':\n",
    "        cant_a += 1\n",
    "    elif palabra[i] == 'e':\n",
    "        cant_e += 1\n",
    "    elif palabra[i] == 'i':\n",
    "        cant_i += 1\n",
    "    elif palabra[i] == 'o':\n",
    "        cant_o += 1\n",
    "    elif palabra[i] == 'u':\n",
    "        cant_u += 1\n",
    "print(f'Cant. de a = {cant_a}')\n",
    "print(f'Cant. de e = {cant_e}')\n",
    "print(f'Cant. de i = {cant_i}')\n",
    "print(f'Cant. de o = {cant_o}')\n",
    "print(f'Cant. de u = {cant_u}')"
   ]
  },
  {
   "cell_type": "markdown",
   "id": "c7a7d646-bebb-4bc8-80ca-819a15679499",
   "metadata": {},
   "source": [
    "## Menor / Mayor"
   ]
  },
  {
   "cell_type": "markdown",
   "id": "2bcf1dfc-f839-480f-b74f-0c7245c1d74d",
   "metadata": {},
   "source": [
    "Escribir un programa que almacene en una lista los siguientes precios, 50, 75, 46, 22, 80, 65, 8, y muestre por pantalla el menor y el mayor de los precios"
   ]
  },
  {
   "cell_type": "code",
   "execution_count": 9,
   "id": "2b20a323-03e4-48ed-9adb-ad2cbc803805",
   "metadata": {},
   "outputs": [
    {
     "name": "stdout",
     "output_type": "stream",
     "text": [
      "8 80\n"
     ]
    }
   ],
   "source": [
    "precios = [50, 75, 46, 22, 80, 65, 8]\n",
    "print(min(precios), max(precios))"
   ]
  },
  {
   "cell_type": "markdown",
   "id": "53eec293-9240-4121-974d-626096b0013c",
   "metadata": {},
   "source": [
    "## Media / Desviación"
   ]
  },
  {
   "cell_type": "markdown",
   "id": "e4abc070-ca86-4b8e-b178-ea6cbc488613",
   "metadata": {},
   "source": [
    "Escribir un programa que pregunte por una muestra de números, separados por comas, los guarde en una lista y muestre por pantalla su media y desviación típica"
   ]
  },
  {
   "cell_type": "code",
   "execution_count": 10,
   "id": "b9e605d4-4648-459b-9087-e2d21e109d0f",
   "metadata": {},
   "outputs": [
    {
     "name": "stdin",
     "output_type": "stream",
     "text": [
      "Número:  2\n",
      "Número:  4\n",
      "Número:  3\n",
      "Número:  6\n",
      "Número:  5\n",
      "Número:  -1\n"
     ]
    },
    {
     "name": "stdout",
     "output_type": "stream",
     "text": [
      "Media: 4.0\n",
      "Desviación típica: 2.5\n"
     ]
    }
   ],
   "source": [
    "lista = []\n",
    "numero = int(input('Número: '))\n",
    "acum, cont, cuadrados = 0, 0, 0\n",
    "while numero != -1:\n",
    "    lista.append(numero)\n",
    "    acum += numero\n",
    "    cont += 1\n",
    "    cuadrados += pow(numero, 2)\n",
    "    numero = int(input('Número: '))\n",
    "print(f'Media: {acum/cont}')\n",
    "print(f'Desviación típica: {(cuadrados - pow(acum, 2)/cont)/(cont-1)}')"
   ]
  }
 ],
 "metadata": {
  "kernelspec": {
   "display_name": "Python [conda env:base] *",
   "language": "python",
   "name": "conda-base-py"
  },
  "language_info": {
   "codemirror_mode": {
    "name": "ipython",
    "version": 3
   },
   "file_extension": ".py",
   "mimetype": "text/x-python",
   "name": "python",
   "nbconvert_exporter": "python",
   "pygments_lexer": "ipython3",
   "version": "3.12.7"
  }
 },
 "nbformat": 4,
 "nbformat_minor": 5
}
