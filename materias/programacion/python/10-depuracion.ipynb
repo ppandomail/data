{
 "cells": [
  {
   "cell_type": "markdown",
   "id": "c83da0f0-84d5-4084-87ea-4171fb91d03d",
   "metadata": {},
   "source": [
    "# Depuración"
   ]
  },
  {
   "cell_type": "code",
   "execution_count": 2,
   "id": "1f102fd2-fe0d-4a43-a48d-13441647f022",
   "metadata": {},
   "outputs": [
    {
     "name": "stdin",
     "output_type": "stream",
     "text": [
      " Introduce la contraseña:  123\n"
     ]
    },
    {
     "name": "stdout",
     "output_type": "stream",
     "text": [
      "No pasa\n"
     ]
    }
   ],
   "source": [
    "contraseña = input(' Introduce la contraseña: ')  # '' o \"\"\n",
    "if contraseña in ['sesamo']:                      # []\n",
    "    print ('Pasa')\n",
    "else:                                             # else:\n",
    "    print ('No pasa')"
   ]
  },
  {
   "cell_type": "code",
   "execution_count": 3,
   "id": "6f6f4590-ac8e-42da-a611-4609c5e11ca4",
   "metadata": {},
   "outputs": [
    {
     "name": "stdin",
     "output_type": "stream",
     "text": [
      "Introduce la base imponible de la factura:  1234.56\n"
     ]
    },
    {
     "name": "stdout",
     "output_type": "stream",
     "text": [
      "12345.599999999999\n"
     ]
    }
   ],
   "source": [
    "def aplica_iva (base, iva = 21) :\n",
    "    base = base * iva\n",
    "    return base\n",
    "\n",
    "base = float(input ('Introduce la base imponible de la factura: '))  # float\n",
    "iva = 10 # se agrega\n",
    "print(aplica_iva(base, iva)) # se baja"
   ]
  },
  {
   "cell_type": "code",
   "execution_count": 4,
   "id": "0ea819ba-a01e-4b57-9379-5b4eac0fe327",
   "metadata": {},
   "outputs": [
    {
     "ename": "TypeError",
     "evalue": "'tuple' object does not support item assignment",
     "output_type": "error",
     "traceback": [
      "\u001b[0;31m---------------------------------------------------------------------------\u001b[0m",
      "\u001b[0;31mTypeError\u001b[0m                                 Traceback (most recent call last)",
      "Cell \u001b[0;32mIn[4], line 9\u001b[0m\n\u001b[1;32m      6\u001b[0m         u[i\u001b[38;5;241m+\u001b[39m\u001b[38;5;241m1\u001b[39m] \u001b[38;5;241m*\u001b[39m\u001b[38;5;241m=\u001b[39m v[i\u001b[38;5;241m+\u001b[39m\u001b[38;5;241m1\u001b[39m]   \u001b[38;5;66;03m# tupla es inmutable\u001b[39;00m\n\u001b[1;32m      7\u001b[0m     \u001b[38;5;28;01mreturn\u001b[39;00m \u001b[38;5;28msum\u001b[39m(u)\n\u001b[0;32m----> 9\u001b[0m \u001b[38;5;28mprint\u001b[39m(producto_escalar(u, v))\n",
      "Cell \u001b[0;32mIn[4], line 6\u001b[0m, in \u001b[0;36mproducto_escalar\u001b[0;34m(u, v)\u001b[0m\n\u001b[1;32m      4\u001b[0m \u001b[38;5;28;01mdef\u001b[39;00m \u001b[38;5;21mproducto_escalar\u001b[39m(u, v):\n\u001b[1;32m      5\u001b[0m     \u001b[38;5;28;01mfor\u001b[39;00m i \u001b[38;5;129;01min\u001b[39;00m u:\n\u001b[0;32m----> 6\u001b[0m         u[i\u001b[38;5;241m+\u001b[39m\u001b[38;5;241m1\u001b[39m] \u001b[38;5;241m*\u001b[39m\u001b[38;5;241m=\u001b[39m v[i\u001b[38;5;241m+\u001b[39m\u001b[38;5;241m1\u001b[39m]   \u001b[38;5;66;03m# tupla es inmutable\u001b[39;00m\n\u001b[1;32m      7\u001b[0m     \u001b[38;5;28;01mreturn\u001b[39;00m \u001b[38;5;28msum\u001b[39m(u)\n",
      "\u001b[0;31mTypeError\u001b[0m: 'tuple' object does not support item assignment"
     ]
    }
   ],
   "source": [
    "u = (1, 2, 3)\n",
    "v = (4, 5, 6)\n",
    "\n",
    "def producto_escalar(u, v):\n",
    "    for i in u:\n",
    "        u[i+1] *= v[i+1]   # tupla es inmutable\n",
    "    return sum(u)\n",
    "\n",
    "print(producto_escalar(u, v))"
   ]
  },
  {
   "cell_type": "code",
   "execution_count": 5,
   "id": "321249dd-89fb-4646-896b-fb11b5a2c852",
   "metadata": {},
   "outputs": [
    {
     "ename": "KeyError",
     "evalue": "'Pablo'",
     "output_type": "error",
     "traceback": [
      "\u001b[0;31m---------------------------------------------------------------------------\u001b[0m",
      "\u001b[0;31mKeyError\u001b[0m                                  Traceback (most recent call last)",
      "Cell \u001b[0;32mIn[5], line 7\u001b[0m\n\u001b[1;32m      4\u001b[0m     \u001b[38;5;28;01mdel\u001b[39;00m listin[usuario]\n\u001b[1;32m      5\u001b[0m     \u001b[38;5;28;01mreturn\u001b[39;00m listin[usuario]\n\u001b[0;32m----> 7\u001b[0m \u001b[38;5;28mprint\u001b[39m(elimina(listin, \u001b[38;5;124m'\u001b[39m\u001b[38;5;124mPablo\u001b[39m\u001b[38;5;124m'\u001b[39m))\n",
      "Cell \u001b[0;32mIn[5], line 4\u001b[0m, in \u001b[0;36melimina\u001b[0;34m(listin, usuario)\u001b[0m\n\u001b[1;32m      3\u001b[0m \u001b[38;5;28;01mdef\u001b[39;00m \u001b[38;5;21melimina\u001b[39m(listin, usuario) :\n\u001b[0;32m----> 4\u001b[0m     \u001b[38;5;28;01mdel\u001b[39;00m listin[usuario]\n\u001b[1;32m      5\u001b[0m     \u001b[38;5;28;01mreturn\u001b[39;00m listin[usuario]\n",
      "\u001b[0;31mKeyError\u001b[0m: 'Pablo'"
     ]
    }
   ],
   "source": [
    "listin = {'Juan': 123456789, ' Pedro': 987654321}\n",
    "\n",
    "def elimina(listin, usuario) :\n",
    "    del listin[usuario]\n",
    "    return listin[usuario]\n",
    "\n",
    "print(elimina(listin, 'Pablo'))"
   ]
  },
  {
   "cell_type": "code",
   "execution_count": 6,
   "id": "741af6de-78e8-4a41-95e1-fda1a4d9a3ed",
   "metadata": {},
   "outputs": [
    {
     "ename": "TypeError",
     "evalue": "can only concatenate tuple (not \"int\") to tuple",
     "output_type": "error",
     "traceback": [
      "\u001b[0;31m---------------------------------------------------------------------------\u001b[0m",
      "\u001b[0;31mTypeError\u001b[0m                                 Traceback (most recent call last)",
      "Cell \u001b[0;32mIn[6], line 18\u001b[0m\n\u001b[1;32m     15\u001b[0m         producto[i] \u001b[38;5;241m=\u001b[39m \u001b[38;5;28mtuple\u001b[39m(fila)\n\u001b[1;32m     16\u001b[0m     \u001b[38;5;28;01mreturn\u001b[39;00m \u001b[38;5;28mtuple\u001b[39m(producto)\n\u001b[0;32m---> 18\u001b[0m \u001b[38;5;28mprint\u001b[39m(producto(a, b))\n",
      "Cell \u001b[0;32mIn[6], line 12\u001b[0m, in \u001b[0;36mproducto\u001b[0;34m(a, b)\u001b[0m\n\u001b[1;32m     10\u001b[0m \u001b[38;5;28;01mfor\u001b[39;00m j \u001b[38;5;129;01min\u001b[39;00m \u001b[38;5;28mrange\u001b[39m(\u001b[38;5;28mlen\u001b[39m(a[\u001b[38;5;241m0\u001b[39m])):\n\u001b[1;32m     11\u001b[0m     suma \u001b[38;5;241m=\u001b[39m \u001b[38;5;241m0\u001b[39m\n\u001b[0;32m---> 12\u001b[0m     \u001b[38;5;28;01mfor\u001b[39;00m k \u001b[38;5;129;01min\u001b[39;00m \u001b[38;5;28mrange\u001b[39m(\u001b[38;5;28mlen\u001b[39m(a[\u001b[38;5;241m0\u001b[39m]\u001b[38;5;241m+\u001b[39m\u001b[38;5;241m1\u001b[39m)):\n\u001b[1;32m     13\u001b[0m         suma \u001b[38;5;241m+\u001b[39m\u001b[38;5;241m=\u001b[39m a[i][k] \u001b[38;5;241m*\u001b[39m b[k\u001b[38;5;241m+\u001b[39m\u001b[38;5;241m1\u001b[39m][j]\n\u001b[1;32m     14\u001b[0m     fila[j] \u001b[38;5;241m=\u001b[39m suma\n",
      "\u001b[0;31mTypeError\u001b[0m: can only concatenate tuple (not \"int\") to tuple"
     ]
    }
   ],
   "source": [
    "a = ((1, 2, 3),\n",
    "    (3, 2, 1))\n",
    "b = ((1, 2),\n",
    "    (3, 4),\n",
    "    (5, 6))\n",
    "def producto(a, b):\n",
    "    producto = []\n",
    "    for i in range(len(b)):\n",
    "        fila = []\n",
    "        for j in range(len(a[0])):\n",
    "            suma = 0\n",
    "            for k in range(len(a[0]+1)):\n",
    "                suma += a[i][k] * b[k+1][j]\n",
    "            fila[j] = suma\n",
    "        producto[i] = tuple(fila)\n",
    "    return tuple(producto)\n",
    "\n",
    "print(producto(a, b))"
   ]
  }
 ],
 "metadata": {
  "kernelspec": {
   "display_name": "Python [conda env:base] *",
   "language": "python",
   "name": "conda-base-py"
  },
  "language_info": {
   "codemirror_mode": {
    "name": "ipython",
    "version": 3
   },
   "file_extension": ".py",
   "mimetype": "text/x-python",
   "name": "python",
   "nbconvert_exporter": "python",
   "pygments_lexer": "ipython3",
   "version": "3.12.7"
  }
 },
 "nbformat": 4,
 "nbformat_minor": 5
}
